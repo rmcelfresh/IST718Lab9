{
  "nbformat": 4,
  "nbformat_minor": 0,
  "metadata": {
    "colab": {
      "name": "McElfresh_Lab9.ipynb",
      "version": "0.3.2",
      "provenance": [],
      "collapsed_sections": [],
      "include_colab_link": true
    },
    "kernelspec": {
      "name": "python3",
      "display_name": "Python 3"
    }
  },
  "cells": [
    {
      "cell_type": "markdown",
      "metadata": {
        "id": "view-in-github",
        "colab_type": "text"
      },
      "source": [
        "<a href=\"https://colab.research.google.com/github/rmcelfresh/IST718Lab9/blob/master/McElfresh_Lab9.ipynb\" target=\"_parent\"><img src=\"https://colab.research.google.com/assets/colab-badge.svg\" alt=\"Open In Colab\"/></a>"
      ]
    },
    {
      "cell_type": "code",
      "metadata": {
        "id": "O96VPvep5vor",
        "colab_type": "code",
        "outputId": "6f652bbd-acfd-4ed7-d775-2f52d3914bea",
        "colab": {
          "base_uri": "https://localhost:8080/",
          "height": 1020
        }
      },
      "source": [
        "!pip install -q xlrd\n",
        "# import packages for analysis and modeling\n",
        "import pandas as pd  # data frame operations\n",
        "import numpy as np  # arrays and math functions\n",
        "!python3.6 -m pip install scipy==1.2 --upgrade\n",
        "from scipy.stats import uniform  # for training-and-test split\n",
        "import statsmodels.api as sm  # statistical models (including regression)\n",
        "import statsmodels.formula.api as smf  # R-like model specification\n",
        "import matplotlib.pyplot as plt  # 2D plotting\n",
        "\n",
        "import seaborn as sns  # PROVIDES TRELLIS AND SMALL MULTIPLE PLOTTING\n",
        "\n",
        "#from pyvttbl import DataFrame # Anova\n",
        "from scipy import stats\n",
        "from statsmodels.formula.api import ols\n",
        "import scipy.stats as stats\n",
        "from sklearn import linear_model\n",
        "from shapely.geometry import Point, Polygon\n",
        "from sklearn.model_selection import train_test_split\n",
        "from sklearn.linear_model import LinearRegression\n",
        "from sklearn.metrics import r2_score\n",
        "%matplotlib inline"
      ],
      "execution_count": 0,
      "outputs": [
        {
          "output_type": "stream",
          "text": [
            "Collecting scipy==1.2\n",
            "\u001b[?25l  Downloading https://files.pythonhosted.org/packages/67/e6/6d4edaceee6a110ecf6f318482f5229792f143e468b34a631f5a0899f56d/scipy-1.2.0-cp36-cp36m-manylinux1_x86_64.whl (26.6MB)\n",
            "\u001b[K     |████████████████████████████████| 26.6MB 1.9MB/s \n",
            "\u001b[?25hRequirement already satisfied, skipping upgrade: numpy>=1.8.2 in /usr/local/lib/python3.6/dist-packages (from scipy==1.2) (1.16.4)\n",
            "\u001b[31mERROR: albumentations 0.1.12 has requirement imgaug<0.2.7,>=0.2.5, but you'll have imgaug 0.2.9 which is incompatible.\u001b[0m\n",
            "Installing collected packages: scipy\n",
            "  Found existing installation: scipy 1.3.0\n",
            "    Uninstalling scipy-1.3.0:\n",
            "      Successfully uninstalled scipy-1.3.0\n",
            "Successfully installed scipy-1.2.0\n"
          ],
          "name": "stdout"
        }
      ]
    },
    {
      "cell_type": "code",
      "metadata": {
        "id": "9LJeUQ2C6AT7",
        "colab_type": "code",
        "outputId": "70fc7ad4-ad55-437d-d8ec-6f57aa85699e",
        "colab": {
          "base_uri": "https://localhost:8080/",
          "height": 660
        }
      },
      "source": [
        "!pip install mnist\n",
        "!pip install python-mnist"
      ],
      "execution_count": 0,
      "outputs": [
        {
          "output_type": "stream",
          "text": [
            "Requirement already satisfied: mnist in /usr/local/lib/python3.6/dist-packages (0.2.2)\n",
            "Requirement already satisfied: numpy in /usr/local/lib/python3.6/dist-packages (from mnist) (1.16.4)\n",
            "Requirement already satisfied: python-mnist in /usr/local/lib/python3.6/dist-packages (0.6)\n"
          ],
          "name": "stdout"
        }
      ]
    },
    {
      "cell_type": "markdown",
      "metadata": {
        "id": "oHOQX_Xy7Z24",
        "colab_type": "text"
      },
      "source": [
        "Installing the needed files\n",
        "Importing the py file needed to read the fashion mnist docs"
      ]
    },
    {
      "cell_type": "code",
      "metadata": {
        "id": "6lySihkH9UCt",
        "colab_type": "code",
        "outputId": "b6a901bb-dfc3-4e45-8976-0dfb16d39129",
        "colab": {
          "base_uri": "https://localhost:8080/",
          "height": 130
        }
      },
      "source": [
        "import \"content/fashion-mnist/utils/mnist_reader.py\""
      ],
      "execution_count": 0,
      "outputs": [
        {
          "output_type": "error",
          "ename": "SyntaxError",
          "evalue": "ignored",
          "traceback": [
            "\u001b[0;36m  File \u001b[0;32m\"<ipython-input-24-58d5e0f68cb2>\"\u001b[0;36m, line \u001b[0;32m1\u001b[0m\n\u001b[0;31m    import \"content/fashion-mnist/utils/mnist_reader.py\"\u001b[0m\n\u001b[0m                                                       ^\u001b[0m\n\u001b[0;31mSyntaxError\u001b[0m\u001b[0;31m:\u001b[0m invalid syntax\n"
          ]
        }
      ]
    },
    {
      "cell_type": "code",
      "metadata": {
        "id": "GzWq5fM_8WaX",
        "colab_type": "code",
        "outputId": "841c6e58-17e3-4b74-8863-5927fd569d5d",
        "colab": {
          "base_uri": "https://localhost:8080/",
          "height": 131
        }
      },
      "source": [
        "#cloning the git hub dist for fashion mnist\n",
        "!git clone https://github.com/zalandoresearch/fashion-mnist.git\n"
      ],
      "execution_count": 0,
      "outputs": [
        {
          "output_type": "stream",
          "text": [
            "Cloning into 'fashion-mnist'...\n",
            "remote: Enumerating objects: 681, done.\u001b[K\n",
            "remote: Total 681 (delta 0), reused 0 (delta 0), pack-reused 681\u001b[K\n",
            "Receiving objects: 100% (681/681), 105.20 MiB | 62.77 MiB/s, done.\n",
            "Resolving deltas: 100% (393/393), done.\n"
          ],
          "name": "stdout"
        }
      ]
    },
    {
      "cell_type": "code",
      "metadata": {
        "id": "ZGr00Qwn6HuR",
        "colab_type": "code",
        "colab": {}
      },
      "source": [
        "#couldn't figure out how to access this from the nested file so I downloaded and reuploaded the file to the main directory\n",
        "import mnist_reader\n",
        "X_train, y_train = mnist_reader.load_mnist('fashion-mnist/data/fashion', kind='train')\n",
        "X_test, y_test = mnist_reader.load_mnist('fashion-mnist/data/fashion', kind='t10k')\n"
      ],
      "execution_count": 0,
      "outputs": []
    },
    {
      "cell_type": "code",
      "metadata": {
        "id": "mMwVNpTNCYRV",
        "colab_type": "code",
        "outputId": "2cb426b1-e58c-48ec-b7b5-2b218419ef12",
        "colab": {
          "base_uri": "https://localhost:8080/",
          "height": 85
        }
      },
      "source": [
        "#making sure the sizes make sense\n",
        "#x=the pixel detail, y = label\n",
        "print(X_train.shape)\n",
        "print(y_train.shape)\n",
        "print(X_test.shape)\n",
        "print(y_test.shape)"
      ],
      "execution_count": 0,
      "outputs": [
        {
          "output_type": "stream",
          "text": [
            "(60000, 784)\n",
            "(60000,)\n",
            "(10000, 784)\n",
            "(10000,)\n"
          ],
          "name": "stdout"
        }
      ]
    },
    {
      "cell_type": "code",
      "metadata": {
        "id": "bfuP-R56C9as",
        "colab_type": "code",
        "outputId": "a625527a-4dee-4d48-f447-95b6f67a37f1",
        "colab": {
          "base_uri": "https://localhost:8080/",
          "height": 34
        }
      },
      "source": [
        "print('Rows: %d, columns: %d' % (X_train.shape[0], X_train.shape[1]))\n"
      ],
      "execution_count": 0,
      "outputs": [
        {
          "output_type": "stream",
          "text": [
            "Rows: 60000, columns: 784\n"
          ],
          "name": "stdout"
        }
      ]
    },
    {
      "cell_type": "code",
      "metadata": {
        "id": "looLnyGrDAfD",
        "colab_type": "code",
        "outputId": "70961f38-9358-4f2f-8eba-b5b6fe2f9139",
        "colab": {
          "base_uri": "https://localhost:8080/",
          "height": 34
        }
      },
      "source": [
        "print('Rows: %d, columns: %d' % (X_test.shape[0], X_test.shape[1]))\n"
      ],
      "execution_count": 0,
      "outputs": [
        {
          "output_type": "stream",
          "text": [
            "Rows: 10000, columns: 784\n"
          ],
          "name": "stdout"
        }
      ]
    },
    {
      "cell_type": "code",
      "metadata": {
        "id": "V4c4620MDIos",
        "colab_type": "code",
        "outputId": "a312225e-0a86-4777-97e6-32f186884d3e",
        "colab": {
          "base_uri": "https://localhost:8080/",
          "height": 226
        }
      },
      "source": [
        "#looking at one of each type of clothing-- off the bat I think the different types of shirts/tops and different types of shoes will be tough to distingush between\n",
        "\n",
        "fig, ax = plt.subplots(nrows=2, ncols=5, sharex=True, sharey=True,)\n",
        "ax = ax.flatten()\n",
        "for i in range(10):\n",
        "    img = X_train[y_train == i][0].reshape(28, 28)\n",
        "    ax[i].imshow(img, cmap='Greys', interpolation='nearest')\n",
        "\n",
        "ax[0].set_xticks([])\n",
        "ax[0].set_yticks([])\n",
        "plt.tight_layout()\n",
        "# plt.savefig('./figures/mnist_all.png', dpi=300)\n",
        "plt.show()\n"
      ],
      "execution_count": 0,
      "outputs": [
        {
          "output_type": "display_data",
          "data": {
            "image/png": "[encoded data removed]",
            "text/plain": [
              "<Figure size 432x288 with 10 Axes>"
            ]
          },
          "metadata": {
            "tags": []
          }
        }
      ]
    },
    {
      "cell_type": "code",
      "metadata": {
        "id": "lAfP8tI2DVGC",
        "colab_type": "code",
        "outputId": "cb9b11a8-63b7-43f1-a3b3-c13706d74fe5",
        "colab": {
          "base_uri": "https://localhost:8080/",
          "height": 297
        }
      },
      "source": [
        "# VISUALIZE DIFFERENT VARIATIONS OF Sandals\n",
        "\n",
        "fig, ax = plt.subplots(nrows=5, ncols=4, sharex=True, sharey=True,)\n",
        "ax = ax.flatten()\n",
        "for i in range(20):\n",
        "    img = X_train[y_train == 5][i].reshape(28, 28)\n",
        "    ax[i].imshow(img, cmap='Greys', interpolation='nearest')\n",
        "\n",
        "ax[0].set_xticks([])\n",
        "ax[0].set_yticks([])\n",
        "plt.tight_layout()\n",
        "# plt.savefig('./figures/mnist_9.png', dpi=300)\n",
        "plt.show()\n"
      ],
      "execution_count": 0,
      "outputs": [
        {
          "output_type": "display_data",
          "data": {
            "image/png": "[encoded data removed]",
            "text/plain": [
              "<Figure size 432x288 with 20 Axes>"
            ]
          },
          "metadata": {
            "tags": []
          }
        }
      ]
    },
    {
      "cell_type": "code",
      "metadata": {
        "id": "4U-66AYXDouL",
        "colab_type": "code",
        "colab": {}
      },
      "source": [
        "from keras.datasets import mnist\n",
        "from keras.models import Sequential\n",
        "from keras.layers import Dense\n",
        "from keras.layers import Dropout\n",
        "from keras.utils import np_utils\n",
        "import matplotlib.pyplot as plt\n"
      ],
      "execution_count": 0,
      "outputs": []
    },
    {
      "cell_type": "code",
      "metadata": {
        "id": "oPD675jES6cP",
        "colab_type": "code",
        "colab": {}
      },
      "source": [
        "#random forest code adopted from https://www.kaggle.com/atorin/mnist-digit-recognition-with-random-forests\n",
        "from sklearn.ensemble import RandomForestClassifier\n"
      ],
      "execution_count": 0,
      "outputs": []
    },
    {
      "cell_type": "code",
      "metadata": {
        "id": "S1yYe-nqS8tM",
        "colab_type": "code",
        "colab": {}
      },
      "source": [
        "#building my initial classifier\n",
        "rfc = RandomForestClassifier(n_jobs=-1, n_estimators=10)\n"
      ],
      "execution_count": 0,
      "outputs": []
    },
    {
      "cell_type": "code",
      "metadata": {
        "id": "PzXjmIsvS_pZ",
        "colab_type": "code",
        "outputId": "b987926c-102d-409d-f56e-b2f4a5befe45",
        "colab": {
          "base_uri": "https://localhost:8080/",
          "height": 496
        }
      },
      "source": [
        "#fitting the classifier to the training data\n",
        "rfc.fit(X_train, y_train)"
      ],
      "execution_count": 0,
      "outputs": [
        {
          "output_type": "execute_result",
          "data": {
            "text/plain": [
              "RandomForestClassifier(bootstrap=True, class_weight=None, criterion='gini',\n",
              "                       max_depth=None, max_features='auto', max_leaf_nodes=None,\n",
              "                       min_impurity_decrease=0.0, min_impurity_split=None,\n",
              "                       min_samples_leaf=1, min_samples_split=2,\n",
              "                       min_weight_fraction_leaf=0.0, n_estimators=10, n_jobs=-1,\n",
              "                       oob_score=False, random_state=None, verbose=0,\n",
              "                       warm_start=False)"
            ]
          },
          "metadata": {
            "tags": []
          },
          "execution_count": 48
        }
      ]
    },
    {
      "cell_type": "code",
      "metadata": {
        "id": "GzHux1jiTEl6",
        "colab_type": "code",
        "outputId": "89299243-7c50-4017-c218-e9ec8d2e4ecb",
        "colab": {
          "base_uri": "https://localhost:8080/",
          "height": 34
        }
      },
      "source": [
        "#scoring the classifier on the test data--not bad for no tuning\n",
        "rfc.score(X_test, y_test)\n",
        "#0.8556"
      ],
      "execution_count": 0,
      "outputs": [
        {
          "output_type": "execute_result",
          "data": {
            "text/plain": [
              "0.8556"
            ]
          },
          "metadata": {
            "tags": []
          },
          "execution_count": 49
        }
      ]
    },
    {
      "cell_type": "markdown",
      "metadata": {
        "id": "68Z0D94h8D0t",
        "colab_type": "text"
      },
      "source": [
        "next I tried several different classifier set ups to see what worked best considering processing time"
      ]
    },
    {
      "cell_type": "code",
      "metadata": {
        "id": "CZn6tQrbDjzi",
        "colab_type": "code",
        "outputId": "16631ad9-d0e6-4347-924f-0b6589a86e6a",
        "colab": {
          "base_uri": "https://localhost:8080/",
          "height": 34
        }
      },
      "source": [
        "rfc = RandomForestClassifier(n_jobs=-1, n_estimators=20)\n",
        "rfc.fit(X_train, y_train)\n",
        "rfc.score(X_test, y_test)\n",
        "#0.8671"
      ],
      "execution_count": 0,
      "outputs": [
        {
          "output_type": "execute_result",
          "data": {
            "text/plain": [
              "0.8671"
            ]
          },
          "metadata": {
            "tags": []
          },
          "execution_count": 53
        }
      ]
    },
    {
      "cell_type": "code",
      "metadata": {
        "id": "WPP12IUZUmTD",
        "colab_type": "code",
        "outputId": "31b1482f-b6c6-4510-c35d-354ac09b4ed1",
        "colab": {
          "base_uri": "https://localhost:8080/",
          "height": 34
        }
      },
      "source": [
        "rfc = RandomForestClassifier(n_jobs=-1, n_estimators=50)\n",
        "rfc.fit(X_train, y_train)\n",
        "rfc.score(X_test, y_test)\n",
        "#0.8731 best mix of time to run and predictive power"
      ],
      "execution_count": 0,
      "outputs": [
        {
          "output_type": "execute_result",
          "data": {
            "text/plain": [
              "0.8731"
            ]
          },
          "metadata": {
            "tags": []
          },
          "execution_count": 54
        }
      ]
    },
    {
      "cell_type": "code",
      "metadata": {
        "id": "XjrznGk0Uyeq",
        "colab_type": "code",
        "outputId": "995dacda-77db-4ae1-b6f8-fe6546ff4aaa",
        "colab": {
          "base_uri": "https://localhost:8080/",
          "height": 34
        }
      },
      "source": [
        "rfc = RandomForestClassifier(n_jobs=-1, n_estimators=100)\n",
        "rfc.fit(X_train, y_train)\n",
        "rfc.score(X_test, y_test)\n",
        "#0.8752 --marginal improvement for significantly longer processing time"
      ],
      "execution_count": 0,
      "outputs": [
        {
          "output_type": "execute_result",
          "data": {
            "text/plain": [
              "0.8752"
            ]
          },
          "metadata": {
            "tags": []
          },
          "execution_count": 55
        }
      ]
    },
    {
      "cell_type": "code",
      "metadata": {
        "id": "dEZjVFE1Vk13",
        "colab_type": "code",
        "outputId": "94c0b830-e66c-44cd-fa78-7e62b8e09d85",
        "colab": {
          "base_uri": "https://localhost:8080/",
          "height": 34
        }
      },
      "source": [
        "#trying to manipulate other variables\n",
        "rfc = RandomForestClassifier(n_jobs=-1, n_estimators=50, criterion = \"entropy\")\n",
        "rfc.fit(X_train, y_train)\n",
        "rfc.score(X_test, y_test)\n",
        "#0.8768 best mix of time to run and predictive power"
      ],
      "execution_count": 0,
      "outputs": [
        {
          "output_type": "execute_result",
          "data": {
            "text/plain": [
              "0.8775"
            ]
          },
          "metadata": {
            "tags": []
          },
          "execution_count": 330
        }
      ]
    },
    {
      "cell_type": "code",
      "metadata": {
        "id": "FTZha1q549pL",
        "colab_type": "code",
        "outputId": "320ef329-992d-4319-e47e-81a78a52f2c7",
        "colab": {
          "base_uri": "https://localhost:8080/",
          "height": 34
        }
      },
      "source": [
        "#building my confusion matrix\n",
        "predictions = rfc.predict(X_test)\n",
        "predictions[4]\n",
        "np.argmax(predictions[0])\n",
        "test_labels[0]\n",
        "\n",
        "\n",
        "print(predictions)"
      ],
      "execution_count": 0,
      "outputs": [
        {
          "output_type": "stream",
          "text": [
            "[9 2 1 ... 8 1 5]\n"
          ],
          "name": "stdout"
        }
      ]
    },
    {
      "cell_type": "code",
      "metadata": {
        "id": "Jl62Ru3O40Oj",
        "colab_type": "code",
        "colab": {}
      },
      "source": [
        "#didn't end up using this here--used below\n",
        "Image=[]\n",
        "Pred=[]\n",
        "TrueLabel=[]\n",
        "Images=np.array([np.arange(10000)]*1).T\n",
        "for i in Images:\n",
        "    Image.append(i)\n",
        "    predictions[i]\n",
        "    TrueLabel.append(y_test[i])"
      ],
      "execution_count": 0,
      "outputs": []
    },
    {
      "cell_type": "code",
      "metadata": {
        "id": "oozKAQja6NjJ",
        "colab_type": "code",
        "outputId": "443842a4-63d2-49c2-fb7a-b42d2407feaa",
        "colab": {
          "base_uri": "https://localhost:8080/",
          "height": 34
        }
      },
      "source": [
        "print(len(y_test),\n",
        "len(predictions),\n",
        "len(TrueLabel))"
      ],
      "execution_count": 0,
      "outputs": [
        {
          "output_type": "stream",
          "text": [
            "10000 10000 10000\n"
          ],
          "name": "stdout"
        }
      ]
    },
    {
      "cell_type": "code",
      "metadata": {
        "id": "s0Kd9vTW5nQ9",
        "colab_type": "code",
        "outputId": "6076b686-bf0f-43c7-8640-5c19c53b2091",
        "colab": {
          "base_uri": "https://localhost:8080/",
          "height": 204
        }
      },
      "source": [
        "#building dataframe for confusion matrix\n",
        "d = {'Image':Image, \"Prediction\": predictions, \"TrueLabel\": y_test}\n",
        "df= pd.DataFrame(d)\n",
        "df.head()"
      ],
      "execution_count": 0,
      "outputs": [
        {
          "output_type": "execute_result",
          "data": {
            "text/html": [
              "<div>\n",
              "<style scoped>\n",
              "    .dataframe tbody tr th:only-of-type {\n",
              "        vertical-align: middle;\n",
              "    }\n",
              "\n",
              "    .dataframe tbody tr th {\n",
              "        vertical-align: top;\n",
              "    }\n",
              "\n",
              "    .dataframe thead th {\n",
              "        text-align: right;\n",
              "    }\n",
              "</style>\n",
              "<table border=\"1\" class=\"dataframe\">\n",
              "  <thead>\n",
              "    <tr style=\"text-align: right;\">\n",
              "      <th></th>\n",
              "      <th>Image</th>\n",
              "      <th>Prediction</th>\n",
              "      <th>TrueLabel</th>\n",
              "    </tr>\n",
              "  </thead>\n",
              "  <tbody>\n",
              "    <tr>\n",
              "      <th>0</th>\n",
              "      <td>[0]</td>\n",
              "      <td>9</td>\n",
              "      <td>9</td>\n",
              "    </tr>\n",
              "    <tr>\n",
              "      <th>1</th>\n",
              "      <td>[1]</td>\n",
              "      <td>2</td>\n",
              "      <td>2</td>\n",
              "    </tr>\n",
              "    <tr>\n",
              "      <th>2</th>\n",
              "      <td>[2]</td>\n",
              "      <td>1</td>\n",
              "      <td>1</td>\n",
              "    </tr>\n",
              "    <tr>\n",
              "      <th>3</th>\n",
              "      <td>[3]</td>\n",
              "      <td>1</td>\n",
              "      <td>1</td>\n",
              "    </tr>\n",
              "    <tr>\n",
              "      <th>4</th>\n",
              "      <td>[4]</td>\n",
              "      <td>6</td>\n",
              "      <td>6</td>\n",
              "    </tr>\n",
              "  </tbody>\n",
              "</table>\n",
              "</div>"
            ],
            "text/plain": [
              "  Image  Prediction  TrueLabel\n",
              "0   [0]           9          9\n",
              "1   [1]           2          2\n",
              "2   [2]           1          1\n",
              "3   [3]           1          1\n",
              "4   [4]           6          6"
            ]
          },
          "metadata": {
            "tags": []
          },
          "execution_count": 341
        }
      ]
    },
    {
      "cell_type": "code",
      "metadata": {
        "id": "vwjh3J_U6iAv",
        "colab_type": "code",
        "colab": {}
      },
      "source": [
        "df.to_csv('RandomForestfinalPred.csv')"
      ],
      "execution_count": 0,
      "outputs": []
    },
    {
      "cell_type": "code",
      "metadata": {
        "id": "r564lCvsmNgB",
        "colab_type": "code",
        "colab": {}
      },
      "source": [
        "#tensor flow code adopted from https://www.tensorflow.org/tutorials/keras/basic_classification"
      ],
      "execution_count": 0,
      "outputs": []
    },
    {
      "cell_type": "code",
      "metadata": {
        "id": "0J44zjcykUwB",
        "colab_type": "code",
        "outputId": "20562ce0-5a69-4868-de08-3e70ac426a1c",
        "colab": {
          "base_uri": "https://localhost:8080/",
          "height": 34
        }
      },
      "source": [
        "from __future__ import absolute_import, division, print_function\n",
        "\n",
        "# TensorFlow and tf.keras\n",
        "import tensorflow as tf\n",
        "from tensorflow import keras\n",
        "\n",
        "# Helper libraries\n",
        "import numpy as np\n",
        "import matplotlib.pyplot as plt\n",
        "\n",
        "print(tf.__version__)\n"
      ],
      "execution_count": 0,
      "outputs": [
        {
          "output_type": "stream",
          "text": [
            "1.13.1\n"
          ],
          "name": "stdout"
        }
      ]
    },
    {
      "cell_type": "code",
      "metadata": {
        "id": "5zaUuCS2j5_R",
        "colab_type": "code",
        "outputId": "17daeba6-aba2-41f0-a8f9-c6d6a624cb41",
        "colab": {
          "base_uri": "https://localhost:8080/",
          "height": 333
        }
      },
      "source": [
        "#pulling in the same data as before but from a different source--not really necessary\n",
        "\n",
        "fashion_mnist = keras.datasets.fashion_mnist\n",
        "\n",
        "(train_images, train_labels), (test_images, test_labels) = fashion_mnist.load_data()\n"
      ],
      "execution_count": 0,
      "outputs": [
        {
          "output_type": "stream",
          "text": [
            "Downloading data from https://storage.googleapis.com/tensorflow/tf-keras-datasets/train-labels-idx1-ubyte.gz\n",
            "32768/29515 [=================================] - 0s 0us/step\n",
            "Downloading data from https://storage.googleapis.com/tensorflow/tf-keras-datasets/train-images-idx3-ubyte.gz\n",
            "26427392/26421880 [==============================] - 0s 0us/step\n",
            "Downloading data from https://storage.googleapis.com/tensorflow/tf-keras-datasets/t10k-labels-idx1-ubyte.gz\n",
            "8192/5148 [===============================================] - 0s 0us/step\n",
            "Downloading data from https://storage.googleapis.com/tensorflow/tf-keras-datasets/t10k-images-idx3-ubyte.gz\n",
            "4423680/4422102 [==============================] - 0s 0us/step\n"
          ],
          "name": "stdout"
        }
      ]
    },
    {
      "cell_type": "code",
      "metadata": {
        "id": "mxqT1CZXkajM",
        "colab_type": "code",
        "colab": {}
      },
      "source": [
        "#storing the class names to use later\n",
        "class_names = ['T-shirt/top', 'Trouser', 'Pullover', 'Dress', 'Coat', \n",
        "               'Sandal', 'Shirt', 'Sneaker', 'Bag', 'Ankle boot']"
      ],
      "execution_count": 0,
      "outputs": []
    },
    {
      "cell_type": "code",
      "metadata": {
        "id": "VxY26pB0khDu",
        "colab_type": "code",
        "outputId": "e4840f5a-37be-478d-9a48-7cae429320af",
        "colab": {
          "base_uri": "https://localhost:8080/",
          "height": 51
        }
      },
      "source": [
        "#again confirming my table sizes=looks right (28x28 is pixel size of each image)\n",
        "print(train_images.shape)\n",
        "print(len(train_labels))\n"
      ],
      "execution_count": 0,
      "outputs": [
        {
          "output_type": "stream",
          "text": [
            "(60000, 28, 28)\n",
            "60000\n"
          ],
          "name": "stdout"
        }
      ]
    },
    {
      "cell_type": "code",
      "metadata": {
        "id": "lrJWcR-6kolW",
        "colab_type": "code",
        "outputId": "11ac1421-f1bf-47fc-8444-68919e19eee1",
        "colab": {
          "base_uri": "https://localhost:8080/",
          "height": 51
        }
      },
      "source": [
        "print(test_images.shape)\n",
        "print(len(test_labels))"
      ],
      "execution_count": 0,
      "outputs": [
        {
          "output_type": "stream",
          "text": [
            "(10000, 28, 28)\n",
            "10000\n"
          ],
          "name": "stdout"
        }
      ]
    },
    {
      "cell_type": "code",
      "metadata": {
        "id": "PiOXPL-Ekwr8",
        "colab_type": "code",
        "outputId": "f4e24152-c735-4b4f-9406-11cd36ed78a0",
        "colab": {
          "base_uri": "https://localhost:8080/",
          "height": 269
        }
      },
      "source": [
        "#demonstrating what the pics look like in terms of pixel darkness--these will be changed to B&W for actual processing\n",
        "plt.figure()\n",
        "plt.imshow(train_images[0])\n",
        "plt.colorbar()\n",
        "plt.grid(False)\n",
        "plt.show()"
      ],
      "execution_count": 0,
      "outputs": [
        {
          "output_type": "display_data",
          "data": {
            "image/png": "[encoded data removed]",
            "text/plain": [
              "<Figure size 432x288 with 2 Axes>"
            ]
          },
          "metadata": {
            "tags": []
          }
        }
      ]
    },
    {
      "cell_type": "code",
      "metadata": {
        "id": "MYPagXhHkzxt",
        "colab_type": "code",
        "colab": {}
      },
      "source": [
        "train_images = train_images / 255.0\n",
        "\n",
        "test_images = test_images / 255.0"
      ],
      "execution_count": 0,
      "outputs": []
    },
    {
      "cell_type": "code",
      "metadata": {
        "id": "ZLk7boIak2x1",
        "colab_type": "code",
        "outputId": "0448bc36-de6e-4bdb-ea4c-479df4b37fc3",
        "colab": {
          "base_uri": "https://localhost:8080/",
          "height": 592
        }
      },
      "source": [
        "#looking at an assortment of different varities of clothing included in the dataset\n",
        "plt.figure(figsize=(10,10))\n",
        "for i in range(25):\n",
        "    plt.subplot(5,5,i+1)\n",
        "    plt.xticks([])\n",
        "    plt.yticks([])\n",
        "    plt.grid(False)\n",
        "    plt.imshow(train_images[i], cmap=plt.cm.binary)\n",
        "    plt.xlabel(class_names[train_labels[i]])\n",
        "plt.show()"
      ],
      "execution_count": 0,
      "outputs": [
        {
          "output_type": "display_data",
          "data": {
            "image/png": "[encoded data removed]",
            "text/plain": [
              "<Figure size 720x720 with 25 Axes>"
            ]
          },
          "metadata": {
            "tags": []
          }
        }
      ]
    },
    {
      "cell_type": "code",
      "metadata": {
        "id": "0PFEYBQYk6y7",
        "colab_type": "code",
        "colab": {}
      },
      "source": [
        "#building my model\n",
        "\n",
        "model = keras.Sequential([\n",
        "    keras.layers.Flatten(input_shape=(28, 28)),\n",
        "    keras.layers.Dense(128, activation=tf.nn.relu),\n",
        "    keras.layers.Dense(10, activation=tf.nn.softmax)\n",
        "])"
      ],
      "execution_count": 0,
      "outputs": []
    },
    {
      "cell_type": "code",
      "metadata": {
        "id": "gxjtXMtAk-8X",
        "colab_type": "code",
        "colab": {}
      },
      "source": [
        "#compliling the model\n",
        "model.compile(optimizer='adam', \n",
        "              loss='sparse_categorical_crossentropy',\n",
        "              metrics=['accuracy'])"
      ],
      "execution_count": 0,
      "outputs": []
    },
    {
      "cell_type": "code",
      "metadata": {
        "id": "JoYT6g9ylBCy",
        "colab_type": "code",
        "outputId": "5abb09aa-020c-43b8-f96e-dc9b98d6605f",
        "colab": {
          "base_uri": "https://localhost:8080/",
          "height": 494
        }
      },
      "source": [
        "#initial run w/ ten epochs\n",
        "model.fit(train_images, train_labels, epochs=10)\n"
      ],
      "execution_count": 0,
      "outputs": [
        {
          "output_type": "stream",
          "text": [
            "Epoch 1/10\n",
            "60000/60000 [==============================] - 7s 123us/sample - loss: 0.2825 - acc: 0.8960\n",
            "Epoch 2/10\n",
            "60000/60000 [==============================] - 7s 111us/sample - loss: 0.2730 - acc: 0.8989\n",
            "Epoch 3/10\n",
            "60000/60000 [==============================] - 7s 109us/sample - loss: 0.2600 - acc: 0.9033\n",
            "Epoch 4/10\n",
            "60000/60000 [==============================] - 7s 110us/sample - loss: 0.2507 - acc: 0.9070\n",
            "Epoch 5/10\n",
            "60000/60000 [==============================] - 7s 111us/sample - loss: 0.2415 - acc: 0.9082\n",
            "Epoch 6/10\n",
            "60000/60000 [==============================] - 6s 108us/sample - loss: 0.2346 - acc: 0.9120\n",
            "Epoch 7/10\n",
            "60000/60000 [==============================] - 7s 110us/sample - loss: 0.2268 - acc: 0.9138\n",
            "Epoch 8/10\n",
            "60000/60000 [==============================] - 7s 110us/sample - loss: 0.2183 - acc: 0.9169\n",
            "Epoch 9/10\n",
            "60000/60000 [==============================] - 7s 110us/sample - loss: 0.2118 - acc: 0.9203\n",
            "Epoch 10/10\n",
            "60000/60000 [==============================] - 7s 110us/sample - loss: 0.2068 - acc: 0.9215\n"
          ],
          "name": "stdout"
        },
        {
          "output_type": "execute_result",
          "data": {
            "text/plain": [
              "<tensorflow.python.keras.callbacks.History at 0x7fc23a19c278>"
            ]
          },
          "metadata": {
            "tags": []
          },
          "execution_count": 205
        }
      ]
    },
    {
      "cell_type": "code",
      "metadata": {
        "id": "zwE9x8nnpBwl",
        "colab_type": "code",
        "outputId": "1e853815-7755-486d-b3d8-77d8da643111",
        "colab": {
          "base_uri": "https://localhost:8080/",
          "height": 10234
        }
      },
      "source": [
        "#second run with 300 epochs\n",
        "history  = model.fit(train_images, train_labels, validation_data=(test_images,test_labels), epochs=300, batch_size=1000, verbose=2)\n"
      ],
      "execution_count": 0,
      "outputs": [
        {
          "output_type": "stream",
          "text": [
            "Train on 60000 samples, validate on 10000 samples\n",
            "Epoch 1/300\n",
            " - 2s - loss: 0.1768 - acc: 0.9338 - val_loss: 0.3173 - val_acc: 0.8953\n",
            "Epoch 2/300\n",
            " - 1s - loss: 0.1634 - acc: 0.9395 - val_loss: 0.3179 - val_acc: 0.8946\n",
            "Epoch 3/300\n",
            " - 1s - loss: 0.1616 - acc: 0.9402 - val_loss: 0.3186 - val_acc: 0.8940\n",
            "Epoch 4/300\n",
            " - 1s - loss: 0.1600 - acc: 0.9409 - val_loss: 0.3184 - val_acc: 0.8944\n",
            "Epoch 5/300\n",
            " - 1s - loss: 0.1590 - acc: 0.9408 - val_loss: 0.3195 - val_acc: 0.8936\n",
            "Epoch 6/300\n",
            " - 1s - loss: 0.1578 - acc: 0.9411 - val_loss: 0.3190 - val_acc: 0.8941\n",
            "Epoch 7/300\n",
            " - 1s - loss: 0.1571 - acc: 0.9423 - val_loss: 0.3197 - val_acc: 0.8947\n",
            "Epoch 8/300\n",
            " - 1s - loss: 0.1561 - acc: 0.9426 - val_loss: 0.3192 - val_acc: 0.8945\n",
            "Epoch 9/300\n",
            " - 1s - loss: 0.1555 - acc: 0.9426 - val_loss: 0.3185 - val_acc: 0.8932\n",
            "Epoch 10/300\n",
            " - 1s - loss: 0.1548 - acc: 0.9426 - val_loss: 0.3198 - val_acc: 0.8951\n",
            "Epoch 11/300\n",
            " - 1s - loss: 0.1541 - acc: 0.9434 - val_loss: 0.3206 - val_acc: 0.8935\n",
            "Epoch 12/300\n",
            " - 1s - loss: 0.1535 - acc: 0.9431 - val_loss: 0.3222 - val_acc: 0.8951\n",
            "Epoch 13/300\n",
            " - 1s - loss: 0.1528 - acc: 0.9439 - val_loss: 0.3204 - val_acc: 0.8942\n",
            "Epoch 14/300\n",
            " - 1s - loss: 0.1521 - acc: 0.9437 - val_loss: 0.3201 - val_acc: 0.8953\n",
            "Epoch 15/300\n",
            " - 1s - loss: 0.1514 - acc: 0.9445 - val_loss: 0.3205 - val_acc: 0.8942\n",
            "Epoch 16/300\n",
            " - 1s - loss: 0.1509 - acc: 0.9446 - val_loss: 0.3202 - val_acc: 0.8947\n",
            "Epoch 17/300\n",
            " - 1s - loss: 0.1504 - acc: 0.9444 - val_loss: 0.3217 - val_acc: 0.8948\n",
            "Epoch 18/300\n",
            " - 1s - loss: 0.1499 - acc: 0.9449 - val_loss: 0.3207 - val_acc: 0.8939\n",
            "Epoch 19/300\n",
            " - 1s - loss: 0.1488 - acc: 0.9454 - val_loss: 0.3216 - val_acc: 0.8939\n",
            "Epoch 20/300\n",
            " - 1s - loss: 0.1480 - acc: 0.9457 - val_loss: 0.3226 - val_acc: 0.8937\n",
            "Epoch 21/300\n",
            " - 1s - loss: 0.1480 - acc: 0.9457 - val_loss: 0.3221 - val_acc: 0.8940\n",
            "Epoch 22/300\n",
            " - 1s - loss: 0.1471 - acc: 0.9458 - val_loss: 0.3224 - val_acc: 0.8940\n",
            "Epoch 23/300\n",
            " - 1s - loss: 0.1462 - acc: 0.9467 - val_loss: 0.3242 - val_acc: 0.8936\n",
            "Epoch 24/300\n",
            " - 1s - loss: 0.1455 - acc: 0.9473 - val_loss: 0.3225 - val_acc: 0.8934\n",
            "Epoch 25/300\n",
            " - 1s - loss: 0.1446 - acc: 0.9473 - val_loss: 0.3245 - val_acc: 0.8942\n",
            "Epoch 26/300\n",
            " - 1s - loss: 0.1445 - acc: 0.9474 - val_loss: 0.3241 - val_acc: 0.8933\n",
            "Epoch 27/300\n",
            " - 1s - loss: 0.1433 - acc: 0.9477 - val_loss: 0.3246 - val_acc: 0.8940\n",
            "Epoch 28/300\n",
            " - 1s - loss: 0.1429 - acc: 0.9477 - val_loss: 0.3251 - val_acc: 0.8950\n",
            "Epoch 29/300\n",
            " - 1s - loss: 0.1417 - acc: 0.9487 - val_loss: 0.3254 - val_acc: 0.8932\n",
            "Epoch 30/300\n",
            " - 1s - loss: 0.1410 - acc: 0.9486 - val_loss: 0.3257 - val_acc: 0.8932\n",
            "Epoch 31/300\n",
            " - 1s - loss: 0.1403 - acc: 0.9486 - val_loss: 0.3274 - val_acc: 0.8930\n",
            "Epoch 32/300\n",
            " - 1s - loss: 0.1398 - acc: 0.9494 - val_loss: 0.3265 - val_acc: 0.8936\n",
            "Epoch 33/300\n",
            " - 1s - loss: 0.1389 - acc: 0.9497 - val_loss: 0.3288 - val_acc: 0.8949\n",
            "Epoch 34/300\n",
            " - 1s - loss: 0.1381 - acc: 0.9500 - val_loss: 0.3273 - val_acc: 0.8942\n",
            "Epoch 35/300\n",
            " - 1s - loss: 0.1385 - acc: 0.9504 - val_loss: 0.3286 - val_acc: 0.8942\n",
            "Epoch 36/300\n",
            " - 1s - loss: 0.1364 - acc: 0.9504 - val_loss: 0.3297 - val_acc: 0.8947\n",
            "Epoch 37/300\n",
            " - 1s - loss: 0.1353 - acc: 0.9513 - val_loss: 0.3283 - val_acc: 0.8948\n",
            "Epoch 38/300\n",
            " - 1s - loss: 0.1351 - acc: 0.9520 - val_loss: 0.3328 - val_acc: 0.8936\n",
            "Epoch 39/300\n",
            " - 1s - loss: 0.1341 - acc: 0.9521 - val_loss: 0.3330 - val_acc: 0.8934\n",
            "Epoch 40/300\n",
            " - 1s - loss: 0.1333 - acc: 0.9523 - val_loss: 0.3344 - val_acc: 0.8938\n",
            "Epoch 41/300\n",
            " - 1s - loss: 0.1323 - acc: 0.9527 - val_loss: 0.3329 - val_acc: 0.8948\n",
            "Epoch 42/300\n",
            " - 1s - loss: 0.1315 - acc: 0.9529 - val_loss: 0.3343 - val_acc: 0.8948\n",
            "Epoch 43/300\n",
            " - 1s - loss: 0.1306 - acc: 0.9530 - val_loss: 0.3353 - val_acc: 0.8938\n",
            "Epoch 44/300\n",
            " - 1s - loss: 0.1295 - acc: 0.9543 - val_loss: 0.3332 - val_acc: 0.8946\n",
            "Epoch 45/300\n",
            " - 1s - loss: 0.1302 - acc: 0.9535 - val_loss: 0.3374 - val_acc: 0.8948\n",
            "Epoch 46/300\n",
            " - 1s - loss: 0.1285 - acc: 0.9542 - val_loss: 0.3358 - val_acc: 0.8954\n",
            "Epoch 47/300\n",
            " - 1s - loss: 0.1276 - acc: 0.9553 - val_loss: 0.3428 - val_acc: 0.8922\n",
            "Epoch 48/300\n",
            " - 1s - loss: 0.1260 - acc: 0.9556 - val_loss: 0.3365 - val_acc: 0.8950\n",
            "Epoch 49/300\n",
            " - 1s - loss: 0.1253 - acc: 0.9560 - val_loss: 0.3379 - val_acc: 0.8946\n",
            "Epoch 50/300\n",
            " - 1s - loss: 0.1238 - acc: 0.9567 - val_loss: 0.3399 - val_acc: 0.8934\n",
            "Epoch 51/300\n",
            " - 1s - loss: 0.1231 - acc: 0.9566 - val_loss: 0.3420 - val_acc: 0.8942\n",
            "Epoch 52/300\n",
            " - 1s - loss: 0.1218 - acc: 0.9572 - val_loss: 0.3428 - val_acc: 0.8939\n",
            "Epoch 53/300\n",
            " - 1s - loss: 0.1213 - acc: 0.9578 - val_loss: 0.3424 - val_acc: 0.8936\n",
            "Epoch 54/300\n",
            " - 1s - loss: 0.1203 - acc: 0.9579 - val_loss: 0.3472 - val_acc: 0.8938\n",
            "Epoch 55/300\n",
            " - 1s - loss: 0.1198 - acc: 0.9580 - val_loss: 0.3489 - val_acc: 0.8937\n",
            "Epoch 56/300\n",
            " - 1s - loss: 0.1186 - acc: 0.9586 - val_loss: 0.3437 - val_acc: 0.8943\n",
            "Epoch 57/300\n",
            " - 1s - loss: 0.1179 - acc: 0.9590 - val_loss: 0.3498 - val_acc: 0.8952\n",
            "Epoch 58/300\n",
            " - 1s - loss: 0.1163 - acc: 0.9600 - val_loss: 0.3483 - val_acc: 0.8943\n",
            "Epoch 59/300\n",
            " - 1s - loss: 0.1151 - acc: 0.9603 - val_loss: 0.3520 - val_acc: 0.8916\n",
            "Epoch 60/300\n",
            " - 1s - loss: 0.1151 - acc: 0.9601 - val_loss: 0.3535 - val_acc: 0.8918\n",
            "Epoch 61/300\n",
            " - 1s - loss: 0.1136 - acc: 0.9604 - val_loss: 0.3522 - val_acc: 0.8942\n",
            "Epoch 62/300\n",
            " - 1s - loss: 0.1128 - acc: 0.9614 - val_loss: 0.3529 - val_acc: 0.8937\n",
            "Epoch 63/300\n",
            " - 1s - loss: 0.1116 - acc: 0.9614 - val_loss: 0.3566 - val_acc: 0.8941\n",
            "Epoch 64/300\n",
            " - 1s - loss: 0.1116 - acc: 0.9612 - val_loss: 0.3536 - val_acc: 0.8934\n",
            "Epoch 65/300\n",
            " - 1s - loss: 0.1092 - acc: 0.9627 - val_loss: 0.3576 - val_acc: 0.8937\n",
            "Epoch 66/300\n",
            " - 1s - loss: 0.1083 - acc: 0.9624 - val_loss: 0.3624 - val_acc: 0.8901\n",
            "Epoch 67/300\n",
            " - 1s - loss: 0.1082 - acc: 0.9625 - val_loss: 0.3605 - val_acc: 0.8937\n",
            "Epoch 68/300\n",
            " - 1s - loss: 0.1057 - acc: 0.9639 - val_loss: 0.3589 - val_acc: 0.8956\n",
            "Epoch 69/300\n",
            " - 1s - loss: 0.1051 - acc: 0.9638 - val_loss: 0.3608 - val_acc: 0.8945\n",
            "Epoch 70/300\n",
            " - 1s - loss: 0.1049 - acc: 0.9639 - val_loss: 0.3624 - val_acc: 0.8926\n",
            "Epoch 71/300\n",
            " - 1s - loss: 0.1034 - acc: 0.9641 - val_loss: 0.3592 - val_acc: 0.8940\n",
            "Epoch 72/300\n",
            " - 1s - loss: 0.1020 - acc: 0.9658 - val_loss: 0.3779 - val_acc: 0.8922\n",
            "Epoch 73/300\n",
            " - 1s - loss: 0.1018 - acc: 0.9654 - val_loss: 0.3653 - val_acc: 0.8944\n",
            "Epoch 74/300\n",
            " - 1s - loss: 0.1011 - acc: 0.9651 - val_loss: 0.3635 - val_acc: 0.8950\n",
            "Epoch 75/300\n",
            " - 1s - loss: 0.0994 - acc: 0.9661 - val_loss: 0.3695 - val_acc: 0.8934\n",
            "Epoch 76/300\n",
            " - 1s - loss: 0.0975 - acc: 0.9671 - val_loss: 0.3683 - val_acc: 0.8931\n",
            "Epoch 77/300\n",
            " - 1s - loss: 0.0968 - acc: 0.9680 - val_loss: 0.3722 - val_acc: 0.8941\n",
            "Epoch 78/300\n",
            " - 1s - loss: 0.0947 - acc: 0.9682 - val_loss: 0.3739 - val_acc: 0.8922\n",
            "Epoch 79/300\n",
            " - 1s - loss: 0.0945 - acc: 0.9689 - val_loss: 0.3725 - val_acc: 0.8933\n",
            "Epoch 80/300\n",
            " - 1s - loss: 0.0943 - acc: 0.9681 - val_loss: 0.3797 - val_acc: 0.8924\n",
            "Epoch 81/300\n",
            " - 1s - loss: 0.0936 - acc: 0.9690 - val_loss: 0.3750 - val_acc: 0.8924\n",
            "Epoch 82/300\n",
            " - 1s - loss: 0.0920 - acc: 0.9689 - val_loss: 0.3818 - val_acc: 0.8926\n",
            "Epoch 83/300\n",
            " - 1s - loss: 0.0915 - acc: 0.9690 - val_loss: 0.3795 - val_acc: 0.8921\n",
            "Epoch 84/300\n",
            " - 1s - loss: 0.0911 - acc: 0.9693 - val_loss: 0.3832 - val_acc: 0.8925\n",
            "Epoch 85/300\n",
            " - 1s - loss: 0.0887 - acc: 0.9705 - val_loss: 0.3838 - val_acc: 0.8924\n",
            "Epoch 86/300\n",
            " - 1s - loss: 0.0872 - acc: 0.9714 - val_loss: 0.3806 - val_acc: 0.8936\n",
            "Epoch 87/300\n",
            " - 1s - loss: 0.0856 - acc: 0.9718 - val_loss: 0.3883 - val_acc: 0.8936\n",
            "Epoch 88/300\n",
            " - 1s - loss: 0.0864 - acc: 0.9710 - val_loss: 0.3870 - val_acc: 0.8932\n",
            "Epoch 89/300\n",
            " - 1s - loss: 0.0841 - acc: 0.9722 - val_loss: 0.3881 - val_acc: 0.8928\n",
            "Epoch 90/300\n",
            " - 1s - loss: 0.0840 - acc: 0.9725 - val_loss: 0.3925 - val_acc: 0.8912\n",
            "Epoch 91/300\n",
            " - 1s - loss: 0.0837 - acc: 0.9721 - val_loss: 0.3899 - val_acc: 0.8934\n",
            "Epoch 92/300\n",
            " - 1s - loss: 0.0822 - acc: 0.9734 - val_loss: 0.3962 - val_acc: 0.8914\n",
            "Epoch 93/300\n",
            " - 1s - loss: 0.0816 - acc: 0.9731 - val_loss: 0.4009 - val_acc: 0.8935\n",
            "Epoch 94/300\n",
            " - 1s - loss: 0.0801 - acc: 0.9742 - val_loss: 0.4005 - val_acc: 0.8930\n",
            "Epoch 95/300\n",
            " - 1s - loss: 0.0795 - acc: 0.9739 - val_loss: 0.3998 - val_acc: 0.8930\n",
            "Epoch 96/300\n",
            " - 1s - loss: 0.0790 - acc: 0.9744 - val_loss: 0.4004 - val_acc: 0.8936\n",
            "Epoch 97/300\n",
            " - 1s - loss: 0.0774 - acc: 0.9748 - val_loss: 0.4010 - val_acc: 0.8939\n",
            "Epoch 98/300\n",
            " - 1s - loss: 0.0764 - acc: 0.9753 - val_loss: 0.4108 - val_acc: 0.8931\n",
            "Epoch 99/300\n",
            " - 1s - loss: 0.0764 - acc: 0.9749 - val_loss: 0.4128 - val_acc: 0.8899\n",
            "Epoch 100/300\n",
            " - 1s - loss: 0.0759 - acc: 0.9756 - val_loss: 0.4091 - val_acc: 0.8936\n",
            "Epoch 101/300\n",
            " - 1s - loss: 0.0747 - acc: 0.9755 - val_loss: 0.4135 - val_acc: 0.8928\n",
            "Epoch 102/300\n",
            " - 1s - loss: 0.0751 - acc: 0.9750 - val_loss: 0.4228 - val_acc: 0.8897\n",
            "Epoch 103/300\n",
            " - 1s - loss: 0.0715 - acc: 0.9765 - val_loss: 0.4152 - val_acc: 0.8930\n",
            "Epoch 104/300\n",
            " - 1s - loss: 0.0709 - acc: 0.9770 - val_loss: 0.4162 - val_acc: 0.8927\n",
            "Epoch 105/300\n",
            " - 1s - loss: 0.0726 - acc: 0.9763 - val_loss: 0.4152 - val_acc: 0.8912\n",
            "Epoch 106/300\n",
            " - 1s - loss: 0.0717 - acc: 0.9766 - val_loss: 0.4172 - val_acc: 0.8916\n",
            "Epoch 107/300\n",
            " - 1s - loss: 0.0698 - acc: 0.9775 - val_loss: 0.4162 - val_acc: 0.8933\n",
            "Epoch 108/300\n",
            " - 1s - loss: 0.0677 - acc: 0.9786 - val_loss: 0.4203 - val_acc: 0.8905\n",
            "Epoch 109/300\n",
            " - 1s - loss: 0.0665 - acc: 0.9789 - val_loss: 0.4250 - val_acc: 0.8932\n",
            "Epoch 110/300\n",
            " - 1s - loss: 0.0661 - acc: 0.9793 - val_loss: 0.4248 - val_acc: 0.8919\n",
            "Epoch 111/300\n",
            " - 1s - loss: 0.0684 - acc: 0.9776 - val_loss: 0.4300 - val_acc: 0.8918\n",
            "Epoch 112/300\n",
            " - 1s - loss: 0.0644 - acc: 0.9796 - val_loss: 0.4345 - val_acc: 0.8906\n",
            "Epoch 113/300\n",
            " - 1s - loss: 0.0646 - acc: 0.9794 - val_loss: 0.4293 - val_acc: 0.8914\n",
            "Epoch 114/300\n",
            " - 1s - loss: 0.0635 - acc: 0.9797 - val_loss: 0.4381 - val_acc: 0.8919\n",
            "Epoch 115/300\n",
            " - 1s - loss: 0.0641 - acc: 0.9798 - val_loss: 0.4412 - val_acc: 0.8906\n",
            "Epoch 116/300\n",
            " - 1s - loss: 0.0625 - acc: 0.9801 - val_loss: 0.4343 - val_acc: 0.8937\n",
            "Epoch 117/300\n",
            " - 1s - loss: 0.0615 - acc: 0.9804 - val_loss: 0.4412 - val_acc: 0.8903\n",
            "Epoch 118/300\n",
            " - 1s - loss: 0.0616 - acc: 0.9811 - val_loss: 0.4402 - val_acc: 0.8932\n",
            "Epoch 119/300\n",
            " - 1s - loss: 0.0603 - acc: 0.9811 - val_loss: 0.4448 - val_acc: 0.8906\n",
            "Epoch 120/300\n",
            " - 1s - loss: 0.0596 - acc: 0.9810 - val_loss: 0.4476 - val_acc: 0.8905\n",
            "Epoch 121/300\n",
            " - 1s - loss: 0.0585 - acc: 0.9819 - val_loss: 0.4545 - val_acc: 0.8910\n",
            "Epoch 122/300\n",
            " - 1s - loss: 0.0574 - acc: 0.9826 - val_loss: 0.4473 - val_acc: 0.8919\n",
            "Epoch 123/300\n",
            " - 1s - loss: 0.0585 - acc: 0.9819 - val_loss: 0.4535 - val_acc: 0.8889\n",
            "Epoch 124/300\n",
            " - 1s - loss: 0.0574 - acc: 0.9819 - val_loss: 0.4538 - val_acc: 0.8912\n",
            "Epoch 125/300\n",
            " - 1s - loss: 0.0558 - acc: 0.9831 - val_loss: 0.4557 - val_acc: 0.8912\n",
            "Epoch 126/300\n",
            " - 1s - loss: 0.0548 - acc: 0.9833 - val_loss: 0.4604 - val_acc: 0.8910\n",
            "Epoch 127/300\n",
            " - 1s - loss: 0.0534 - acc: 0.9836 - val_loss: 0.4572 - val_acc: 0.8920\n",
            "Epoch 128/300\n",
            " - 1s - loss: 0.0532 - acc: 0.9840 - val_loss: 0.4591 - val_acc: 0.8903\n",
            "Epoch 129/300\n",
            " - 1s - loss: 0.0535 - acc: 0.9843 - val_loss: 0.4609 - val_acc: 0.8893\n",
            "Epoch 130/300\n",
            " - 1s - loss: 0.0521 - acc: 0.9841 - val_loss: 0.4651 - val_acc: 0.8906\n",
            "Epoch 131/300\n",
            " - 1s - loss: 0.0522 - acc: 0.9840 - val_loss: 0.4615 - val_acc: 0.8895\n",
            "Epoch 132/300\n",
            " - 1s - loss: 0.0508 - acc: 0.9845 - val_loss: 0.4642 - val_acc: 0.8919\n",
            "Epoch 133/300\n",
            " - 1s - loss: 0.0501 - acc: 0.9850 - val_loss: 0.4740 - val_acc: 0.8911\n",
            "Epoch 134/300\n",
            " - 1s - loss: 0.0505 - acc: 0.9849 - val_loss: 0.4734 - val_acc: 0.8910\n",
            "Epoch 135/300\n",
            " - 1s - loss: 0.0507 - acc: 0.9848 - val_loss: 0.4813 - val_acc: 0.8899\n",
            "Epoch 136/300\n",
            " - 1s - loss: 0.0494 - acc: 0.9853 - val_loss: 0.4774 - val_acc: 0.8919\n",
            "Epoch 137/300\n",
            " - 1s - loss: 0.0480 - acc: 0.9856 - val_loss: 0.4766 - val_acc: 0.8891\n",
            "Epoch 138/300\n",
            " - 1s - loss: 0.0471 - acc: 0.9863 - val_loss: 0.4787 - val_acc: 0.8919\n",
            "Epoch 139/300\n",
            " - 1s - loss: 0.0475 - acc: 0.9861 - val_loss: 0.4799 - val_acc: 0.8898\n",
            "Epoch 140/300\n",
            " - 1s - loss: 0.0459 - acc: 0.9873 - val_loss: 0.4835 - val_acc: 0.8908\n",
            "Epoch 141/300\n",
            " - 1s - loss: 0.0450 - acc: 0.9870 - val_loss: 0.4832 - val_acc: 0.8903\n",
            "Epoch 142/300\n",
            " - 1s - loss: 0.0464 - acc: 0.9858 - val_loss: 0.4897 - val_acc: 0.8911\n",
            "Epoch 143/300\n",
            " - 1s - loss: 0.0448 - acc: 0.9868 - val_loss: 0.4902 - val_acc: 0.8905\n",
            "Epoch 144/300\n",
            " - 1s - loss: 0.0444 - acc: 0.9868 - val_loss: 0.4947 - val_acc: 0.8918\n",
            "Epoch 145/300\n",
            " - 1s - loss: 0.0445 - acc: 0.9866 - val_loss: 0.4986 - val_acc: 0.8903\n",
            "Epoch 146/300\n",
            " - 1s - loss: 0.0434 - acc: 0.9872 - val_loss: 0.5015 - val_acc: 0.8894\n",
            "Epoch 147/300\n",
            " - 1s - loss: 0.0428 - acc: 0.9877 - val_loss: 0.5000 - val_acc: 0.8882\n",
            "Epoch 148/300\n",
            " - 1s - loss: 0.0436 - acc: 0.9873 - val_loss: 0.5021 - val_acc: 0.8906\n",
            "Epoch 149/300\n",
            " - 1s - loss: 0.0422 - acc: 0.9880 - val_loss: 0.5021 - val_acc: 0.8897\n",
            "Epoch 150/300\n",
            " - 1s - loss: 0.0415 - acc: 0.9882 - val_loss: 0.5161 - val_acc: 0.8867\n",
            "Epoch 151/300\n",
            " - 1s - loss: 0.0427 - acc: 0.9871 - val_loss: 0.5089 - val_acc: 0.8917\n",
            "Epoch 152/300\n",
            " - 1s - loss: 0.0396 - acc: 0.9888 - val_loss: 0.5062 - val_acc: 0.8897\n",
            "Epoch 153/300\n",
            " - 1s - loss: 0.0400 - acc: 0.9881 - val_loss: 0.5120 - val_acc: 0.8918\n",
            "Epoch 154/300\n",
            " - 1s - loss: 0.0391 - acc: 0.9890 - val_loss: 0.5124 - val_acc: 0.8904\n",
            "Epoch 155/300\n",
            " - 1s - loss: 0.0380 - acc: 0.9899 - val_loss: 0.5215 - val_acc: 0.8886\n",
            "Epoch 156/300\n",
            " - 1s - loss: 0.0377 - acc: 0.9900 - val_loss: 0.5162 - val_acc: 0.8897\n",
            "Epoch 157/300\n",
            " - 1s - loss: 0.0380 - acc: 0.9896 - val_loss: 0.5151 - val_acc: 0.8902\n",
            "Epoch 158/300\n",
            " - 1s - loss: 0.0383 - acc: 0.9892 - val_loss: 0.5182 - val_acc: 0.8901\n",
            "Epoch 159/300\n",
            " - 1s - loss: 0.0370 - acc: 0.9895 - val_loss: 0.5241 - val_acc: 0.8881\n",
            "Epoch 160/300\n",
            " - 1s - loss: 0.0381 - acc: 0.9893 - val_loss: 0.5200 - val_acc: 0.8903\n",
            "Epoch 161/300\n",
            " - 1s - loss: 0.0360 - acc: 0.9900 - val_loss: 0.5240 - val_acc: 0.8895\n",
            "Epoch 162/300\n",
            " - 1s - loss: 0.0345 - acc: 0.9907 - val_loss: 0.5233 - val_acc: 0.8894\n",
            "Epoch 163/300\n",
            " - 1s - loss: 0.0352 - acc: 0.9904 - val_loss: 0.5293 - val_acc: 0.8901\n",
            "Epoch 164/300\n",
            " - 1s - loss: 0.0365 - acc: 0.9897 - val_loss: 0.5400 - val_acc: 0.8886\n",
            "Epoch 165/300\n",
            " - 1s - loss: 0.0341 - acc: 0.9909 - val_loss: 0.5339 - val_acc: 0.8893\n",
            "Epoch 166/300\n",
            " - 1s - loss: 0.0345 - acc: 0.9907 - val_loss: 0.5346 - val_acc: 0.8899\n",
            "Epoch 167/300\n",
            " - 1s - loss: 0.0337 - acc: 0.9905 - val_loss: 0.5443 - val_acc: 0.8870\n",
            "Epoch 168/300\n",
            " - 1s - loss: 0.0331 - acc: 0.9913 - val_loss: 0.5382 - val_acc: 0.8880\n",
            "Epoch 169/300\n",
            " - 1s - loss: 0.0320 - acc: 0.9914 - val_loss: 0.5603 - val_acc: 0.8880\n",
            "Epoch 170/300\n",
            " - 1s - loss: 0.0327 - acc: 0.9910 - val_loss: 0.5556 - val_acc: 0.8878\n",
            "Epoch 171/300\n",
            " - 1s - loss: 0.0316 - acc: 0.9916 - val_loss: 0.5477 - val_acc: 0.8900\n",
            "Epoch 172/300\n",
            " - 1s - loss: 0.0309 - acc: 0.9921 - val_loss: 0.5466 - val_acc: 0.8891\n",
            "Epoch 173/300\n",
            " - 1s - loss: 0.0308 - acc: 0.9920 - val_loss: 0.5475 - val_acc: 0.8906\n",
            "Epoch 174/300\n",
            " - 1s - loss: 0.0324 - acc: 0.9906 - val_loss: 0.5487 - val_acc: 0.8892\n",
            "Epoch 175/300\n",
            " - 1s - loss: 0.0303 - acc: 0.9920 - val_loss: 0.5525 - val_acc: 0.8872\n",
            "Epoch 176/300\n",
            " - 1s - loss: 0.0300 - acc: 0.9920 - val_loss: 0.5509 - val_acc: 0.8885\n",
            "Epoch 177/300\n",
            " - 1s - loss: 0.0304 - acc: 0.9915 - val_loss: 0.5659 - val_acc: 0.8883\n",
            "Epoch 178/300\n",
            " - 1s - loss: 0.0291 - acc: 0.9922 - val_loss: 0.5644 - val_acc: 0.8872\n",
            "Epoch 179/300\n",
            " - 1s - loss: 0.0296 - acc: 0.9919 - val_loss: 0.5612 - val_acc: 0.8883\n",
            "Epoch 180/300\n",
            " - 1s - loss: 0.0283 - acc: 0.9929 - val_loss: 0.5618 - val_acc: 0.8893\n",
            "Epoch 181/300\n",
            " - 1s - loss: 0.0279 - acc: 0.9927 - val_loss: 0.5701 - val_acc: 0.8877\n",
            "Epoch 182/300\n",
            " - 1s - loss: 0.0276 - acc: 0.9928 - val_loss: 0.5727 - val_acc: 0.8884\n",
            "Epoch 183/300\n",
            " - 1s - loss: 0.0282 - acc: 0.9927 - val_loss: 0.5779 - val_acc: 0.8887\n",
            "Epoch 184/300\n",
            " - 1s - loss: 0.0266 - acc: 0.9931 - val_loss: 0.5777 - val_acc: 0.8873\n",
            "Epoch 185/300\n",
            " - 1s - loss: 0.0275 - acc: 0.9927 - val_loss: 0.5776 - val_acc: 0.8902\n",
            "Epoch 186/300\n",
            " - 1s - loss: 0.0273 - acc: 0.9933 - val_loss: 0.5871 - val_acc: 0.8892\n",
            "Epoch 187/300\n",
            " - 1s - loss: 0.0257 - acc: 0.9938 - val_loss: 0.5777 - val_acc: 0.8894\n",
            "Epoch 188/300\n",
            " - 1s - loss: 0.0256 - acc: 0.9937 - val_loss: 0.5860 - val_acc: 0.8878\n",
            "Epoch 189/300\n",
            " - 1s - loss: 0.0262 - acc: 0.9931 - val_loss: 0.5823 - val_acc: 0.8900\n",
            "Epoch 190/300\n",
            " - 1s - loss: 0.0246 - acc: 0.9939 - val_loss: 0.5863 - val_acc: 0.8883\n",
            "Epoch 191/300\n",
            " - 1s - loss: 0.0247 - acc: 0.9937 - val_loss: 0.5889 - val_acc: 0.8875\n",
            "Epoch 192/300\n",
            " - 1s - loss: 0.0258 - acc: 0.9932 - val_loss: 0.5878 - val_acc: 0.8883\n",
            "Epoch 193/300\n",
            " - 1s - loss: 0.0236 - acc: 0.9941 - val_loss: 0.5926 - val_acc: 0.8883\n",
            "Epoch 194/300\n",
            " - 1s - loss: 0.0232 - acc: 0.9946 - val_loss: 0.5979 - val_acc: 0.8884\n",
            "Epoch 195/300\n",
            " - 1s - loss: 0.0236 - acc: 0.9942 - val_loss: 0.5998 - val_acc: 0.8887\n",
            "Epoch 196/300\n",
            " - 1s - loss: 0.0249 - acc: 0.9935 - val_loss: 0.6087 - val_acc: 0.8872\n",
            "Epoch 197/300\n",
            " - 1s - loss: 0.0241 - acc: 0.9939 - val_loss: 0.6031 - val_acc: 0.8883\n",
            "Epoch 198/300\n",
            " - 1s - loss: 0.0238 - acc: 0.9937 - val_loss: 0.6092 - val_acc: 0.8871\n",
            "Epoch 199/300\n",
            " - 1s - loss: 0.0217 - acc: 0.9950 - val_loss: 0.6019 - val_acc: 0.8902\n",
            "Epoch 200/300\n",
            " - 1s - loss: 0.0227 - acc: 0.9946 - val_loss: 0.6095 - val_acc: 0.8876\n",
            "Epoch 201/300\n",
            " - 1s - loss: 0.0211 - acc: 0.9952 - val_loss: 0.6126 - val_acc: 0.8873\n",
            "Epoch 202/300\n",
            " - 1s - loss: 0.0220 - acc: 0.9944 - val_loss: 0.6085 - val_acc: 0.8871\n",
            "Epoch 203/300\n",
            " - 1s - loss: 0.0215 - acc: 0.9948 - val_loss: 0.6137 - val_acc: 0.8884\n",
            "Epoch 204/300\n",
            " - 1s - loss: 0.0207 - acc: 0.9951 - val_loss: 0.6131 - val_acc: 0.8880\n",
            "Epoch 205/300\n",
            " - 1s - loss: 0.0203 - acc: 0.9952 - val_loss: 0.6184 - val_acc: 0.8883\n",
            "Epoch 206/300\n",
            " - 1s - loss: 0.0211 - acc: 0.9948 - val_loss: 0.6204 - val_acc: 0.8873\n",
            "Epoch 207/300\n",
            " - 1s - loss: 0.0201 - acc: 0.9954 - val_loss: 0.6206 - val_acc: 0.8887\n",
            "Epoch 208/300\n",
            " - 1s - loss: 0.0195 - acc: 0.9956 - val_loss: 0.6221 - val_acc: 0.8890\n",
            "Epoch 209/300\n",
            " - 1s - loss: 0.0198 - acc: 0.9951 - val_loss: 0.6274 - val_acc: 0.8872\n",
            "Epoch 210/300\n",
            " - 1s - loss: 0.0195 - acc: 0.9954 - val_loss: 0.6310 - val_acc: 0.8879\n",
            "Epoch 211/300\n",
            " - 1s - loss: 0.0194 - acc: 0.9953 - val_loss: 0.6297 - val_acc: 0.8873\n",
            "Epoch 212/300\n",
            " - 1s - loss: 0.0186 - acc: 0.9957 - val_loss: 0.6273 - val_acc: 0.8891\n",
            "Epoch 213/300\n",
            " - 1s - loss: 0.0194 - acc: 0.9955 - val_loss: 0.6362 - val_acc: 0.8873\n",
            "Epoch 214/300\n",
            " - 1s - loss: 0.0192 - acc: 0.9954 - val_loss: 0.6348 - val_acc: 0.8899\n",
            "Epoch 215/300\n",
            " - 1s - loss: 0.0179 - acc: 0.9959 - val_loss: 0.6411 - val_acc: 0.8876\n",
            "Epoch 216/300\n",
            " - 1s - loss: 0.0179 - acc: 0.9959 - val_loss: 0.6336 - val_acc: 0.8884\n",
            "Epoch 217/300\n",
            " - 1s - loss: 0.0176 - acc: 0.9962 - val_loss: 0.6371 - val_acc: 0.8888\n",
            "Epoch 218/300\n",
            " - 1s - loss: 0.0174 - acc: 0.9961 - val_loss: 0.6391 - val_acc: 0.8892\n",
            "Epoch 219/300\n",
            " - 1s - loss: 0.0175 - acc: 0.9963 - val_loss: 0.6450 - val_acc: 0.8897\n",
            "Epoch 220/300\n",
            " - 1s - loss: 0.0189 - acc: 0.9952 - val_loss: 0.6446 - val_acc: 0.8887\n",
            "Epoch 221/300\n",
            " - 1s - loss: 0.0179 - acc: 0.9955 - val_loss: 0.6482 - val_acc: 0.8890\n",
            "Epoch 222/300\n",
            " - 1s - loss: 0.0192 - acc: 0.9954 - val_loss: 0.6526 - val_acc: 0.8879\n",
            "Epoch 223/300\n",
            " - 1s - loss: 0.0173 - acc: 0.9959 - val_loss: 0.6492 - val_acc: 0.8879\n",
            "Epoch 224/300\n",
            " - 1s - loss: 0.0185 - acc: 0.9955 - val_loss: 0.6531 - val_acc: 0.8873\n",
            "Epoch 225/300\n",
            " - 1s - loss: 0.0173 - acc: 0.9959 - val_loss: 0.6584 - val_acc: 0.8860\n",
            "Epoch 226/300\n",
            " - 1s - loss: 0.0162 - acc: 0.9965 - val_loss: 0.6573 - val_acc: 0.8872\n",
            "Epoch 227/300\n",
            " - 1s - loss: 0.0163 - acc: 0.9961 - val_loss: 0.6606 - val_acc: 0.8871\n",
            "Epoch 228/300\n",
            " - 1s - loss: 0.0145 - acc: 0.9972 - val_loss: 0.6529 - val_acc: 0.8878\n",
            "Epoch 229/300\n",
            " - 1s - loss: 0.0144 - acc: 0.9970 - val_loss: 0.6554 - val_acc: 0.8888\n",
            "Epoch 230/300\n",
            " - 1s - loss: 0.0146 - acc: 0.9970 - val_loss: 0.6686 - val_acc: 0.8883\n",
            "Epoch 231/300\n",
            " - 1s - loss: 0.0158 - acc: 0.9966 - val_loss: 0.6609 - val_acc: 0.8871\n",
            "Epoch 232/300\n",
            " - 1s - loss: 0.0142 - acc: 0.9973 - val_loss: 0.6669 - val_acc: 0.8881\n",
            "Epoch 233/300\n",
            " - 1s - loss: 0.0156 - acc: 0.9965 - val_loss: 0.6665 - val_acc: 0.8884\n",
            "Epoch 234/300\n",
            " - 1s - loss: 0.0153 - acc: 0.9967 - val_loss: 0.6695 - val_acc: 0.8873\n",
            "Epoch 235/300\n",
            " - 1s - loss: 0.0126 - acc: 0.9977 - val_loss: 0.6719 - val_acc: 0.8881\n",
            "Epoch 236/300\n",
            " - 1s - loss: 0.0138 - acc: 0.9970 - val_loss: 0.6681 - val_acc: 0.8874\n",
            "Epoch 237/300\n",
            " - 1s - loss: 0.0135 - acc: 0.9970 - val_loss: 0.6746 - val_acc: 0.8871\n",
            "Epoch 238/300\n",
            " - 1s - loss: 0.0131 - acc: 0.9975 - val_loss: 0.6755 - val_acc: 0.8882\n",
            "Epoch 239/300\n",
            " - 1s - loss: 0.0123 - acc: 0.9980 - val_loss: 0.6756 - val_acc: 0.8875\n",
            "Epoch 240/300\n",
            " - 1s - loss: 0.0133 - acc: 0.9974 - val_loss: 0.6826 - val_acc: 0.8888\n",
            "Epoch 241/300\n",
            " - 1s - loss: 0.0146 - acc: 0.9964 - val_loss: 0.6826 - val_acc: 0.8877\n",
            "Epoch 242/300\n",
            " - 1s - loss: 0.0153 - acc: 0.9963 - val_loss: 0.6756 - val_acc: 0.8878\n",
            "Epoch 243/300\n",
            " - 1s - loss: 0.0120 - acc: 0.9979 - val_loss: 0.6885 - val_acc: 0.8881\n",
            "Epoch 244/300\n",
            " - 1s - loss: 0.0135 - acc: 0.9974 - val_loss: 0.6888 - val_acc: 0.8862\n",
            "Epoch 245/300\n",
            " - 1s - loss: 0.0134 - acc: 0.9974 - val_loss: 0.6889 - val_acc: 0.8891\n",
            "Epoch 246/300\n",
            " - 1s - loss: 0.0155 - acc: 0.9960 - val_loss: 0.6828 - val_acc: 0.8887\n",
            "Epoch 247/300\n",
            " - 1s - loss: 0.0142 - acc: 0.9969 - val_loss: 0.6974 - val_acc: 0.8876\n",
            "Epoch 248/300\n",
            " - 1s - loss: 0.0121 - acc: 0.9975 - val_loss: 0.6990 - val_acc: 0.8880\n",
            "Epoch 249/300\n",
            " - 1s - loss: 0.0111 - acc: 0.9980 - val_loss: 0.6870 - val_acc: 0.8890\n",
            "Epoch 250/300\n",
            " - 1s - loss: 0.0124 - acc: 0.9975 - val_loss: 0.6947 - val_acc: 0.8873\n",
            "Epoch 251/300\n",
            " - 1s - loss: 0.0113 - acc: 0.9979 - val_loss: 0.6960 - val_acc: 0.8891\n",
            "Epoch 252/300\n",
            " - 1s - loss: 0.0116 - acc: 0.9978 - val_loss: 0.6930 - val_acc: 0.8880\n",
            "Epoch 253/300\n",
            " - 1s - loss: 0.0120 - acc: 0.9978 - val_loss: 0.7065 - val_acc: 0.8884\n",
            "Epoch 254/300\n",
            " - 1s - loss: 0.0115 - acc: 0.9977 - val_loss: 0.6940 - val_acc: 0.8876\n",
            "Epoch 255/300\n",
            " - 1s - loss: 0.0111 - acc: 0.9978 - val_loss: 0.7075 - val_acc: 0.8876\n",
            "Epoch 256/300\n",
            " - 1s - loss: 0.0113 - acc: 0.9976 - val_loss: 0.6999 - val_acc: 0.8865\n",
            "Epoch 257/300\n",
            " - 1s - loss: 0.0113 - acc: 0.9978 - val_loss: 0.7071 - val_acc: 0.8878\n",
            "Epoch 258/300\n",
            " - 1s - loss: 0.0111 - acc: 0.9979 - val_loss: 0.7034 - val_acc: 0.8890\n",
            "Epoch 259/300\n",
            " - 1s - loss: 0.0099 - acc: 0.9985 - val_loss: 0.7087 - val_acc: 0.8886\n",
            "Epoch 260/300\n",
            " - 1s - loss: 0.0110 - acc: 0.9977 - val_loss: 0.7130 - val_acc: 0.8875\n",
            "Epoch 261/300\n",
            " - 1s - loss: 0.0097 - acc: 0.9983 - val_loss: 0.7183 - val_acc: 0.8879\n",
            "Epoch 262/300\n",
            " - 1s - loss: 0.0113 - acc: 0.9977 - val_loss: 0.7281 - val_acc: 0.8844\n",
            "Epoch 263/300\n",
            " - 1s - loss: 0.0105 - acc: 0.9979 - val_loss: 0.7132 - val_acc: 0.8875\n",
            "Epoch 264/300\n",
            " - 1s - loss: 0.0094 - acc: 0.9985 - val_loss: 0.7181 - val_acc: 0.8873\n",
            "Epoch 265/300\n",
            " - 1s - loss: 0.0090 - acc: 0.9984 - val_loss: 0.7152 - val_acc: 0.8870\n",
            "Epoch 266/300\n",
            " - 1s - loss: 0.0125 - acc: 0.9972 - val_loss: 0.7294 - val_acc: 0.8848\n",
            "Epoch 267/300\n",
            " - 1s - loss: 0.0098 - acc: 0.9983 - val_loss: 0.7250 - val_acc: 0.8867\n",
            "Epoch 268/300\n",
            " - 1s - loss: 0.0091 - acc: 0.9984 - val_loss: 0.7244 - val_acc: 0.8853\n",
            "Epoch 269/300\n",
            " - 1s - loss: 0.0093 - acc: 0.9985 - val_loss: 0.7268 - val_acc: 0.8876\n",
            "Epoch 270/300\n",
            " - 1s - loss: 0.0094 - acc: 0.9983 - val_loss: 0.7304 - val_acc: 0.8856\n",
            "Epoch 271/300\n",
            " - 1s - loss: 0.0084 - acc: 0.9987 - val_loss: 0.7210 - val_acc: 0.8896\n",
            "Epoch 272/300\n",
            " - 1s - loss: 0.0078 - acc: 0.9991 - val_loss: 0.7295 - val_acc: 0.8881\n",
            "Epoch 273/300\n",
            " - 1s - loss: 0.0088 - acc: 0.9986 - val_loss: 0.7324 - val_acc: 0.8884\n",
            "Epoch 274/300\n",
            " - 1s - loss: 0.0088 - acc: 0.9985 - val_loss: 0.7426 - val_acc: 0.8878\n",
            "Epoch 275/300\n",
            " - 1s - loss: 0.0086 - acc: 0.9986 - val_loss: 0.7358 - val_acc: 0.8886\n",
            "Epoch 276/300\n",
            " - 1s - loss: 0.0077 - acc: 0.9989 - val_loss: 0.7351 - val_acc: 0.8868\n",
            "Epoch 277/300\n",
            " - 1s - loss: 0.0099 - acc: 0.9982 - val_loss: 0.7394 - val_acc: 0.8875\n",
            "Epoch 278/300\n",
            " - 1s - loss: 0.0100 - acc: 0.9982 - val_loss: 0.7409 - val_acc: 0.8872\n",
            "Epoch 279/300\n",
            " - 1s - loss: 0.0095 - acc: 0.9983 - val_loss: 0.7573 - val_acc: 0.8812\n",
            "Epoch 280/300\n",
            " - 1s - loss: 0.0117 - acc: 0.9972 - val_loss: 0.7490 - val_acc: 0.8859\n",
            "Epoch 281/300\n",
            " - 1s - loss: 0.0087 - acc: 0.9986 - val_loss: 0.7434 - val_acc: 0.8888\n",
            "Epoch 282/300\n",
            " - 1s - loss: 0.0071 - acc: 0.9990 - val_loss: 0.7490 - val_acc: 0.8869\n",
            "Epoch 283/300\n",
            " - 1s - loss: 0.0074 - acc: 0.9988 - val_loss: 0.7497 - val_acc: 0.8865\n",
            "Epoch 284/300\n",
            " - 1s - loss: 0.0067 - acc: 0.9991 - val_loss: 0.7502 - val_acc: 0.8878\n",
            "Epoch 285/300\n",
            " - 1s - loss: 0.0062 - acc: 0.9994 - val_loss: 0.7507 - val_acc: 0.8871\n",
            "Epoch 286/300\n",
            " - 1s - loss: 0.0064 - acc: 0.9992 - val_loss: 0.7521 - val_acc: 0.8877\n",
            "Epoch 287/300\n",
            " - 1s - loss: 0.0068 - acc: 0.9991 - val_loss: 0.7563 - val_acc: 0.8878\n",
            "Epoch 288/300\n",
            " - 1s - loss: 0.0079 - acc: 0.9987 - val_loss: 0.7652 - val_acc: 0.8874\n",
            "Epoch 289/300\n",
            " - 1s - loss: 0.0097 - acc: 0.9977 - val_loss: 0.7702 - val_acc: 0.8858\n",
            "Epoch 290/300\n",
            " - 1s - loss: 0.0129 - acc: 0.9966 - val_loss: 0.7754 - val_acc: 0.8853\n",
            "Epoch 291/300\n",
            " - 1s - loss: 0.0129 - acc: 0.9968 - val_loss: 0.7634 - val_acc: 0.8870\n",
            "Epoch 292/300\n",
            " - 1s - loss: 0.0103 - acc: 0.9978 - val_loss: 0.7547 - val_acc: 0.8870\n",
            "Epoch 293/300\n",
            " - 1s - loss: 0.0068 - acc: 0.9993 - val_loss: 0.7666 - val_acc: 0.8859\n",
            "Epoch 294/300\n",
            " - 1s - loss: 0.0061 - acc: 0.9994 - val_loss: 0.7539 - val_acc: 0.8870\n",
            "Epoch 295/300\n",
            " - 1s - loss: 0.0061 - acc: 0.9992 - val_loss: 0.7573 - val_acc: 0.8862\n",
            "Epoch 296/300\n",
            " - 1s - loss: 0.0066 - acc: 0.9990 - val_loss: 0.7611 - val_acc: 0.8889\n",
            "Epoch 297/300\n",
            " - 1s - loss: 0.0055 - acc: 0.9995 - val_loss: 0.7623 - val_acc: 0.8871\n",
            "Epoch 298/300\n",
            " - 1s - loss: 0.0062 - acc: 0.9992 - val_loss: 0.7696 - val_acc: 0.8858\n",
            "Epoch 299/300\n",
            " - 1s - loss: 0.0055 - acc: 0.9995 - val_loss: 0.7646 - val_acc: 0.8862\n",
            "Epoch 300/300\n",
            " - 1s - loss: 0.0057 - acc: 0.9994 - val_loss: 0.7664 - val_acc: 0.8860\n"
          ],
          "name": "stdout"
        }
      ]
    },
    {
      "cell_type": "code",
      "metadata": {
        "id": "VZfGrsnMlKUj",
        "colab_type": "code",
        "outputId": "e8db3a58-63ee-44f6-cd45-beecbcb40fbd",
        "colab": {
          "base_uri": "https://localhost:8080/",
          "height": 194
        }
      },
      "source": [
        "#evaluating test accuracy of final epcoh. Obviously the model was overfitting the test dat (99% accuracy there to 88% here)\n",
        "test_loss, test_acc = model.evaluate(test_images, test_labels)\n",
        "\n",
        "print('Test accuracy:', test_acc)\n",
        "#Test accuracy: 0.8872 --suggests overfitting of training model :/"
      ],
      "execution_count": 0,
      "outputs": [
        {
          "output_type": "stream",
          "text": [
            "10000/10000 [==============================] - 0s 43us/sample - loss: 0.7664 - acc: 0.8860\n",
            "Test accuracy: 0.886\n"
          ],
          "name": "stdout"
        }
      ]
    },
    {
      "cell_type": "code",
      "metadata": {
        "id": "neWwAIsblkFU",
        "colab_type": "code",
        "colab": {}
      },
      "source": [
        "#generating my predictions\n",
        "predictions = model.predict(test_images)\n"
      ],
      "execution_count": 0,
      "outputs": []
    },
    {
      "cell_type": "code",
      "metadata": {
        "id": "JGQPMQ-Dll5R",
        "colab_type": "code",
        "outputId": "fa4cae30-6755-4135-8e32-021a9d428b21",
        "colab": {
          "base_uri": "https://localhost:8080/",
          "height": 148
        }
      },
      "source": [
        "#looking at a prediction for the first image-- it is going through and ranking the likilhood that it is 0-9, whichever is highest is choosen as the actual prediction\n",
        "predictions[0]"
      ],
      "execution_count": 0,
      "outputs": [
        {
          "output_type": "execute_result",
          "data": {
            "text/plain": [
              "array([1.51867493e-32, 1.20777077e-26, 8.15045464e-27, 2.65616098e-25,\n",
              "       0.00000000e+00, 1.02070506e-13, 6.87785230e-23, 1.00485904e-10,\n",
              "       7.69370769e-20, 1.00000000e+00], dtype=float32)"
            ]
          },
          "metadata": {
            "tags": []
          },
          "execution_count": 225
        }
      ]
    },
    {
      "cell_type": "code",
      "metadata": {
        "id": "yrTnhu9mlnQ2",
        "colab_type": "code",
        "outputId": "8297f50b-b987-44b5-cb3f-6b8dc3b1f029",
        "colab": {
          "base_uri": "https://localhost:8080/",
          "height": 34
        }
      },
      "source": [
        "np.argmax(predictions[0])\n"
      ],
      "execution_count": 0,
      "outputs": [
        {
          "output_type": "execute_result",
          "data": {
            "text/plain": [
              "9"
            ]
          },
          "metadata": {
            "tags": []
          },
          "execution_count": 228
        }
      ]
    },
    {
      "cell_type": "code",
      "metadata": {
        "id": "9dCQNkmSloj9",
        "colab_type": "code",
        "outputId": "f9f50175-6c80-40ba-aecb-60c9b9ae0f89",
        "colab": {
          "base_uri": "https://localhost:8080/",
          "height": 34
        }
      },
      "source": [
        "#comparing our prediction to the actual value\n",
        "test_labels[0]\n"
      ],
      "execution_count": 0,
      "outputs": [
        {
          "output_type": "execute_result",
          "data": {
            "text/plain": [
              "9"
            ]
          },
          "metadata": {
            "tags": []
          },
          "execution_count": 229
        }
      ]
    },
    {
      "cell_type": "code",
      "metadata": {
        "id": "etnRkujdld9D",
        "colab_type": "code",
        "colab": {}
      },
      "source": [
        "#creating a graph to show the predictions for  images\n",
        "\n",
        "def plot_image(i, predictions_array, true_label, img):\n",
        "  predictions_array, true_label, img = predictions_array[i], true_label[i], img[i]\n",
        "  plt.grid(False)\n",
        "  plt.xticks([])\n",
        "  plt.yticks([])\n",
        "  \n",
        "  plt.imshow(img, cmap=plt.cm.binary)\n",
        "\n",
        "  predicted_label = np.argmax(predictions_array)\n",
        "  if predicted_label == true_label:\n",
        "    color = 'blue'\n",
        "  else:\n",
        "    color = 'red'\n",
        "  \n",
        "  plt.xlabel(\"{} {:2.0f}% ({})\".format(class_names[predicted_label],\n",
        "                                100*np.max(predictions_array),\n",
        "                                class_names[true_label]),\n",
        "                                color=color)\n",
        "\n",
        "def plot_value_array(i, predictions_array, true_label):\n",
        "  predictions_array, true_label = predictions_array[i], true_label[i]\n",
        "  plt.grid(False)\n",
        "  plt.xticks([])\n",
        "  plt.yticks([])\n",
        "  thisplot = plt.bar(range(10), predictions_array, color=\"#777777\")\n",
        "  plt.ylim([0, 1]) \n",
        "  predicted_label = np.argmax(predictions_array)\n",
        " \n",
        "  thisplot[predicted_label].set_color('red')\n",
        "  thisplot[true_label].set_color('blue')"
      ],
      "execution_count": 0,
      "outputs": []
    },
    {
      "cell_type": "code",
      "metadata": {
        "id": "SMwpgj0AlfvW",
        "colab_type": "code",
        "outputId": "81de4d58-70f6-4312-f942-ea8c0425a22c",
        "colab": {
          "base_uri": "https://localhost:8080/",
          "height": 206
        }
      },
      "source": [
        "#sometimes even if we're sure it's one--it isn't....\n",
        "i = 9441\n",
        "plt.figure(figsize=(6,3))\n",
        "plt.subplot(1,2,1)\n",
        "plot_image(i, predictions, test_labels, test_images)\n",
        "plt.subplot(1,2,2)\n",
        "plot_value_array(i, predictions,  test_labels)\n",
        "plt.show()"
      ],
      "execution_count": 0,
      "outputs": [
        {
          "output_type": "display_data",
          "data": {
            "image/png": "[encoded data removed]",
            "text/plain": [
              "<Figure size 432x216 with 2 Axes>"
            ]
          },
          "metadata": {
            "tags": []
          }
        }
      ]
    },
    {
      "cell_type": "code",
      "metadata": {
        "id": "-DOfZpgUlwjL",
        "colab_type": "code",
        "outputId": "8007f688-c967-4b8e-801f-93ba55259e0f",
        "colab": {
          "base_uri": "https://localhost:8080/",
          "height": 206
        }
      },
      "source": [
        "i = 12\n",
        "plt.figure(figsize=(6,3))\n",
        "plt.subplot(1,2,1)\n",
        "plot_image(i, predictions, test_labels, test_images)\n",
        "plt.subplot(1,2,2)\n",
        "plot_value_array(i, predictions,  test_labels)\n",
        "plt.show()\n"
      ],
      "execution_count": 0,
      "outputs": [
        {
          "output_type": "display_data",
          "data": {
            "image/png": "[encoded data removed]",
            "text/plain": [
              "<Figure size 432x216 with 2 Axes>"
            ]
          },
          "metadata": {
            "tags": []
          }
        }
      ]
    },
    {
      "cell_type": "code",
      "metadata": {
        "id": "MKhK11dSl1EF",
        "colab_type": "code",
        "outputId": "12bf70fc-8472-4383-fd67-ace83e2470b7",
        "colab": {
          "base_uri": "https://localhost:8080/",
          "height": 1156
        }
      },
      "source": [
        "# Plot the first X test images, their predicted label, and the true label\n",
        "# Color correct predictions in blue, incorrect predictions in red, gray= unsure\n",
        "num_rows = 10\n",
        "num_cols = 5\n",
        "num_images = num_rows*num_cols\n",
        "plt.figure(figsize=(2*2*num_cols, 2*num_rows))\n",
        "for i in range(num_images):\n",
        "  plt.subplot(num_rows, 2*num_cols, 2*i+1)\n",
        "  plot_image(i, predictions, test_labels, test_images)\n",
        "  plt.subplot(num_rows, 2*num_cols, 2*i+2)\n",
        "  plot_value_array(i, predictions, test_labels)\n",
        "plt.show()"
      ],
      "execution_count": 0,
      "outputs": [
        {
          "output_type": "display_data",
          "data": {
            "image/png": "[encoded data removed]",
            "text/plain": [
              "<Figure size 1440x1440 with 100 Axes>"
            ]
          },
          "metadata": {
            "tags": []
          }
        }
      ]
    },
    {
      "cell_type": "code",
      "metadata": {
        "id": "LjKtviZQl_Dr",
        "colab_type": "code",
        "outputId": "6645701e-024e-4a6d-a076-801105153ab8",
        "colab": {
          "base_uri": "https://localhost:8080/",
          "height": 34
        }
      },
      "source": [
        "# Grab an image from the test dataset\n",
        "img = test_images[0]\n",
        "\n",
        "print(img.shape)"
      ],
      "execution_count": 0,
      "outputs": [
        {
          "output_type": "stream",
          "text": [
            "(28, 28)\n"
          ],
          "name": "stdout"
        }
      ]
    },
    {
      "cell_type": "code",
      "metadata": {
        "id": "mkzaqNj7l_kH",
        "colab_type": "code",
        "outputId": "9ddb7679-bb5d-4e67-81f8-3b5646589650",
        "colab": {
          "base_uri": "https://localhost:8080/",
          "height": 34
        }
      },
      "source": [
        "# Add the image to a batch where it's the only member.\n",
        "img = (np.expand_dims(img,0))\n",
        "\n",
        "print(img.shape)"
      ],
      "execution_count": 0,
      "outputs": [
        {
          "output_type": "stream",
          "text": [
            "(1, 28, 28)\n"
          ],
          "name": "stdout"
        }
      ]
    },
    {
      "cell_type": "code",
      "metadata": {
        "id": "6kD9PPsPmDEb",
        "colab_type": "code",
        "outputId": "176d9c29-7e52-49ea-b711-a608e3b39ddf",
        "colab": {
          "base_uri": "https://localhost:8080/",
          "height": 68
        }
      },
      "source": [
        "predictions_single = model.predict(img)\n",
        "\n",
        "print(predictions_single)\n"
      ],
      "execution_count": 0,
      "outputs": [
        {
          "output_type": "stream",
          "text": [
            "[[1.51865186e-32 1.20777077e-26 8.15039224e-27 2.65619130e-25\n",
            "  0.00000000e+00 1.02069733e-13 6.87787881e-23 1.00485523e-10\n",
            "  7.69373612e-20 1.00000000e+00]]\n"
          ],
          "name": "stdout"
        }
      ]
    },
    {
      "cell_type": "code",
      "metadata": {
        "id": "bkgHGiqYmEk3",
        "colab_type": "code",
        "outputId": "1cc88a1a-7989-4f21-e872-a72b3f220fcd",
        "colab": {
          "base_uri": "https://localhost:8080/",
          "height": 304
        }
      },
      "source": [
        "plot_value_array(0, predictions_single, test_labels)\n",
        "_ = plt.xticks(range(10), class_names, rotation=45)\n"
      ],
      "execution_count": 0,
      "outputs": [
        {
          "output_type": "display_data",
          "data": {
            "image/png": "[encoded data removed]",
            "text/plain": [
              "<Figure size 432x288 with 1 Axes>"
            ]
          },
          "metadata": {
            "tags": []
          }
        }
      ]
    },
    {
      "cell_type": "code",
      "metadata": {
        "id": "Qx6cpGdFrDUw",
        "colab_type": "code",
        "outputId": "33ca1eb7-52f1-4639-e3d2-c12fd3248147",
        "colab": {
          "base_uri": "https://localhost:8080/",
          "height": 34
        }
      },
      "source": [
        "predictions = model.predict(test_images)\n",
        "predictions[0]\n",
        "np.argmax(predictions[0])\n",
        "test_labels[0]\n",
        "\n"
      ],
      "execution_count": 0,
      "outputs": [
        {
          "output_type": "stream",
          "text": [
            "(1000, 28, 28)\n"
          ],
          "name": "stdout"
        }
      ]
    },
    {
      "cell_type": "code",
      "metadata": {
        "id": "BpkLmn_9tAP4",
        "colab_type": "code",
        "colab": {}
      },
      "source": [
        "#creating a loop to make a confusion matrix-- only selecting the \"best guess\" for the prediction value\n",
        "Image=[]\n",
        "Pred=[]\n",
        "TrueLabel=[]\n",
        "Images=np.array([np.arange(10000)]*1).T\n",
        "for i in Images:\n",
        "    Image.append(i)\n",
        "    predictions[i]\n",
        "    Pred.append(np.argmax(predictions[i]))\n",
        "    TrueLabel.append(test_labels[i])"
      ],
      "execution_count": 0,
      "outputs": []
    },
    {
      "cell_type": "code",
      "metadata": {
        "id": "fG8zEgPLygjo",
        "colab_type": "code",
        "outputId": "16971a9e-5831-4a84-e923-de6f197cdb8e",
        "colab": {
          "base_uri": "https://localhost:8080/",
          "height": 518
        }
      },
      "source": [
        ""
      ],
      "execution_count": 0,
      "outputs": [
        {
          "output_type": "error",
          "ename": "Exception",
          "evalue": "ignored",
          "traceback": [
            "\u001b[0;31m---------------------------------------------------------------------------\u001b[0m",
            "\u001b[0;31mException\u001b[0m                                 Traceback (most recent call last)",
            "\u001b[0;32m<ipython-input-297-4cc2e15542a2>\u001b[0m in \u001b[0;36m<module>\u001b[0;34m()\u001b[0m\n\u001b[1;32m      2\u001b[0m   {\"ImageNum\" : Images,\n\u001b[1;32m      3\u001b[0m    \u001b[0;34m\"Prediction\"\u001b[0m\u001b[0;34m:\u001b[0m \u001b[0mPred\u001b[0m\u001b[0;34m,\u001b[0m\u001b[0;34m\u001b[0m\u001b[0;34m\u001b[0m\u001b[0m\n\u001b[0;32m----> 4\u001b[0;31m    \u001b[0;34m\"TrueLable\"\u001b[0m\u001b[0;34m:\u001b[0m \u001b[0mTrueLabel\u001b[0m\u001b[0;34m\u001b[0m\u001b[0;34m\u001b[0m\u001b[0m\n\u001b[0m\u001b[1;32m      5\u001b[0m   })\n",
            "\u001b[0;32m/usr/local/lib/python3.6/dist-packages/pandas/core/frame.py\u001b[0m in \u001b[0;36m__init__\u001b[0;34m(self, data, index, columns, dtype, copy)\u001b[0m\n\u001b[1;32m    390\u001b[0m                                  dtype=dtype, copy=copy)\n\u001b[1;32m    391\u001b[0m         \u001b[0;32melif\u001b[0m \u001b[0misinstance\u001b[0m\u001b[0;34m(\u001b[0m\u001b[0mdata\u001b[0m\u001b[0;34m,\u001b[0m \u001b[0mdict\u001b[0m\u001b[0;34m)\u001b[0m\u001b[0;34m:\u001b[0m\u001b[0;34m\u001b[0m\u001b[0;34m\u001b[0m\u001b[0m\n\u001b[0;32m--> 392\u001b[0;31m             \u001b[0mmgr\u001b[0m \u001b[0;34m=\u001b[0m \u001b[0minit_dict\u001b[0m\u001b[0;34m(\u001b[0m\u001b[0mdata\u001b[0m\u001b[0;34m,\u001b[0m \u001b[0mindex\u001b[0m\u001b[0;34m,\u001b[0m \u001b[0mcolumns\u001b[0m\u001b[0;34m,\u001b[0m \u001b[0mdtype\u001b[0m\u001b[0;34m=\u001b[0m\u001b[0mdtype\u001b[0m\u001b[0;34m)\u001b[0m\u001b[0;34m\u001b[0m\u001b[0;34m\u001b[0m\u001b[0m\n\u001b[0m\u001b[1;32m    393\u001b[0m         \u001b[0;32melif\u001b[0m \u001b[0misinstance\u001b[0m\u001b[0;34m(\u001b[0m\u001b[0mdata\u001b[0m\u001b[0;34m,\u001b[0m \u001b[0mma\u001b[0m\u001b[0;34m.\u001b[0m\u001b[0mMaskedArray\u001b[0m\u001b[0;34m)\u001b[0m\u001b[0;34m:\u001b[0m\u001b[0;34m\u001b[0m\u001b[0;34m\u001b[0m\u001b[0m\n\u001b[1;32m    394\u001b[0m             \u001b[0;32mimport\u001b[0m \u001b[0mnumpy\u001b[0m\u001b[0;34m.\u001b[0m\u001b[0mma\u001b[0m\u001b[0;34m.\u001b[0m\u001b[0mmrecords\u001b[0m \u001b[0;32mas\u001b[0m \u001b[0mmrecords\u001b[0m\u001b[0;34m\u001b[0m\u001b[0;34m\u001b[0m\u001b[0m\n",
            "\u001b[0;32m/usr/local/lib/python3.6/dist-packages/pandas/core/internals/construction.py\u001b[0m in \u001b[0;36minit_dict\u001b[0;34m(data, index, columns, dtype)\u001b[0m\n\u001b[1;32m    210\u001b[0m         \u001b[0marrays\u001b[0m \u001b[0;34m=\u001b[0m \u001b[0;34m[\u001b[0m\u001b[0mdata\u001b[0m\u001b[0;34m[\u001b[0m\u001b[0mk\u001b[0m\u001b[0;34m]\u001b[0m \u001b[0;32mfor\u001b[0m \u001b[0mk\u001b[0m \u001b[0;32min\u001b[0m \u001b[0mkeys\u001b[0m\u001b[0;34m]\u001b[0m\u001b[0;34m\u001b[0m\u001b[0;34m\u001b[0m\u001b[0m\n\u001b[1;32m    211\u001b[0m \u001b[0;34m\u001b[0m\u001b[0m\n\u001b[0;32m--> 212\u001b[0;31m     \u001b[0;32mreturn\u001b[0m \u001b[0marrays_to_mgr\u001b[0m\u001b[0;34m(\u001b[0m\u001b[0marrays\u001b[0m\u001b[0;34m,\u001b[0m \u001b[0mdata_names\u001b[0m\u001b[0;34m,\u001b[0m \u001b[0mindex\u001b[0m\u001b[0;34m,\u001b[0m \u001b[0mcolumns\u001b[0m\u001b[0;34m,\u001b[0m \u001b[0mdtype\u001b[0m\u001b[0;34m=\u001b[0m\u001b[0mdtype\u001b[0m\u001b[0;34m)\u001b[0m\u001b[0;34m\u001b[0m\u001b[0;34m\u001b[0m\u001b[0m\n\u001b[0m\u001b[1;32m    213\u001b[0m \u001b[0;34m\u001b[0m\u001b[0m\n\u001b[1;32m    214\u001b[0m \u001b[0;34m\u001b[0m\u001b[0m\n",
            "\u001b[0;32m/usr/local/lib/python3.6/dist-packages/pandas/core/internals/construction.py\u001b[0m in \u001b[0;36marrays_to_mgr\u001b[0;34m(arrays, arr_names, index, columns, dtype)\u001b[0m\n\u001b[1;32m     54\u001b[0m \u001b[0;34m\u001b[0m\u001b[0m\n\u001b[1;32m     55\u001b[0m     \u001b[0;31m# don't force copy because getting jammed in an ndarray anyway\u001b[0m\u001b[0;34m\u001b[0m\u001b[0;34m\u001b[0m\u001b[0;34m\u001b[0m\u001b[0m\n\u001b[0;32m---> 56\u001b[0;31m     \u001b[0marrays\u001b[0m \u001b[0;34m=\u001b[0m \u001b[0m_homogenize\u001b[0m\u001b[0;34m(\u001b[0m\u001b[0marrays\u001b[0m\u001b[0;34m,\u001b[0m \u001b[0mindex\u001b[0m\u001b[0;34m,\u001b[0m \u001b[0mdtype\u001b[0m\u001b[0;34m)\u001b[0m\u001b[0;34m\u001b[0m\u001b[0;34m\u001b[0m\u001b[0m\n\u001b[0m\u001b[1;32m     57\u001b[0m \u001b[0;34m\u001b[0m\u001b[0m\n\u001b[1;32m     58\u001b[0m     \u001b[0;31m# from BlockManager perspective\u001b[0m\u001b[0;34m\u001b[0m\u001b[0;34m\u001b[0m\u001b[0;34m\u001b[0m\u001b[0m\n",
            "\u001b[0;32m/usr/local/lib/python3.6/dist-packages/pandas/core/internals/construction.py\u001b[0m in \u001b[0;36m_homogenize\u001b[0;34m(data, index, dtype)\u001b[0m\n\u001b[1;32m    275\u001b[0m                 \u001b[0mval\u001b[0m \u001b[0;34m=\u001b[0m \u001b[0mlib\u001b[0m\u001b[0;34m.\u001b[0m\u001b[0mfast_multiget\u001b[0m\u001b[0;34m(\u001b[0m\u001b[0mval\u001b[0m\u001b[0;34m,\u001b[0m \u001b[0moindex\u001b[0m\u001b[0;34m.\u001b[0m\u001b[0mvalues\u001b[0m\u001b[0;34m,\u001b[0m \u001b[0mdefault\u001b[0m\u001b[0;34m=\u001b[0m\u001b[0mnp\u001b[0m\u001b[0;34m.\u001b[0m\u001b[0mnan\u001b[0m\u001b[0;34m)\u001b[0m\u001b[0;34m\u001b[0m\u001b[0;34m\u001b[0m\u001b[0m\n\u001b[1;32m    276\u001b[0m             val = sanitize_array(val, index, dtype=dtype, copy=False,\n\u001b[0;32m--> 277\u001b[0;31m                                  raise_cast_failure=False)\n\u001b[0m\u001b[1;32m    278\u001b[0m \u001b[0;34m\u001b[0m\u001b[0m\n\u001b[1;32m    279\u001b[0m         \u001b[0mhomogenized\u001b[0m\u001b[0;34m.\u001b[0m\u001b[0mappend\u001b[0m\u001b[0;34m(\u001b[0m\u001b[0mval\u001b[0m\u001b[0;34m)\u001b[0m\u001b[0;34m\u001b[0m\u001b[0;34m\u001b[0m\u001b[0m\n",
            "\u001b[0;32m/usr/local/lib/python3.6/dist-packages/pandas/core/internals/construction.py\u001b[0m in \u001b[0;36msanitize_array\u001b[0;34m(data, index, dtype, copy, raise_cast_failure)\u001b[0m\n\u001b[1;32m    656\u001b[0m     \u001b[0;32melif\u001b[0m \u001b[0msubarr\u001b[0m\u001b[0;34m.\u001b[0m\u001b[0mndim\u001b[0m \u001b[0;34m>\u001b[0m \u001b[0;36m1\u001b[0m\u001b[0;34m:\u001b[0m\u001b[0;34m\u001b[0m\u001b[0;34m\u001b[0m\u001b[0m\n\u001b[1;32m    657\u001b[0m         \u001b[0;32mif\u001b[0m \u001b[0misinstance\u001b[0m\u001b[0;34m(\u001b[0m\u001b[0mdata\u001b[0m\u001b[0;34m,\u001b[0m \u001b[0mnp\u001b[0m\u001b[0;34m.\u001b[0m\u001b[0mndarray\u001b[0m\u001b[0;34m)\u001b[0m\u001b[0;34m:\u001b[0m\u001b[0;34m\u001b[0m\u001b[0;34m\u001b[0m\u001b[0m\n\u001b[0;32m--> 658\u001b[0;31m             \u001b[0;32mraise\u001b[0m \u001b[0mException\u001b[0m\u001b[0;34m(\u001b[0m\u001b[0;34m'Data must be 1-dimensional'\u001b[0m\u001b[0;34m)\u001b[0m\u001b[0;34m\u001b[0m\u001b[0;34m\u001b[0m\u001b[0m\n\u001b[0m\u001b[1;32m    659\u001b[0m         \u001b[0;32melse\u001b[0m\u001b[0;34m:\u001b[0m\u001b[0;34m\u001b[0m\u001b[0;34m\u001b[0m\u001b[0m\n\u001b[1;32m    660\u001b[0m             \u001b[0msubarr\u001b[0m \u001b[0;34m=\u001b[0m \u001b[0mcom\u001b[0m\u001b[0;34m.\u001b[0m\u001b[0masarray_tuplesafe\u001b[0m\u001b[0;34m(\u001b[0m\u001b[0mdata\u001b[0m\u001b[0;34m,\u001b[0m \u001b[0mdtype\u001b[0m\u001b[0;34m=\u001b[0m\u001b[0mdtype\u001b[0m\u001b[0;34m)\u001b[0m\u001b[0;34m\u001b[0m\u001b[0;34m\u001b[0m\u001b[0m\n",
            "\u001b[0;31mException\u001b[0m: Data must be 1-dimensional"
          ]
        }
      ]
    },
    {
      "cell_type": "code",
      "metadata": {
        "id": "sOQhq5zzzcaB",
        "colab_type": "code",
        "outputId": "73ab7b54-628e-4f22-9ddc-6879189f4e1e",
        "colab": {
          "base_uri": "https://localhost:8080/",
          "height": 34
        }
      },
      "source": [
        "len(Pred)\n",
        "len(Images)\n",
        "len(TrueLabel)"
      ],
      "execution_count": 0,
      "outputs": [
        {
          "output_type": "execute_result",
          "data": {
            "text/plain": [
              "10000"
            ]
          },
          "metadata": {
            "tags": []
          },
          "execution_count": 311
        }
      ]
    },
    {
      "cell_type": "code",
      "metadata": {
        "id": "z03ZpVSh1B18",
        "colab_type": "code",
        "colab": {}
      },
      "source": [
        ""
      ],
      "execution_count": 0,
      "outputs": []
    },
    {
      "cell_type": "code",
      "metadata": {
        "id": "CAhpOCA5ymzJ",
        "colab_type": "code",
        "colab": {}
      },
      "source": [
        "d = {'Image':Image, \"Prediction\":Pred, \"TrueLabel\":TrueLabel}"
      ],
      "execution_count": 0,
      "outputs": []
    },
    {
      "cell_type": "code",
      "metadata": {
        "id": "8194KGzb0tuO",
        "colab_type": "code",
        "colab": {}
      },
      "source": [
        "df=pd.DataFrame(d)"
      ],
      "execution_count": 0,
      "outputs": []
    },
    {
      "cell_type": "code",
      "metadata": {
        "id": "DyEjVLf_05be",
        "colab_type": "code",
        "outputId": "37ba344c-ca6e-4b33-848a-f97f0ba95c19",
        "colab": {
          "base_uri": "https://localhost:8080/",
          "height": 204
        }
      },
      "source": [
        "df.head()"
      ],
      "execution_count": 0,
      "outputs": [
        {
          "output_type": "execute_result",
          "data": {
            "text/html": [
              "<div>\n",
              "<style scoped>\n",
              "    .dataframe tbody tr th:only-of-type {\n",
              "        vertical-align: middle;\n",
              "    }\n",
              "\n",
              "    .dataframe tbody tr th {\n",
              "        vertical-align: top;\n",
              "    }\n",
              "\n",
              "    .dataframe thead th {\n",
              "        text-align: right;\n",
              "    }\n",
              "</style>\n",
              "<table border=\"1\" class=\"dataframe\">\n",
              "  <thead>\n",
              "    <tr style=\"text-align: right;\">\n",
              "      <th></th>\n",
              "      <th>Image</th>\n",
              "      <th>Prediction</th>\n",
              "      <th>TrueLabel</th>\n",
              "    </tr>\n",
              "  </thead>\n",
              "  <tbody>\n",
              "    <tr>\n",
              "      <th>0</th>\n",
              "      <td>[0]</td>\n",
              "      <td>9</td>\n",
              "      <td>[9]</td>\n",
              "    </tr>\n",
              "    <tr>\n",
              "      <th>1</th>\n",
              "      <td>[1]</td>\n",
              "      <td>2</td>\n",
              "      <td>[2]</td>\n",
              "    </tr>\n",
              "    <tr>\n",
              "      <th>2</th>\n",
              "      <td>[2]</td>\n",
              "      <td>1</td>\n",
              "      <td>[1]</td>\n",
              "    </tr>\n",
              "    <tr>\n",
              "      <th>3</th>\n",
              "      <td>[3]</td>\n",
              "      <td>1</td>\n",
              "      <td>[1]</td>\n",
              "    </tr>\n",
              "    <tr>\n",
              "      <th>4</th>\n",
              "      <td>[4]</td>\n",
              "      <td>6</td>\n",
              "      <td>[6]</td>\n",
              "    </tr>\n",
              "  </tbody>\n",
              "</table>\n",
              "</div>"
            ],
            "text/plain": [
              "  Image  Prediction TrueLabel\n",
              "0   [0]           9       [9]\n",
              "1   [1]           2       [2]\n",
              "2   [2]           1       [1]\n",
              "3   [3]           1       [1]\n",
              "4   [4]           6       [6]"
            ]
          },
          "metadata": {
            "tags": []
          },
          "execution_count": 325
        }
      ]
    },
    {
      "cell_type": "code",
      "metadata": {
        "id": "Y06wWuXh1MdP",
        "colab_type": "code",
        "colab": {}
      },
      "source": [
        "#exporting dataframe to excel to make confusion matrix!\n",
        "df.to_csv('finalPred.csv')"
      ],
      "execution_count": 0,
      "outputs": []
    }
  ]
}