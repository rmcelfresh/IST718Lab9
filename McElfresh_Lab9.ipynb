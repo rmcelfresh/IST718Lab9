{
  "nbformat": 4,
  "nbformat_minor": 0,
  "metadata": {
    "colab": {
      "name": "McElfresh_Lab9.ipynb",
      "version": "0.3.2",
      "provenance": [],
      "collapsed_sections": [],
      "include_colab_link": true
    },
    "kernelspec": {
      "name": "python3",
      "display_name": "Python 3"
    },
    "accelerator": "GPU"
  },
  "cells": [
    {
      "cell_type": "markdown",
      "metadata": {
        "id": "view-in-github",
        "colab_type": "text"
      },
      "source": [
        "<a href=\"https://colab.research.google.com/github/rmcelfresh/IST718Lab9/blob/master/McElfresh_Lab9.ipynb\" target=\"_parent\"><img src=\"https://colab.research.google.com/assets/colab-badge.svg\" alt=\"Open In Colab\"/></a>"
      ]
    },
    {
      "cell_type": "code",
      "metadata": {
        "id": "O96VPvep5vor",
        "colab_type": "code",
        "outputId": "c0f7eb31-f87d-467f-f528-d8362a123bf7",
        "colab": {
          "base_uri": "https://localhost:8080/",
          "height": 70
        }
      },
      "source": [
        "!pip install -q xlrd\n",
        "# import packages for analysis and modeling\n",
        "import pandas as pd  # data frame operations\n",
        "import numpy as np  # arrays and math functions\n",
        "!python3.6 -m pip install scipy==1.2 --upgrade\n",
        "from scipy.stats import uniform  # for training-and-test split\n",
        "import statsmodels.api as sm  # statistical models (including regression)\n",
        "import statsmodels.formula.api as smf  # R-like model specification\n",
        "import matplotlib.pyplot as plt  # 2D plotting\n",
        "\n",
        "import seaborn as sns  # PROVIDES TRELLIS AND SMALL MULTIPLE PLOTTING\n",
        "\n",
        "#from pyvttbl import DataFrame # Anova\n",
        "from scipy import stats\n",
        "from statsmodels.formula.api import ols\n",
        "import scipy.stats as stats\n",
        "from sklearn import linear_model\n",
        "from shapely.geometry import Point, Polygon\n",
        "from sklearn.model_selection import train_test_split\n",
        "from sklearn.linear_model import LinearRegression\n",
        "from sklearn.metrics import r2_score\n",
        "%matplotlib inline"
      ],
      "execution_count": 29,
      "outputs": [
        {
          "output_type": "stream",
          "text": [
            "Requirement already up-to-date: scipy==1.2 in /usr/local/lib/python3.6/dist-packages (1.2.0)\n",
            "Requirement already satisfied, skipping upgrade: numpy>=1.8.2 in /usr/local/lib/python3.6/dist-packages (from scipy==1.2) (1.16.4)\n"
          ],
          "name": "stdout"
        }
      ]
    },
    {
      "cell_type": "code",
      "metadata": {
        "id": "9LJeUQ2C6AT7",
        "colab_type": "code",
        "outputId": "c0469b8c-c04b-4363-e015-93d4cea8c96b",
        "colab": {
          "base_uri": "https://localhost:8080/",
          "height": 66
        }
      },
      "source": [
        "!pip install mnist\n",
        "!pip install python-mnist"
      ],
      "execution_count": 30,
      "outputs": [
        {
          "output_type": "stream",
          "text": [
            "Requirement already satisfied: mnist in /usr/local/lib/python3.6/dist-packages (0.2.2)\n",
            "Requirement already satisfied: numpy in /usr/local/lib/python3.6/dist-packages (from mnist) (1.16.4)\n",
            "Requirement already satisfied: python-mnist in /usr/local/lib/python3.6/dist-packages (0.6)\n"
          ],
          "name": "stdout"
        }
      ]
    },
    {
      "cell_type": "markdown",
      "metadata": {
        "id": "oHOQX_Xy7Z24",
        "colab_type": "text"
      },
      "source": [
        "Installing the needed files\n",
        "Importing the py file needed to read the fashion mnist docs"
      ]
    },
    {
      "cell_type": "code",
      "metadata": {
        "id": "6lySihkH9UCt",
        "colab_type": "code",
        "colab": {}
      },
      "source": [
        "#import \"content/fashion-mnist/utils/mnist_reader.py\""
      ],
      "execution_count": 0,
      "outputs": []
    },
    {
      "cell_type": "code",
      "metadata": {
        "id": "GzWq5fM_8WaX",
        "colab_type": "code",
        "outputId": "d6838dbd-6b6a-4c59-a625-d46ebb17291f",
        "colab": {
          "base_uri": "https://localhost:8080/",
          "height": 33
        }
      },
      "source": [
        "#cloning the git hub dist for fashion mnist\n",
        "!git clone https://github.com/zalandoresearch/fashion-mnist.git\n"
      ],
      "execution_count": 33,
      "outputs": [
        {
          "output_type": "stream",
          "text": [
            "fatal: destination path 'fashion-mnist' already exists and is not an empty directory.\n"
          ],
          "name": "stdout"
        }
      ]
    },
    {
      "cell_type": "code",
      "metadata": {
        "id": "ZGr00Qwn6HuR",
        "colab_type": "code",
        "colab": {}
      },
      "source": [
        "#couldn't figure out how to access this from the nested file so I downloaded and reuploaded the file to the main directory\n",
        "import mnist_reader\n",
        "X_train, y_train = mnist_reader.load_mnist('fashion-mnist/data/fashion', kind='train')\n",
        "X_test, y_test = mnist_reader.load_mnist('fashion-mnist/data/fashion', kind='t10k')\n"
      ],
      "execution_count": 0,
      "outputs": []
    },
    {
      "cell_type": "code",
      "metadata": {
        "id": "mMwVNpTNCYRV",
        "colab_type": "code",
        "outputId": "c9a7e9c5-d743-43a1-b9dd-14189f1dd071",
        "colab": {
          "base_uri": "https://localhost:8080/",
          "height": 83
        }
      },
      "source": [
        "#making sure the sizes make sense\n",
        "#x=the pixel detail, y = label\n",
        "print(X_train.shape)\n",
        "print(y_train.shape)\n",
        "print(X_test.shape)\n",
        "print(y_test.shape)"
      ],
      "execution_count": 35,
      "outputs": [
        {
          "output_type": "stream",
          "text": [
            "(60000, 784)\n",
            "(60000,)\n",
            "(10000, 784)\n",
            "(10000,)\n"
          ],
          "name": "stdout"
        }
      ]
    },
    {
      "cell_type": "code",
      "metadata": {
        "id": "bfuP-R56C9as",
        "colab_type": "code",
        "outputId": "7d70fa05-cc83-4183-a738-d3e249ef29d8",
        "colab": {
          "base_uri": "https://localhost:8080/",
          "height": 33
        }
      },
      "source": [
        "print('Rows: %d, columns: %d' % (X_train.shape[0], X_train.shape[1]))\n"
      ],
      "execution_count": 36,
      "outputs": [
        {
          "output_type": "stream",
          "text": [
            "Rows: 60000, columns: 784\n"
          ],
          "name": "stdout"
        }
      ]
    },
    {
      "cell_type": "code",
      "metadata": {
        "id": "looLnyGrDAfD",
        "colab_type": "code",
        "outputId": "9b2f1000-6cc5-4747-be59-a15d8a2378b5",
        "colab": {
          "base_uri": "https://localhost:8080/",
          "height": 33
        }
      },
      "source": [
        "print('Rows: %d, columns: %d' % (X_test.shape[0], X_test.shape[1]))\n"
      ],
      "execution_count": 37,
      "outputs": [
        {
          "output_type": "stream",
          "text": [
            "Rows: 10000, columns: 784\n"
          ],
          "name": "stdout"
        }
      ]
    },
    {
      "cell_type": "code",
      "metadata": {
        "id": "V4c4620MDIos",
        "colab_type": "code",
        "outputId": "1e9ffe84-15d9-4309-e247-1dddcea69bb5",
        "colab": {
          "base_uri": "https://localhost:8080/",
          "height": 225
        }
      },
      "source": [
        "#looking at one of each type of clothing-- off the bat I think the different types of shirts/tops and different types of shoes will be tough to distingush between\n",
        "\n",
        "fig, ax = plt.subplots(nrows=2, ncols=5, sharex=True, sharey=True,)\n",
        "ax = ax.flatten()\n",
        "for i in range(10):\n",
        "    img = X_train[y_train == i][0].reshape(28, 28)\n",
        "    ax[i].imshow(img, cmap='Greys', interpolation='nearest')\n",
        "\n",
        "ax[0].set_xticks([])\n",
        "ax[0].set_yticks([])\n",
        "plt.tight_layout()\n",
        "# plt.savefig('./figures/mnist_all.png', dpi=300)\n",
        "plt.show()\n"
      ],
      "execution_count": 38,
      "outputs": [
        {
          "output_type": "display_data",
          "data": {
            "image/png": "[encoded data removed]",
            "text/plain": [
              "<Figure size 432x288 with 10 Axes>"
            ]
          },
          "metadata": {
            "tags": []
          }
        }
      ]
    },
    {
      "cell_type": "code",
      "metadata": {
        "id": "lAfP8tI2DVGC",
        "colab_type": "code",
        "outputId": "6ffdfb37-0e71-4fb8-cdf4-6e60e6645c0e",
        "colab": {
          "base_uri": "https://localhost:8080/",
          "height": 296
        }
      },
      "source": [
        "# VISUALIZE DIFFERENT VARIATIONS OF Sandals\n",
        "\n",
        "fig, ax = plt.subplots(nrows=5, ncols=4, sharex=True, sharey=True,)\n",
        "ax = ax.flatten()\n",
        "for i in range(20):\n",
        "    img = X_train[y_train == 7][i].reshape(28, 28)\n",
        "    ax[i].imshow(img, cmap='Greys', interpolation='nearest')\n",
        "\n",
        "ax[0].set_xticks([])\n",
        "ax[0].set_yticks([])\n",
        "plt.tight_layout()\n",
        "# plt.savefig('./figures/mnist_9.png', dpi=300)\n",
        "plt.show()\n"
      ],
      "execution_count": 94,
      "outputs": [
        {
          "output_type": "display_data",
          "data": {
            "image/png": "[encoded data removed]",
            "text/plain": [
              "<Figure size 432x288 with 20 Axes>"
            ]
          },
          "metadata": {
            "tags": []
          }
        }
      ]
    },
    {
      "cell_type": "code",
      "metadata": {
        "id": "4U-66AYXDouL",
        "colab_type": "code",
        "colab": {}
      },
      "source": [
        "from keras.datasets import mnist\n",
        "from keras.models import Sequential\n",
        "from keras.layers import Dense\n",
        "from keras.layers import Dropout\n",
        "from keras.utils import np_utils\n",
        "import matplotlib.pyplot as plt\n"
      ],
      "execution_count": 0,
      "outputs": []
    },
    {
      "cell_type": "code",
      "metadata": {
        "id": "oPD675jES6cP",
        "colab_type": "code",
        "colab": {}
      },
      "source": [
        "#random forest code adopted from https://www.kaggle.com/atorin/mnist-digit-recognition-with-random-forests\n",
        "from sklearn.ensemble import RandomForestClassifier\n"
      ],
      "execution_count": 0,
      "outputs": []
    },
    {
      "cell_type": "code",
      "metadata": {
        "id": "S1yYe-nqS8tM",
        "colab_type": "code",
        "colab": {}
      },
      "source": [
        "#building my initial classifier\n",
        "rfc = RandomForestClassifier(n_jobs=-1, n_estimators=10)\n"
      ],
      "execution_count": 0,
      "outputs": []
    },
    {
      "cell_type": "code",
      "metadata": {
        "id": "PzXjmIsvS_pZ",
        "colab_type": "code",
        "outputId": "ed32d085-21a0-4408-854b-0bb113924b5d",
        "colab": {
          "base_uri": "https://localhost:8080/",
          "height": 133
        }
      },
      "source": [
        "#fitting the classifier to the training data\n",
        "rfc.fit(X_train, y_train)"
      ],
      "execution_count": 43,
      "outputs": [
        {
          "output_type": "execute_result",
          "data": {
            "text/plain": [
              "RandomForestClassifier(bootstrap=True, class_weight=None, criterion='gini',\n",
              "                       max_depth=None, max_features='auto', max_leaf_nodes=None,\n",
              "                       min_impurity_decrease=0.0, min_impurity_split=None,\n",
              "                       min_samples_leaf=1, min_samples_split=2,\n",
              "                       min_weight_fraction_leaf=0.0, n_estimators=10, n_jobs=-1,\n",
              "                       oob_score=False, random_state=None, verbose=0,\n",
              "                       warm_start=False)"
            ]
          },
          "metadata": {
            "tags": []
          },
          "execution_count": 43
        }
      ]
    },
    {
      "cell_type": "code",
      "metadata": {
        "id": "GzHux1jiTEl6",
        "colab_type": "code",
        "outputId": "c89f4ef0-b339-4bc2-d073-d2d7da744176",
        "colab": {
          "base_uri": "https://localhost:8080/",
          "height": 83
        }
      },
      "source": [
        "%%time\n",
        "#building my initial classifier\n",
        "rfc = RandomForestClassifier(n_jobs=-1, n_estimators=10)\n",
        "\n",
        "#fitting the classifier to the training data\n",
        "rfc.fit(X_train, y_train)\n",
        "#scoring the classifier on the test data--not bad for no tuning\n",
        "print(rfc.score(X_train, y_train))\n",
        "print(rfc.score(X_test, y_test))\n",
        "#we have massive overfitting...\n",
        "#0.8556"
      ],
      "execution_count": 104,
      "outputs": [
        {
          "output_type": "stream",
          "text": [
            "0.9951166666666666\n",
            "0.8517\n",
            "CPU times: user 13.6 s, sys: 95 ms, total: 13.7 s\n",
            "Wall time: 7.2 s\n"
          ],
          "name": "stdout"
        }
      ]
    },
    {
      "cell_type": "markdown",
      "metadata": {
        "id": "68Z0D94h8D0t",
        "colab_type": "text"
      },
      "source": [
        "next I tried several different classifier set ups to see what worked best considering processing time"
      ]
    },
    {
      "cell_type": "code",
      "metadata": {
        "id": "CZn6tQrbDjzi",
        "colab_type": "code",
        "outputId": "6cc61424-1bab-41cb-b982-2c74cff7855a",
        "colab": {
          "base_uri": "https://localhost:8080/",
          "height": 83
        }
      },
      "source": [
        "\n",
        "%%time \n",
        "rfc = RandomForestClassifier(n_jobs=-1, n_estimators=20)\n",
        "rfc.fit(X_train, y_train)\n",
        "print(rfc.score(X_train, y_train))\n",
        "print(rfc.score(X_test, y_test))\n",
        "#0.8671"
      ],
      "execution_count": 45,
      "outputs": [
        {
          "output_type": "stream",
          "text": [
            "0.9989833333333333\n",
            "0.8652\n",
            "CPU times: user 28.7 s, sys: 33.9 ms, total: 28.7 s\n",
            "Wall time: 14.8 s\n"
          ],
          "name": "stdout"
        }
      ]
    },
    {
      "cell_type": "code",
      "metadata": {
        "id": "WPP12IUZUmTD",
        "colab_type": "code",
        "outputId": "0593e651-f299-4bc6-a842-95ff0081c7be",
        "colab": {
          "base_uri": "https://localhost:8080/",
          "height": 83
        }
      },
      "source": [
        "\n",
        "%%time\n",
        "rfc = RandomForestClassifier(n_jobs=-1, n_estimators=50)\n",
        "rfc.fit(X_train, y_train)\n",
        "print(rfc.score(X_train, y_train))\n",
        "print(rfc.score(X_test, y_test))\n",
        "#0.8731 best mix of time to run and predictive power"
      ],
      "execution_count": 46,
      "outputs": [
        {
          "output_type": "stream",
          "text": [
            "0.9999333333333333\n",
            "0.8744\n",
            "CPU times: user 1min 10s, sys: 97.9 ms, total: 1min 10s\n",
            "Wall time: 35.9 s\n"
          ],
          "name": "stdout"
        }
      ]
    },
    {
      "cell_type": "code",
      "metadata": {
        "id": "XjrznGk0Uyeq",
        "colab_type": "code",
        "outputId": "50e806ef-9a18-4045-bf1a-ddaceae24071",
        "colab": {
          "base_uri": "https://localhost:8080/",
          "height": 83
        }
      },
      "source": [
        "%%time\n",
        "rfc = RandomForestClassifier(n_jobs=-1, n_estimators=100)\n",
        "rfc.fit(X_train, y_train)\n",
        "print(rfc.score(X_train, y_train))\n",
        "print(rfc.score(X_test, y_test))\n",
        "#0.8752 --marginal improvement for significantly longer processing time"
      ],
      "execution_count": 47,
      "outputs": [
        {
          "output_type": "stream",
          "text": [
            "1.0\n",
            "0.8736\n",
            "CPU times: user 2min 19s, sys: 175 ms, total: 2min 19s\n",
            "Wall time: 1min 11s\n"
          ],
          "name": "stdout"
        }
      ]
    },
    {
      "cell_type": "code",
      "metadata": {
        "id": "dEZjVFE1Vk13",
        "colab_type": "code",
        "outputId": "eb1310dd-e450-4658-c9ff-af2dd1ba1cfa",
        "colab": {
          "base_uri": "https://localhost:8080/",
          "height": 83
        }
      },
      "source": [
        "%%time\n",
        "#trying to manipulate other variables\n",
        "rfc = RandomForestClassifier(n_jobs=-1, n_estimators=50, criterion = \"entropy\")\n",
        "rfc.fit(X_train, y_train)\n",
        "print(rfc.score(X_train, y_train))\n",
        "print(rfc.score(X_test, y_test))\n",
        "#0.8768 best mix of time to run and predictive power"
      ],
      "execution_count": 48,
      "outputs": [
        {
          "output_type": "stream",
          "text": [
            "0.9999666666666667\n",
            "0.8749\n",
            "CPU times: user 1min 28s, sys: 131 ms, total: 1min 28s\n",
            "Wall time: 45.1 s\n"
          ],
          "name": "stdout"
        }
      ]
    },
    {
      "cell_type": "code",
      "metadata": {
        "id": "FTZha1q549pL",
        "colab_type": "code",
        "outputId": "cc59498f-bfc2-4cfe-b70b-bfb183a56c3d",
        "colab": {
          "base_uri": "https://localhost:8080/",
          "height": 33
        }
      },
      "source": [
        "#building my confusion matrix\n",
        "predictions = rfc.predict(X_test)\n",
        "predictions[4]\n",
        "np.argmax(predictions[0])\n",
        "#test_labels[0]\n",
        "\n",
        "\n",
        "print(predictions)"
      ],
      "execution_count": 51,
      "outputs": [
        {
          "output_type": "stream",
          "text": [
            "[9 2 1 ... 8 1 5]\n"
          ],
          "name": "stdout"
        }
      ]
    },
    {
      "cell_type": "code",
      "metadata": {
        "id": "Jl62Ru3O40Oj",
        "colab_type": "code",
        "colab": {}
      },
      "source": [
        "#didn't end up using this here--used below\n",
        "Image=[]\n",
        "Pred=[]\n",
        "TrueLabel=[]\n",
        "Images=np.array([np.arange(10000)]*1).T\n",
        "for i in Images:\n",
        "    Image.append(i)\n",
        "    predictions[i]\n",
        "    TrueLabel.append(y_test[i])"
      ],
      "execution_count": 0,
      "outputs": []
    },
    {
      "cell_type": "code",
      "metadata": {
        "id": "oozKAQja6NjJ",
        "colab_type": "code",
        "outputId": "2c4757f1-db8f-45dc-da7f-b607cb11801a",
        "colab": {
          "base_uri": "https://localhost:8080/",
          "height": 33
        }
      },
      "source": [
        "print(len(y_test),\n",
        "len(predictions),\n",
        "len(TrueLabel))"
      ],
      "execution_count": 53,
      "outputs": [
        {
          "output_type": "stream",
          "text": [
            "10000 10000 10000\n"
          ],
          "name": "stdout"
        }
      ]
    },
    {
      "cell_type": "code",
      "metadata": {
        "id": "s0Kd9vTW5nQ9",
        "colab_type": "code",
        "outputId": "3e9f0339-6f15-4447-ad5a-bd605c60ed0c",
        "colab": {
          "base_uri": "https://localhost:8080/",
          "height": 197
        }
      },
      "source": [
        "#building dataframe for confusion matrix\n",
        "d = {'Image':Image, \"Prediction\": predictions, \"TrueLabel\": y_test}\n",
        "df= pd.DataFrame(d)\n",
        "df.head()"
      ],
      "execution_count": 54,
      "outputs": [
        {
          "output_type": "execute_result",
          "data": {
            "text/html": [
              "<div>\n",
              "<style scoped>\n",
              "    .dataframe tbody tr th:only-of-type {\n",
              "        vertical-align: middle;\n",
              "    }\n",
              "\n",
              "    .dataframe tbody tr th {\n",
              "        vertical-align: top;\n",
              "    }\n",
              "\n",
              "    .dataframe thead th {\n",
              "        text-align: right;\n",
              "    }\n",
              "</style>\n",
              "<table border=\"1\" class=\"dataframe\">\n",
              "  <thead>\n",
              "    <tr style=\"text-align: right;\">\n",
              "      <th></th>\n",
              "      <th>Image</th>\n",
              "      <th>Prediction</th>\n",
              "      <th>TrueLabel</th>\n",
              "    </tr>\n",
              "  </thead>\n",
              "  <tbody>\n",
              "    <tr>\n",
              "      <th>0</th>\n",
              "      <td>[0]</td>\n",
              "      <td>9</td>\n",
              "      <td>9</td>\n",
              "    </tr>\n",
              "    <tr>\n",
              "      <th>1</th>\n",
              "      <td>[1]</td>\n",
              "      <td>2</td>\n",
              "      <td>2</td>\n",
              "    </tr>\n",
              "    <tr>\n",
              "      <th>2</th>\n",
              "      <td>[2]</td>\n",
              "      <td>1</td>\n",
              "      <td>1</td>\n",
              "    </tr>\n",
              "    <tr>\n",
              "      <th>3</th>\n",
              "      <td>[3]</td>\n",
              "      <td>1</td>\n",
              "      <td>1</td>\n",
              "    </tr>\n",
              "    <tr>\n",
              "      <th>4</th>\n",
              "      <td>[4]</td>\n",
              "      <td>6</td>\n",
              "      <td>6</td>\n",
              "    </tr>\n",
              "  </tbody>\n",
              "</table>\n",
              "</div>"
            ],
            "text/plain": [
              "  Image  Prediction  TrueLabel\n",
              "0   [0]           9          9\n",
              "1   [1]           2          2\n",
              "2   [2]           1          1\n",
              "3   [3]           1          1\n",
              "4   [4]           6          6"
            ]
          },
          "metadata": {
            "tags": []
          },
          "execution_count": 54
        }
      ]
    },
    {
      "cell_type": "code",
      "metadata": {
        "id": "vwjh3J_U6iAv",
        "colab_type": "code",
        "colab": {}
      },
      "source": [
        "df.to_csv('RandomForestfinalPred.csv')"
      ],
      "execution_count": 0,
      "outputs": []
    },
    {
      "cell_type": "code",
      "metadata": {
        "id": "r564lCvsmNgB",
        "colab_type": "code",
        "colab": {}
      },
      "source": [
        "#tensor flow code adopted from https://www.tensorflow.org/tutorials/keras/basic_classification"
      ],
      "execution_count": 0,
      "outputs": []
    },
    {
      "cell_type": "code",
      "metadata": {
        "id": "0J44zjcykUwB",
        "colab_type": "code",
        "outputId": "02f88877-3994-439b-c34a-84ca55a87581",
        "colab": {
          "base_uri": "https://localhost:8080/",
          "height": 33
        }
      },
      "source": [
        "from __future__ import absolute_import, division, print_function\n",
        "\n",
        "# TensorFlow and tf.keras\n",
        "import tensorflow as tf\n",
        "from tensorflow import keras\n",
        "\n",
        "# Helper libraries\n",
        "import numpy as np\n",
        "import matplotlib.pyplot as plt\n",
        "\n",
        "print(tf.__version__)\n"
      ],
      "execution_count": 57,
      "outputs": [
        {
          "output_type": "stream",
          "text": [
            "1.13.1\n"
          ],
          "name": "stdout"
        }
      ]
    },
    {
      "cell_type": "code",
      "metadata": {
        "id": "5zaUuCS2j5_R",
        "colab_type": "code",
        "outputId": "63b71e22-128e-45a7-cb15-1642d71a2419",
        "colab": {
          "base_uri": "https://localhost:8080/",
          "height": 150
        }
      },
      "source": [
        "#pulling in the same data as before but from a different source--not really necessary\n",
        "\n",
        "fashion_mnist = keras.datasets.fashion_mnist\n",
        "\n",
        "(train_images, train_labels), (test_images, test_labels) = fashion_mnist.load_data()\n"
      ],
      "execution_count": 58,
      "outputs": [
        {
          "output_type": "stream",
          "text": [
            "Downloading data from https://storage.googleapis.com/tensorflow/tf-keras-datasets/train-labels-idx1-ubyte.gz\n",
            "32768/29515 [=================================] - 0s 0us/step\n",
            "Downloading data from https://storage.googleapis.com/tensorflow/tf-keras-datasets/train-images-idx3-ubyte.gz\n",
            "26427392/26421880 [==============================] - 0s 0us/step\n",
            "Downloading data from https://storage.googleapis.com/tensorflow/tf-keras-datasets/t10k-labels-idx1-ubyte.gz\n",
            "8192/5148 [===============================================] - 0s 0us/step\n",
            "Downloading data from https://storage.googleapis.com/tensorflow/tf-keras-datasets/t10k-images-idx3-ubyte.gz\n",
            "4423680/4422102 [==============================] - 0s 0us/step\n"
          ],
          "name": "stdout"
        }
      ]
    },
    {
      "cell_type": "code",
      "metadata": {
        "id": "mxqT1CZXkajM",
        "colab_type": "code",
        "colab": {}
      },
      "source": [
        "#storing the class names to use later\n",
        "class_names = ['T-shirt/top', 'Trouser', 'Pullover', 'Dress', 'Coat', \n",
        "               'Sandal', 'Shirt', 'Sneaker', 'Bag', 'Ankle boot']"
      ],
      "execution_count": 0,
      "outputs": []
    },
    {
      "cell_type": "code",
      "metadata": {
        "id": "VxY26pB0khDu",
        "colab_type": "code",
        "outputId": "f8429467-e41e-4d2f-d17b-a45753eebfdd",
        "colab": {
          "base_uri": "https://localhost:8080/",
          "height": 50
        }
      },
      "source": [
        "#again confirming my table sizes=looks right (28x28 is pixel size of each image)\n",
        "print(train_images.shape)\n",
        "print(len(train_labels))\n"
      ],
      "execution_count": 60,
      "outputs": [
        {
          "output_type": "stream",
          "text": [
            "(60000, 28, 28)\n",
            "60000\n"
          ],
          "name": "stdout"
        }
      ]
    },
    {
      "cell_type": "code",
      "metadata": {
        "id": "lrJWcR-6kolW",
        "colab_type": "code",
        "outputId": "8304c1c5-1d7a-4b7e-fb3e-f16fba7fe4e3",
        "colab": {
          "base_uri": "https://localhost:8080/",
          "height": 50
        }
      },
      "source": [
        "print(test_images.shape)\n",
        "print(len(test_labels))"
      ],
      "execution_count": 61,
      "outputs": [
        {
          "output_type": "stream",
          "text": [
            "(10000, 28, 28)\n",
            "10000\n"
          ],
          "name": "stdout"
        }
      ]
    },
    {
      "cell_type": "code",
      "metadata": {
        "id": "PiOXPL-Ekwr8",
        "colab_type": "code",
        "outputId": "a977bacc-9b0d-494f-8392-ac0a07eaeb68",
        "colab": {
          "base_uri": "https://localhost:8080/",
          "height": 268
        }
      },
      "source": [
        "#demonstrating what the pics look like in terms of pixel darkness--these will be changed to B&W for actual processing\n",
        "plt.figure()\n",
        "plt.imshow(train_images[120])\n",
        "plt.colorbar()\n",
        "plt.grid(False)\n",
        "plt.show()"
      ],
      "execution_count": 103,
      "outputs": [
        {
          "output_type": "display_data",
          "data": {
            "image/png": "[encoded data removed]",
            "text/plain": [
              "<Figure size 432x288 with 2 Axes>"
            ]
          },
          "metadata": {
            "tags": []
          }
        }
      ]
    },
    {
      "cell_type": "code",
      "metadata": {
        "id": "MYPagXhHkzxt",
        "colab_type": "code",
        "colab": {}
      },
      "source": [
        "train_images = train_images / 255.0\n",
        "\n",
        "test_images = test_images / 255.0"
      ],
      "execution_count": 0,
      "outputs": []
    },
    {
      "cell_type": "code",
      "metadata": {
        "id": "ZLk7boIak2x1",
        "colab_type": "code",
        "outputId": "00f88220-8d8e-4d80-b58a-033e21f75710",
        "colab": {
          "base_uri": "https://localhost:8080/",
          "height": 592
        }
      },
      "source": [
        "#looking at an assortment of different varities of clothing included in the dataset\n",
        "plt.figure(figsize=(10,10))\n",
        "for i in range(25):\n",
        "    plt.subplot(5,5,i+1)\n",
        "    plt.xticks([])\n",
        "    plt.yticks([])\n",
        "    plt.grid(False)\n",
        "    plt.imshow(train_images[i], cmap=plt.cm.binary)\n",
        "    plt.xlabel(class_names[train_labels[i]])\n",
        "plt.show()"
      ],
      "execution_count": 64,
      "outputs": [
        {
          "output_type": "display_data",
          "data": {
            "image/png": "[encoded data removed]",
            "text/plain": [
              "<Figure size 720x720 with 25 Axes>"
            ]
          },
          "metadata": {
            "tags": []
          }
        }
      ]
    },
    {
      "cell_type": "code",
      "metadata": {
        "id": "0PFEYBQYk6y7",
        "colab_type": "code",
        "colab": {
          "base_uri": "https://localhost:8080/",
          "height": 120
        },
        "outputId": "ff7959dc-3c95-44d5-de1d-cffdc6877387"
      },
      "source": [
        "\n",
        "%%time \n",
        "#building my model\n",
        "\n",
        "model = keras.Sequential([\n",
        "    keras.layers.Flatten(input_shape=(28, 28)),\n",
        "    keras.layers.Dense(128, activation=tf.nn.relu),\n",
        "    keras.layers.Dense(10, activation=tf.nn.softmax)\n",
        "])"
      ],
      "execution_count": 65,
      "outputs": [
        {
          "output_type": "stream",
          "text": [
            "WARNING:tensorflow:From /usr/local/lib/python3.6/dist-packages/tensorflow/python/ops/resource_variable_ops.py:435: colocate_with (from tensorflow.python.framework.ops) is deprecated and will be removed in a future version.\n",
            "Instructions for updating:\n",
            "Colocations handled automatically by placer.\n",
            "CPU times: user 64.7 ms, sys: 31.9 ms, total: 96.6 ms\n",
            "Wall time: 79.1 ms\n"
          ],
          "name": "stdout"
        }
      ]
    },
    {
      "cell_type": "code",
      "metadata": {
        "id": "gxjtXMtAk-8X",
        "colab_type": "code",
        "colab": {
          "base_uri": "https://localhost:8080/",
          "height": 50
        },
        "outputId": "139f3071-db08-4143-bcba-28c0dd6f8ddf"
      },
      "source": [
        "%%time \n",
        "#compliling the model\n",
        "model.compile(optimizer='adam', \n",
        "              loss='sparse_categorical_crossentropy',\n",
        "              metrics=['accuracy'])"
      ],
      "execution_count": 66,
      "outputs": [
        {
          "output_type": "stream",
          "text": [
            "CPU times: user 106 ms, sys: 996 µs, total: 107 ms\n",
            "Wall time: 117 ms\n"
          ],
          "name": "stdout"
        }
      ]
    },
    {
      "cell_type": "code",
      "metadata": {
        "id": "JoYT6g9ylBCy",
        "colab_type": "code",
        "outputId": "f40b1007-baf8-4a35-df30-df9978769749",
        "colab": {
          "base_uri": "https://localhost:8080/",
          "height": 400
        }
      },
      "source": [
        "%%time \n",
        "#initial run w/ ten epochs\n",
        "history  = model.fit(train_images, train_labels, validation_data=(test_images,test_labels), epochs=10, batch_size=1000, verbose=2)\n"
      ],
      "execution_count": 105,
      "outputs": [
        {
          "output_type": "stream",
          "text": [
            "Train on 60000 samples, validate on 10000 samples\n",
            "Epoch 1/10\n",
            " - 0s - loss: 0.0084 - acc: 0.9983 - val_loss: 0.7643 - val_acc: 0.8866\n",
            "Epoch 2/10\n",
            " - 0s - loss: 0.0050 - acc: 0.9996 - val_loss: 0.7679 - val_acc: 0.8872\n",
            "Epoch 3/10\n",
            " - 0s - loss: 0.0047 - acc: 0.9996 - val_loss: 0.7632 - val_acc: 0.8862\n",
            "Epoch 4/10\n",
            " - 0s - loss: 0.0044 - acc: 0.9997 - val_loss: 0.7632 - val_acc: 0.8866\n",
            "Epoch 5/10\n",
            " - 0s - loss: 0.0042 - acc: 0.9998 - val_loss: 0.7655 - val_acc: 0.8872\n",
            "Epoch 6/10\n",
            " - 0s - loss: 0.0040 - acc: 0.9998 - val_loss: 0.7713 - val_acc: 0.8867\n",
            "Epoch 7/10\n",
            " - 0s - loss: 0.0044 - acc: 0.9997 - val_loss: 0.7755 - val_acc: 0.8864\n",
            "Epoch 8/10\n",
            " - 0s - loss: 0.0039 - acc: 0.9998 - val_loss: 0.7725 - val_acc: 0.8873\n",
            "Epoch 9/10\n",
            " - 0s - loss: 0.0036 - acc: 0.9999 - val_loss: 0.7753 - val_acc: 0.8869\n",
            "Epoch 10/10\n",
            " - 0s - loss: 0.0045 - acc: 0.9996 - val_loss: 0.7762 - val_acc: 0.8870\n",
            "CPU times: user 4.68 s, sys: 258 ms, total: 4.93 s\n",
            "Wall time: 4.12 s\n"
          ],
          "name": "stdout"
        }
      ]
    },
    {
      "cell_type": "code",
      "metadata": {
        "id": "kO90iKYQkHNY",
        "colab_type": "code",
        "colab": {
          "base_uri": "https://localhost:8080/",
          "height": 33
        },
        "outputId": "b6a4242a-86d1-4451-9f13-a80e05c1dfe7"
      },
      "source": [
        "history"
      ],
      "execution_count": 106,
      "outputs": [
        {
          "output_type": "execute_result",
          "data": {
            "text/plain": [
              "<tensorflow.python.keras.callbacks.History at 0x7f7412323908>"
            ]
          },
          "metadata": {
            "tags": []
          },
          "execution_count": 106
        }
      ]
    },
    {
      "cell_type": "code",
      "metadata": {
        "id": "zwE9x8nnpBwl",
        "colab_type": "code",
        "outputId": "f822bba1-c66a-470b-9c23-9a97a68b7a5f",
        "colab": {
          "base_uri": "https://localhost:8080/",
          "height": 10066
        }
      },
      "source": [
        "%%time \n",
        "#second run with 300 epochs\n",
        "history  = model.fit(train_images, train_labels, validation_data=(test_images,test_labels), epochs=300, batch_size=1000, verbose=2)\n"
      ],
      "execution_count": 68,
      "outputs": [
        {
          "output_type": "stream",
          "text": [
            "Train on 60000 samples, validate on 10000 samples\n",
            "Epoch 1/300\n",
            " - 0s - loss: 0.2066 - acc: 0.9239 - val_loss: 0.3111 - val_acc: 0.8900\n",
            "Epoch 2/300\n",
            " - 0s - loss: 0.1941 - acc: 0.9287 - val_loss: 0.3093 - val_acc: 0.8917\n",
            "Epoch 3/300\n",
            " - 0s - loss: 0.1910 - acc: 0.9294 - val_loss: 0.3084 - val_acc: 0.8911\n",
            "Epoch 4/300\n",
            " - 0s - loss: 0.1894 - acc: 0.9301 - val_loss: 0.3068 - val_acc: 0.8922\n",
            "Epoch 5/300\n",
            " - 0s - loss: 0.1880 - acc: 0.9304 - val_loss: 0.3074 - val_acc: 0.8940\n",
            "Epoch 6/300\n",
            " - 0s - loss: 0.1868 - acc: 0.9314 - val_loss: 0.3070 - val_acc: 0.8940\n",
            "Epoch 7/300\n",
            " - 0s - loss: 0.1858 - acc: 0.9313 - val_loss: 0.3064 - val_acc: 0.8940\n",
            "Epoch 8/300\n",
            " - 0s - loss: 0.1848 - acc: 0.9322 - val_loss: 0.3062 - val_acc: 0.8934\n",
            "Epoch 9/300\n",
            " - 0s - loss: 0.1841 - acc: 0.9321 - val_loss: 0.3066 - val_acc: 0.8939\n",
            "Epoch 10/300\n",
            " - 0s - loss: 0.1833 - acc: 0.9323 - val_loss: 0.3055 - val_acc: 0.8946\n",
            "Epoch 11/300\n",
            " - 0s - loss: 0.1829 - acc: 0.9330 - val_loss: 0.3054 - val_acc: 0.8938\n",
            "Epoch 12/300\n",
            " - 0s - loss: 0.1812 - acc: 0.9335 - val_loss: 0.3054 - val_acc: 0.8950\n",
            "Epoch 13/300\n",
            " - 0s - loss: 0.1804 - acc: 0.9336 - val_loss: 0.3074 - val_acc: 0.8930\n",
            "Epoch 14/300\n",
            " - 0s - loss: 0.1798 - acc: 0.9340 - val_loss: 0.3064 - val_acc: 0.8941\n",
            "Epoch 15/300\n",
            " - 0s - loss: 0.1792 - acc: 0.9344 - val_loss: 0.3068 - val_acc: 0.8946\n",
            "Epoch 16/300\n",
            " - 0s - loss: 0.1780 - acc: 0.9346 - val_loss: 0.3060 - val_acc: 0.8932\n",
            "Epoch 17/300\n",
            " - 0s - loss: 0.1773 - acc: 0.9352 - val_loss: 0.3049 - val_acc: 0.8956\n",
            "Epoch 18/300\n",
            " - 0s - loss: 0.1759 - acc: 0.9356 - val_loss: 0.3062 - val_acc: 0.8944\n",
            "Epoch 19/300\n",
            " - 0s - loss: 0.1754 - acc: 0.9357 - val_loss: 0.3050 - val_acc: 0.8956\n",
            "Epoch 20/300\n",
            " - 0s - loss: 0.1747 - acc: 0.9358 - val_loss: 0.3057 - val_acc: 0.8935\n",
            "Epoch 21/300\n",
            " - 0s - loss: 0.1736 - acc: 0.9367 - val_loss: 0.3065 - val_acc: 0.8941\n",
            "Epoch 22/300\n",
            " - 0s - loss: 0.1726 - acc: 0.9370 - val_loss: 0.3063 - val_acc: 0.8952\n",
            "Epoch 23/300\n",
            " - 0s - loss: 0.1718 - acc: 0.9373 - val_loss: 0.3053 - val_acc: 0.8949\n",
            "Epoch 24/300\n",
            " - 0s - loss: 0.1710 - acc: 0.9377 - val_loss: 0.3066 - val_acc: 0.8944\n",
            "Epoch 25/300\n",
            " - 0s - loss: 0.1704 - acc: 0.9378 - val_loss: 0.3066 - val_acc: 0.8956\n",
            "Epoch 26/300\n",
            " - 0s - loss: 0.1690 - acc: 0.9379 - val_loss: 0.3067 - val_acc: 0.8939\n",
            "Epoch 27/300\n",
            " - 0s - loss: 0.1684 - acc: 0.9384 - val_loss: 0.3054 - val_acc: 0.8956\n",
            "Epoch 28/300\n",
            " - 0s - loss: 0.1668 - acc: 0.9394 - val_loss: 0.3054 - val_acc: 0.8938\n",
            "Epoch 29/300\n",
            " - 0s - loss: 0.1664 - acc: 0.9394 - val_loss: 0.3057 - val_acc: 0.8955\n",
            "Epoch 30/300\n",
            " - 0s - loss: 0.1650 - acc: 0.9403 - val_loss: 0.3054 - val_acc: 0.8950\n",
            "Epoch 31/300\n",
            " - 0s - loss: 0.1638 - acc: 0.9403 - val_loss: 0.3071 - val_acc: 0.8957\n",
            "Epoch 32/300\n",
            " - 0s - loss: 0.1629 - acc: 0.9410 - val_loss: 0.3089 - val_acc: 0.8972\n",
            "Epoch 33/300\n",
            " - 0s - loss: 0.1617 - acc: 0.9413 - val_loss: 0.3086 - val_acc: 0.8951\n",
            "Epoch 34/300\n",
            " - 0s - loss: 0.1608 - acc: 0.9419 - val_loss: 0.3111 - val_acc: 0.8961\n",
            "Epoch 35/300\n",
            " - 0s - loss: 0.1597 - acc: 0.9419 - val_loss: 0.3077 - val_acc: 0.8963\n",
            "Epoch 36/300\n",
            " - 0s - loss: 0.1586 - acc: 0.9431 - val_loss: 0.3086 - val_acc: 0.8964\n",
            "Epoch 37/300\n",
            " - 0s - loss: 0.1579 - acc: 0.9427 - val_loss: 0.3093 - val_acc: 0.8968\n",
            "Epoch 38/300\n",
            " - 0s - loss: 0.1563 - acc: 0.9442 - val_loss: 0.3085 - val_acc: 0.8952\n",
            "Epoch 39/300\n",
            " - 0s - loss: 0.1550 - acc: 0.9442 - val_loss: 0.3117 - val_acc: 0.8963\n",
            "Epoch 40/300\n",
            " - 0s - loss: 0.1541 - acc: 0.9452 - val_loss: 0.3119 - val_acc: 0.8966\n",
            "Epoch 41/300\n",
            " - 0s - loss: 0.1532 - acc: 0.9457 - val_loss: 0.3091 - val_acc: 0.8951\n",
            "Epoch 42/300\n",
            " - 0s - loss: 0.1526 - acc: 0.9455 - val_loss: 0.3098 - val_acc: 0.8964\n",
            "Epoch 43/300\n",
            " - 0s - loss: 0.1517 - acc: 0.9455 - val_loss: 0.3107 - val_acc: 0.8963\n",
            "Epoch 44/300\n",
            " - 0s - loss: 0.1494 - acc: 0.9464 - val_loss: 0.3102 - val_acc: 0.8961\n",
            "Epoch 45/300\n",
            " - 0s - loss: 0.1484 - acc: 0.9467 - val_loss: 0.3129 - val_acc: 0.8964\n",
            "Epoch 46/300\n",
            " - 0s - loss: 0.1470 - acc: 0.9473 - val_loss: 0.3112 - val_acc: 0.8953\n",
            "Epoch 47/300\n",
            " - 0s - loss: 0.1455 - acc: 0.9482 - val_loss: 0.3144 - val_acc: 0.8969\n",
            "Epoch 48/300\n",
            " - 0s - loss: 0.1445 - acc: 0.9486 - val_loss: 0.3161 - val_acc: 0.8961\n",
            "Epoch 49/300\n",
            " - 0s - loss: 0.1432 - acc: 0.9486 - val_loss: 0.3151 - val_acc: 0.8960\n",
            "Epoch 50/300\n",
            " - 0s - loss: 0.1419 - acc: 0.9498 - val_loss: 0.3155 - val_acc: 0.8948\n",
            "Epoch 51/300\n",
            " - 0s - loss: 0.1411 - acc: 0.9496 - val_loss: 0.3192 - val_acc: 0.8942\n",
            "Epoch 52/300\n",
            " - 0s - loss: 0.1395 - acc: 0.9505 - val_loss: 0.3167 - val_acc: 0.8966\n",
            "Epoch 53/300\n",
            " - 0s - loss: 0.1385 - acc: 0.9509 - val_loss: 0.3155 - val_acc: 0.8952\n",
            "Epoch 54/300\n",
            " - 0s - loss: 0.1369 - acc: 0.9523 - val_loss: 0.3174 - val_acc: 0.8962\n",
            "Epoch 55/300\n",
            " - 0s - loss: 0.1353 - acc: 0.9520 - val_loss: 0.3190 - val_acc: 0.8957\n",
            "Epoch 56/300\n",
            " - 0s - loss: 0.1336 - acc: 0.9534 - val_loss: 0.3204 - val_acc: 0.8961\n",
            "Epoch 57/300\n",
            " - 0s - loss: 0.1335 - acc: 0.9532 - val_loss: 0.3214 - val_acc: 0.8953\n",
            "Epoch 58/300\n",
            " - 0s - loss: 0.1310 - acc: 0.9535 - val_loss: 0.3230 - val_acc: 0.8950\n",
            "Epoch 59/300\n",
            " - 0s - loss: 0.1306 - acc: 0.9541 - val_loss: 0.3230 - val_acc: 0.8965\n",
            "Epoch 60/300\n",
            " - 0s - loss: 0.1286 - acc: 0.9549 - val_loss: 0.3214 - val_acc: 0.8972\n",
            "Epoch 61/300\n",
            " - 0s - loss: 0.1281 - acc: 0.9557 - val_loss: 0.3270 - val_acc: 0.8962\n",
            "Epoch 62/300\n",
            " - 0s - loss: 0.1265 - acc: 0.9558 - val_loss: 0.3245 - val_acc: 0.8972\n",
            "Epoch 63/300\n",
            " - 0s - loss: 0.1256 - acc: 0.9568 - val_loss: 0.3282 - val_acc: 0.8954\n",
            "Epoch 64/300\n",
            " - 0s - loss: 0.1239 - acc: 0.9570 - val_loss: 0.3293 - val_acc: 0.8983\n",
            "Epoch 65/300\n",
            " - 0s - loss: 0.1227 - acc: 0.9571 - val_loss: 0.3259 - val_acc: 0.8968\n",
            "Epoch 66/300\n",
            " - 0s - loss: 0.1212 - acc: 0.9584 - val_loss: 0.3261 - val_acc: 0.8980\n",
            "Epoch 67/300\n",
            " - 0s - loss: 0.1217 - acc: 0.9579 - val_loss: 0.3351 - val_acc: 0.8963\n",
            "Epoch 68/300\n",
            " - 0s - loss: 0.1199 - acc: 0.9583 - val_loss: 0.3293 - val_acc: 0.8961\n",
            "Epoch 69/300\n",
            " - 0s - loss: 0.1166 - acc: 0.9598 - val_loss: 0.3325 - val_acc: 0.8947\n",
            "Epoch 70/300\n",
            " - 0s - loss: 0.1155 - acc: 0.9606 - val_loss: 0.3327 - val_acc: 0.8972\n",
            "Epoch 71/300\n",
            " - 0s - loss: 0.1146 - acc: 0.9606 - val_loss: 0.3386 - val_acc: 0.8941\n",
            "Epoch 72/300\n",
            " - 0s - loss: 0.1145 - acc: 0.9604 - val_loss: 0.3356 - val_acc: 0.8969\n",
            "Epoch 73/300\n",
            " - 0s - loss: 0.1114 - acc: 0.9617 - val_loss: 0.3352 - val_acc: 0.8978\n",
            "Epoch 74/300\n",
            " - 0s - loss: 0.1110 - acc: 0.9626 - val_loss: 0.3384 - val_acc: 0.8955\n",
            "Epoch 75/300\n",
            " - 0s - loss: 0.1104 - acc: 0.9623 - val_loss: 0.3440 - val_acc: 0.8974\n",
            "Epoch 76/300\n",
            " - 0s - loss: 0.1078 - acc: 0.9639 - val_loss: 0.3420 - val_acc: 0.8943\n",
            "Epoch 77/300\n",
            " - 0s - loss: 0.1071 - acc: 0.9638 - val_loss: 0.3416 - val_acc: 0.8975\n",
            "Epoch 78/300\n",
            " - 0s - loss: 0.1048 - acc: 0.9650 - val_loss: 0.3411 - val_acc: 0.8975\n",
            "Epoch 79/300\n",
            " - 0s - loss: 0.1038 - acc: 0.9651 - val_loss: 0.3463 - val_acc: 0.8976\n",
            "Epoch 80/300\n",
            " - 0s - loss: 0.1042 - acc: 0.9645 - val_loss: 0.3522 - val_acc: 0.8968\n",
            "Epoch 81/300\n",
            " - 0s - loss: 0.1029 - acc: 0.9659 - val_loss: 0.3457 - val_acc: 0.8948\n",
            "Epoch 82/300\n",
            " - 0s - loss: 0.1011 - acc: 0.9661 - val_loss: 0.3461 - val_acc: 0.8977\n",
            "Epoch 83/300\n",
            " - 0s - loss: 0.1001 - acc: 0.9671 - val_loss: 0.3565 - val_acc: 0.8957\n",
            "Epoch 84/300\n",
            " - 0s - loss: 0.0983 - acc: 0.9679 - val_loss: 0.3552 - val_acc: 0.8965\n",
            "Epoch 85/300\n",
            " - 0s - loss: 0.0982 - acc: 0.9674 - val_loss: 0.3518 - val_acc: 0.8963\n",
            "Epoch 86/300\n",
            " - 0s - loss: 0.0967 - acc: 0.9681 - val_loss: 0.3585 - val_acc: 0.8954\n",
            "Epoch 87/300\n",
            " - 0s - loss: 0.0946 - acc: 0.9684 - val_loss: 0.3565 - val_acc: 0.8971\n",
            "Epoch 88/300\n",
            " - 0s - loss: 0.0933 - acc: 0.9694 - val_loss: 0.3636 - val_acc: 0.8938\n",
            "Epoch 89/300\n",
            " - 0s - loss: 0.0940 - acc: 0.9686 - val_loss: 0.3567 - val_acc: 0.8983\n",
            "Epoch 90/300\n",
            " - 0s - loss: 0.0915 - acc: 0.9698 - val_loss: 0.3615 - val_acc: 0.8974\n",
            "Epoch 91/300\n",
            " - 0s - loss: 0.0904 - acc: 0.9704 - val_loss: 0.3605 - val_acc: 0.8957\n",
            "Epoch 92/300\n",
            " - 0s - loss: 0.0895 - acc: 0.9710 - val_loss: 0.3620 - val_acc: 0.8973\n",
            "Epoch 93/300\n",
            " - 0s - loss: 0.0874 - acc: 0.9721 - val_loss: 0.3644 - val_acc: 0.8939\n",
            "Epoch 94/300\n",
            " - 0s - loss: 0.0873 - acc: 0.9717 - val_loss: 0.3744 - val_acc: 0.8951\n",
            "Epoch 95/300\n",
            " - 0s - loss: 0.0879 - acc: 0.9712 - val_loss: 0.3720 - val_acc: 0.8959\n",
            "Epoch 96/300\n",
            " - 0s - loss: 0.0855 - acc: 0.9725 - val_loss: 0.3711 - val_acc: 0.8968\n",
            "Epoch 97/300\n",
            " - 0s - loss: 0.0823 - acc: 0.9742 - val_loss: 0.3726 - val_acc: 0.8964\n",
            "Epoch 98/300\n",
            " - 0s - loss: 0.0830 - acc: 0.9736 - val_loss: 0.3745 - val_acc: 0.8949\n",
            "Epoch 99/300\n",
            " - 0s - loss: 0.0850 - acc: 0.9725 - val_loss: 0.3844 - val_acc: 0.8922\n",
            "Epoch 100/300\n",
            " - 0s - loss: 0.0827 - acc: 0.9725 - val_loss: 0.3793 - val_acc: 0.8955\n",
            "Epoch 101/300\n",
            " - 0s - loss: 0.0783 - acc: 0.9753 - val_loss: 0.3792 - val_acc: 0.8966\n",
            "Epoch 102/300\n",
            " - 0s - loss: 0.0792 - acc: 0.9754 - val_loss: 0.3780 - val_acc: 0.8960\n",
            "Epoch 103/300\n",
            " - 0s - loss: 0.0784 - acc: 0.9752 - val_loss: 0.3799 - val_acc: 0.8967\n",
            "Epoch 104/300\n",
            " - 0s - loss: 0.0772 - acc: 0.9757 - val_loss: 0.3844 - val_acc: 0.8957\n",
            "Epoch 105/300\n",
            " - 0s - loss: 0.0756 - acc: 0.9763 - val_loss: 0.3841 - val_acc: 0.8971\n",
            "Epoch 106/300\n",
            " - 0s - loss: 0.0745 - acc: 0.9768 - val_loss: 0.3865 - val_acc: 0.8956\n",
            "Epoch 107/300\n",
            " - 0s - loss: 0.0759 - acc: 0.9757 - val_loss: 0.3958 - val_acc: 0.8939\n",
            "Epoch 108/300\n",
            " - 0s - loss: 0.0754 - acc: 0.9760 - val_loss: 0.3912 - val_acc: 0.8921\n",
            "Epoch 109/300\n",
            " - 0s - loss: 0.0726 - acc: 0.9772 - val_loss: 0.3982 - val_acc: 0.8939\n",
            "Epoch 110/300\n",
            " - 0s - loss: 0.0715 - acc: 0.9774 - val_loss: 0.4054 - val_acc: 0.8907\n",
            "Epoch 111/300\n",
            " - 0s - loss: 0.0711 - acc: 0.9776 - val_loss: 0.3982 - val_acc: 0.8962\n",
            "Epoch 112/300\n",
            " - 0s - loss: 0.0696 - acc: 0.9785 - val_loss: 0.4019 - val_acc: 0.8956\n",
            "Epoch 113/300\n",
            " - 0s - loss: 0.0699 - acc: 0.9781 - val_loss: 0.4057 - val_acc: 0.8927\n",
            "Epoch 114/300\n",
            " - 0s - loss: 0.0671 - acc: 0.9797 - val_loss: 0.4026 - val_acc: 0.8940\n",
            "Epoch 115/300\n",
            " - 0s - loss: 0.0677 - acc: 0.9787 - val_loss: 0.4036 - val_acc: 0.8954\n",
            "Epoch 116/300\n",
            " - 0s - loss: 0.0658 - acc: 0.9797 - val_loss: 0.4090 - val_acc: 0.8944\n",
            "Epoch 117/300\n",
            " - 0s - loss: 0.0653 - acc: 0.9798 - val_loss: 0.4111 - val_acc: 0.8941\n",
            "Epoch 118/300\n",
            " - 0s - loss: 0.0680 - acc: 0.9784 - val_loss: 0.4133 - val_acc: 0.8909\n",
            "Epoch 119/300\n",
            " - 0s - loss: 0.0650 - acc: 0.9792 - val_loss: 0.4179 - val_acc: 0.8932\n",
            "Epoch 120/300\n",
            " - 0s - loss: 0.0650 - acc: 0.9796 - val_loss: 0.4119 - val_acc: 0.8938\n",
            "Epoch 121/300\n",
            " - 0s - loss: 0.0617 - acc: 0.9814 - val_loss: 0.4151 - val_acc: 0.8953\n",
            "Epoch 122/300\n",
            " - 0s - loss: 0.0610 - acc: 0.9816 - val_loss: 0.4149 - val_acc: 0.8950\n",
            "Epoch 123/300\n",
            " - 0s - loss: 0.0596 - acc: 0.9821 - val_loss: 0.4181 - val_acc: 0.8940\n",
            "Epoch 124/300\n",
            " - 0s - loss: 0.0609 - acc: 0.9808 - val_loss: 0.4234 - val_acc: 0.8936\n",
            "Epoch 125/300\n",
            " - 0s - loss: 0.0588 - acc: 0.9824 - val_loss: 0.4293 - val_acc: 0.8940\n",
            "Epoch 126/300\n",
            " - 0s - loss: 0.0572 - acc: 0.9832 - val_loss: 0.4239 - val_acc: 0.8929\n",
            "Epoch 127/300\n",
            " - 0s - loss: 0.0583 - acc: 0.9827 - val_loss: 0.4331 - val_acc: 0.8911\n",
            "Epoch 128/300\n",
            " - 0s - loss: 0.0565 - acc: 0.9830 - val_loss: 0.4291 - val_acc: 0.8933\n",
            "Epoch 129/300\n",
            " - 0s - loss: 0.0578 - acc: 0.9825 - val_loss: 0.4297 - val_acc: 0.8948\n",
            "Epoch 130/300\n",
            " - 0s - loss: 0.0551 - acc: 0.9837 - val_loss: 0.4360 - val_acc: 0.8927\n",
            "Epoch 131/300\n",
            " - 0s - loss: 0.0544 - acc: 0.9841 - val_loss: 0.4407 - val_acc: 0.8914\n",
            "Epoch 132/300\n",
            " - 0s - loss: 0.0546 - acc: 0.9841 - val_loss: 0.4352 - val_acc: 0.8923\n",
            "Epoch 133/300\n",
            " - 0s - loss: 0.0529 - acc: 0.9846 - val_loss: 0.4453 - val_acc: 0.8929\n",
            "Epoch 134/300\n",
            " - 0s - loss: 0.0519 - acc: 0.9847 - val_loss: 0.4435 - val_acc: 0.8922\n",
            "Epoch 135/300\n",
            " - 0s - loss: 0.0517 - acc: 0.9849 - val_loss: 0.4431 - val_acc: 0.8918\n",
            "Epoch 136/300\n",
            " - 0s - loss: 0.0511 - acc: 0.9856 - val_loss: 0.4481 - val_acc: 0.8908\n",
            "Epoch 137/300\n",
            " - 0s - loss: 0.0513 - acc: 0.9848 - val_loss: 0.4502 - val_acc: 0.8938\n",
            "Epoch 138/300\n",
            " - 0s - loss: 0.0493 - acc: 0.9856 - val_loss: 0.4538 - val_acc: 0.8925\n",
            "Epoch 139/300\n",
            " - 0s - loss: 0.0513 - acc: 0.9850 - val_loss: 0.4500 - val_acc: 0.8933\n",
            "Epoch 140/300\n",
            " - 0s - loss: 0.0483 - acc: 0.9863 - val_loss: 0.4591 - val_acc: 0.8904\n",
            "Epoch 141/300\n",
            " - 0s - loss: 0.0491 - acc: 0.9857 - val_loss: 0.4685 - val_acc: 0.8925\n",
            "Epoch 142/300\n",
            " - 0s - loss: 0.0484 - acc: 0.9858 - val_loss: 0.4538 - val_acc: 0.8926\n",
            "Epoch 143/300\n",
            " - 0s - loss: 0.0467 - acc: 0.9869 - val_loss: 0.4591 - val_acc: 0.8928\n",
            "Epoch 144/300\n",
            " - 0s - loss: 0.0459 - acc: 0.9870 - val_loss: 0.4654 - val_acc: 0.8930\n",
            "Epoch 145/300\n",
            " - 0s - loss: 0.0464 - acc: 0.9862 - val_loss: 0.4646 - val_acc: 0.8925\n",
            "Epoch 146/300\n",
            " - 0s - loss: 0.0439 - acc: 0.9877 - val_loss: 0.4647 - val_acc: 0.8932\n",
            "Epoch 147/300\n",
            " - 0s - loss: 0.0447 - acc: 0.9876 - val_loss: 0.4679 - val_acc: 0.8932\n",
            "Epoch 148/300\n",
            " - 0s - loss: 0.0441 - acc: 0.9872 - val_loss: 0.4726 - val_acc: 0.8915\n",
            "Epoch 149/300\n",
            " - 0s - loss: 0.0439 - acc: 0.9873 - val_loss: 0.4709 - val_acc: 0.8908\n",
            "Epoch 150/300\n",
            " - 0s - loss: 0.0437 - acc: 0.9872 - val_loss: 0.4762 - val_acc: 0.8916\n",
            "Epoch 151/300\n",
            " - 0s - loss: 0.0455 - acc: 0.9864 - val_loss: 0.4868 - val_acc: 0.8909\n",
            "Epoch 152/300\n",
            " - 0s - loss: 0.0411 - acc: 0.9881 - val_loss: 0.4743 - val_acc: 0.8924\n",
            "Epoch 153/300\n",
            " - 0s - loss: 0.0400 - acc: 0.9893 - val_loss: 0.4791 - val_acc: 0.8930\n",
            "Epoch 154/300\n",
            " - 0s - loss: 0.0400 - acc: 0.9893 - val_loss: 0.4792 - val_acc: 0.8925\n",
            "Epoch 155/300\n",
            " - 0s - loss: 0.0394 - acc: 0.9891 - val_loss: 0.4859 - val_acc: 0.8908\n",
            "Epoch 156/300\n",
            " - 0s - loss: 0.0392 - acc: 0.9891 - val_loss: 0.4888 - val_acc: 0.8916\n",
            "Epoch 157/300\n",
            " - 0s - loss: 0.0380 - acc: 0.9898 - val_loss: 0.4843 - val_acc: 0.8904\n",
            "Epoch 158/300\n",
            " - 0s - loss: 0.0380 - acc: 0.9897 - val_loss: 0.4869 - val_acc: 0.8921\n",
            "Epoch 159/300\n",
            " - 0s - loss: 0.0387 - acc: 0.9894 - val_loss: 0.4970 - val_acc: 0.8909\n",
            "Epoch 160/300\n",
            " - 0s - loss: 0.0374 - acc: 0.9900 - val_loss: 0.4959 - val_acc: 0.8923\n",
            "Epoch 161/300\n",
            " - 0s - loss: 0.0363 - acc: 0.9903 - val_loss: 0.4949 - val_acc: 0.8923\n",
            "Epoch 162/300\n",
            " - 0s - loss: 0.0361 - acc: 0.9902 - val_loss: 0.5018 - val_acc: 0.8917\n",
            "Epoch 163/300\n",
            " - 0s - loss: 0.0354 - acc: 0.9901 - val_loss: 0.5092 - val_acc: 0.8920\n",
            "Epoch 164/300\n",
            " - 0s - loss: 0.0356 - acc: 0.9905 - val_loss: 0.5083 - val_acc: 0.8922\n",
            "Epoch 165/300\n",
            " - 0s - loss: 0.0338 - acc: 0.9912 - val_loss: 0.4996 - val_acc: 0.8905\n",
            "Epoch 166/300\n",
            " - 0s - loss: 0.0340 - acc: 0.9911 - val_loss: 0.5111 - val_acc: 0.8905\n",
            "Epoch 167/300\n",
            " - 0s - loss: 0.0339 - acc: 0.9910 - val_loss: 0.5171 - val_acc: 0.8916\n",
            "Epoch 168/300\n",
            " - 0s - loss: 0.0338 - acc: 0.9910 - val_loss: 0.5098 - val_acc: 0.8895\n",
            "Epoch 169/300\n",
            " - 0s - loss: 0.0346 - acc: 0.9903 - val_loss: 0.5143 - val_acc: 0.8913\n",
            "Epoch 170/300\n",
            " - 0s - loss: 0.0333 - acc: 0.9909 - val_loss: 0.5211 - val_acc: 0.8891\n",
            "Epoch 171/300\n",
            " - 0s - loss: 0.0327 - acc: 0.9918 - val_loss: 0.5224 - val_acc: 0.8907\n",
            "Epoch 172/300\n",
            " - 0s - loss: 0.0317 - acc: 0.9919 - val_loss: 0.5177 - val_acc: 0.8915\n",
            "Epoch 173/300\n",
            " - 0s - loss: 0.0309 - acc: 0.9920 - val_loss: 0.5235 - val_acc: 0.8920\n",
            "Epoch 174/300\n",
            " - 0s - loss: 0.0299 - acc: 0.9922 - val_loss: 0.5275 - val_acc: 0.8910\n",
            "Epoch 175/300\n",
            " - 0s - loss: 0.0309 - acc: 0.9917 - val_loss: 0.5292 - val_acc: 0.8884\n",
            "Epoch 176/300\n",
            " - 0s - loss: 0.0294 - acc: 0.9926 - val_loss: 0.5293 - val_acc: 0.8885\n",
            "Epoch 177/300\n",
            " - 0s - loss: 0.0291 - acc: 0.9927 - val_loss: 0.5289 - val_acc: 0.8927\n",
            "Epoch 178/300\n",
            " - 0s - loss: 0.0299 - acc: 0.9921 - val_loss: 0.5440 - val_acc: 0.8904\n",
            "Epoch 179/300\n",
            " - 0s - loss: 0.0291 - acc: 0.9922 - val_loss: 0.5384 - val_acc: 0.8913\n",
            "Epoch 180/300\n",
            " - 0s - loss: 0.0284 - acc: 0.9926 - val_loss: 0.5466 - val_acc: 0.8908\n",
            "Epoch 181/300\n",
            " - 0s - loss: 0.0294 - acc: 0.9923 - val_loss: 0.5370 - val_acc: 0.8909\n",
            "Epoch 182/300\n",
            " - 0s - loss: 0.0272 - acc: 0.9932 - val_loss: 0.5431 - val_acc: 0.8883\n",
            "Epoch 183/300\n",
            " - 0s - loss: 0.0272 - acc: 0.9931 - val_loss: 0.5461 - val_acc: 0.8875\n",
            "Epoch 184/300\n",
            " - 0s - loss: 0.0272 - acc: 0.9932 - val_loss: 0.5509 - val_acc: 0.8895\n",
            "Epoch 185/300\n",
            " - 0s - loss: 0.0264 - acc: 0.9935 - val_loss: 0.5533 - val_acc: 0.8898\n",
            "Epoch 186/300\n",
            " - 0s - loss: 0.0253 - acc: 0.9937 - val_loss: 0.5509 - val_acc: 0.8901\n",
            "Epoch 187/300\n",
            " - 0s - loss: 0.0256 - acc: 0.9936 - val_loss: 0.5567 - val_acc: 0.8890\n",
            "Epoch 188/300\n",
            " - 0s - loss: 0.0255 - acc: 0.9936 - val_loss: 0.5673 - val_acc: 0.8890\n",
            "Epoch 189/300\n",
            " - 0s - loss: 0.0254 - acc: 0.9938 - val_loss: 0.5630 - val_acc: 0.8869\n",
            "Epoch 190/300\n",
            " - 0s - loss: 0.0240 - acc: 0.9945 - val_loss: 0.5626 - val_acc: 0.8874\n",
            "Epoch 191/300\n",
            " - 0s - loss: 0.0240 - acc: 0.9944 - val_loss: 0.5700 - val_acc: 0.8891\n",
            "Epoch 192/300\n",
            " - 0s - loss: 0.0237 - acc: 0.9947 - val_loss: 0.5725 - val_acc: 0.8879\n",
            "Epoch 193/300\n",
            " - 0s - loss: 0.0237 - acc: 0.9944 - val_loss: 0.5681 - val_acc: 0.8886\n",
            "Epoch 194/300\n",
            " - 0s - loss: 0.0233 - acc: 0.9940 - val_loss: 0.5702 - val_acc: 0.8890\n",
            "Epoch 195/300\n",
            " - 0s - loss: 0.0250 - acc: 0.9938 - val_loss: 0.5715 - val_acc: 0.8907\n",
            "Epoch 196/300\n",
            " - 0s - loss: 0.0221 - acc: 0.9950 - val_loss: 0.5679 - val_acc: 0.8906\n",
            "Epoch 197/300\n",
            " - 0s - loss: 0.0224 - acc: 0.9945 - val_loss: 0.5741 - val_acc: 0.8885\n",
            "Epoch 198/300\n",
            " - 0s - loss: 0.0243 - acc: 0.9936 - val_loss: 0.5749 - val_acc: 0.8895\n",
            "Epoch 199/300\n",
            " - 0s - loss: 0.0218 - acc: 0.9946 - val_loss: 0.5841 - val_acc: 0.8916\n",
            "Epoch 200/300\n",
            " - 0s - loss: 0.0207 - acc: 0.9953 - val_loss: 0.5865 - val_acc: 0.8889\n",
            "Epoch 201/300\n",
            " - 0s - loss: 0.0201 - acc: 0.9960 - val_loss: 0.5821 - val_acc: 0.8895\n",
            "Epoch 202/300\n",
            " - 0s - loss: 0.0205 - acc: 0.9950 - val_loss: 0.5912 - val_acc: 0.8890\n",
            "Epoch 203/300\n",
            " - 0s - loss: 0.0218 - acc: 0.9944 - val_loss: 0.5925 - val_acc: 0.8894\n",
            "Epoch 204/300\n",
            " - 0s - loss: 0.0197 - acc: 0.9956 - val_loss: 0.5951 - val_acc: 0.8901\n",
            "Epoch 205/300\n",
            " - 0s - loss: 0.0197 - acc: 0.9958 - val_loss: 0.5938 - val_acc: 0.8879\n",
            "Epoch 206/300\n",
            " - 0s - loss: 0.0193 - acc: 0.9958 - val_loss: 0.5991 - val_acc: 0.8892\n",
            "Epoch 207/300\n",
            " - 0s - loss: 0.0199 - acc: 0.9954 - val_loss: 0.6012 - val_acc: 0.8878\n",
            "Epoch 208/300\n",
            " - 0s - loss: 0.0194 - acc: 0.9956 - val_loss: 0.6049 - val_acc: 0.8890\n",
            "Epoch 209/300\n",
            " - 0s - loss: 0.0193 - acc: 0.9956 - val_loss: 0.6038 - val_acc: 0.8893\n",
            "Epoch 210/300\n",
            " - 0s - loss: 0.0200 - acc: 0.9955 - val_loss: 0.6198 - val_acc: 0.8869\n",
            "Epoch 211/300\n",
            " - 0s - loss: 0.0210 - acc: 0.9948 - val_loss: 0.6112 - val_acc: 0.8884\n",
            "Epoch 212/300\n",
            " - 0s - loss: 0.0177 - acc: 0.9962 - val_loss: 0.6079 - val_acc: 0.8871\n",
            "Epoch 213/300\n",
            " - 0s - loss: 0.0169 - acc: 0.9967 - val_loss: 0.6153 - val_acc: 0.8874\n",
            "Epoch 214/300\n",
            " - 0s - loss: 0.0179 - acc: 0.9960 - val_loss: 0.6103 - val_acc: 0.8876\n",
            "Epoch 215/300\n",
            " - 0s - loss: 0.0176 - acc: 0.9962 - val_loss: 0.6157 - val_acc: 0.8881\n",
            "Epoch 216/300\n",
            " - 0s - loss: 0.0185 - acc: 0.9957 - val_loss: 0.6214 - val_acc: 0.8901\n",
            "Epoch 217/300\n",
            " - 0s - loss: 0.0175 - acc: 0.9962 - val_loss: 0.6360 - val_acc: 0.8886\n",
            "Epoch 218/300\n",
            " - 0s - loss: 0.0182 - acc: 0.9958 - val_loss: 0.6225 - val_acc: 0.8883\n",
            "Epoch 219/300\n",
            " - 0s - loss: 0.0170 - acc: 0.9964 - val_loss: 0.6318 - val_acc: 0.8861\n",
            "Epoch 220/300\n",
            " - 0s - loss: 0.0186 - acc: 0.9957 - val_loss: 0.6311 - val_acc: 0.8879\n",
            "Epoch 221/300\n",
            " - 0s - loss: 0.0170 - acc: 0.9963 - val_loss: 0.6288 - val_acc: 0.8888\n",
            "Epoch 222/300\n",
            " - 0s - loss: 0.0153 - acc: 0.9970 - val_loss: 0.6339 - val_acc: 0.8870\n",
            "Epoch 223/300\n",
            " - 0s - loss: 0.0159 - acc: 0.9965 - val_loss: 0.6364 - val_acc: 0.8859\n",
            "Epoch 224/300\n",
            " - 0s - loss: 0.0145 - acc: 0.9973 - val_loss: 0.6365 - val_acc: 0.8865\n",
            "Epoch 225/300\n",
            " - 0s - loss: 0.0146 - acc: 0.9973 - val_loss: 0.6342 - val_acc: 0.8870\n",
            "Epoch 226/300\n",
            " - 0s - loss: 0.0142 - acc: 0.9974 - val_loss: 0.6438 - val_acc: 0.8868\n",
            "Epoch 227/300\n",
            " - 0s - loss: 0.0151 - acc: 0.9969 - val_loss: 0.6336 - val_acc: 0.8897\n",
            "Epoch 228/300\n",
            " - 0s - loss: 0.0172 - acc: 0.9960 - val_loss: 0.6468 - val_acc: 0.8869\n",
            "Epoch 229/300\n",
            " - 0s - loss: 0.0145 - acc: 0.9969 - val_loss: 0.6486 - val_acc: 0.8857\n",
            "Epoch 230/300\n",
            " - 0s - loss: 0.0152 - acc: 0.9967 - val_loss: 0.6497 - val_acc: 0.8861\n",
            "Epoch 231/300\n",
            " - 0s - loss: 0.0139 - acc: 0.9974 - val_loss: 0.6529 - val_acc: 0.8885\n",
            "Epoch 232/300\n",
            " - 0s - loss: 0.0131 - acc: 0.9977 - val_loss: 0.6543 - val_acc: 0.8875\n",
            "Epoch 233/300\n",
            " - 0s - loss: 0.0139 - acc: 0.9972 - val_loss: 0.6500 - val_acc: 0.8862\n",
            "Epoch 234/300\n",
            " - 0s - loss: 0.0140 - acc: 0.9971 - val_loss: 0.6605 - val_acc: 0.8869\n",
            "Epoch 235/300\n",
            " - 0s - loss: 0.0122 - acc: 0.9979 - val_loss: 0.6591 - val_acc: 0.8868\n",
            "Epoch 236/300\n",
            " - 0s - loss: 0.0144 - acc: 0.9968 - val_loss: 0.6619 - val_acc: 0.8889\n",
            "Epoch 237/300\n",
            " - 0s - loss: 0.0141 - acc: 0.9971 - val_loss: 0.6622 - val_acc: 0.8856\n",
            "Epoch 238/300\n",
            " - 0s - loss: 0.0150 - acc: 0.9966 - val_loss: 0.6729 - val_acc: 0.8851\n",
            "Epoch 239/300\n",
            " - 0s - loss: 0.0160 - acc: 0.9966 - val_loss: 0.6600 - val_acc: 0.8900\n",
            "Epoch 240/300\n",
            " - 0s - loss: 0.0122 - acc: 0.9978 - val_loss: 0.6693 - val_acc: 0.8872\n",
            "Epoch 241/300\n",
            " - 0s - loss: 0.0118 - acc: 0.9980 - val_loss: 0.6799 - val_acc: 0.8870\n",
            "Epoch 242/300\n",
            " - 0s - loss: 0.0128 - acc: 0.9974 - val_loss: 0.6851 - val_acc: 0.8883\n",
            "Epoch 243/300\n",
            " - 0s - loss: 0.0109 - acc: 0.9983 - val_loss: 0.6649 - val_acc: 0.8873\n",
            "Epoch 244/300\n",
            " - 0s - loss: 0.0112 - acc: 0.9981 - val_loss: 0.6746 - val_acc: 0.8887\n",
            "Epoch 245/300\n",
            " - 0s - loss: 0.0103 - acc: 0.9986 - val_loss: 0.6786 - val_acc: 0.8879\n",
            "Epoch 246/300\n",
            " - 0s - loss: 0.0102 - acc: 0.9985 - val_loss: 0.6840 - val_acc: 0.8878\n",
            "Epoch 247/300\n",
            " - 0s - loss: 0.0114 - acc: 0.9980 - val_loss: 0.6812 - val_acc: 0.8875\n",
            "Epoch 248/300\n",
            " - 0s - loss: 0.0102 - acc: 0.9985 - val_loss: 0.6889 - val_acc: 0.8859\n",
            "Epoch 249/300\n",
            " - 0s - loss: 0.0105 - acc: 0.9984 - val_loss: 0.6849 - val_acc: 0.8872\n",
            "Epoch 250/300\n",
            " - 0s - loss: 0.0102 - acc: 0.9983 - val_loss: 0.6782 - val_acc: 0.8892\n",
            "Epoch 251/300\n",
            " - 0s - loss: 0.0106 - acc: 0.9981 - val_loss: 0.6901 - val_acc: 0.8871\n",
            "Epoch 252/300\n",
            " - 0s - loss: 0.0116 - acc: 0.9977 - val_loss: 0.6884 - val_acc: 0.8873\n",
            "Epoch 253/300\n",
            " - 0s - loss: 0.0128 - acc: 0.9972 - val_loss: 0.6991 - val_acc: 0.8869\n",
            "Epoch 254/300\n",
            " - 0s - loss: 0.0106 - acc: 0.9981 - val_loss: 0.6915 - val_acc: 0.8864\n",
            "Epoch 255/300\n",
            " - 0s - loss: 0.0101 - acc: 0.9984 - val_loss: 0.6999 - val_acc: 0.8876\n",
            "Epoch 256/300\n",
            " - 0s - loss: 0.0097 - acc: 0.9984 - val_loss: 0.6925 - val_acc: 0.8888\n",
            "Epoch 257/300\n",
            " - 0s - loss: 0.0111 - acc: 0.9979 - val_loss: 0.7041 - val_acc: 0.8866\n",
            "Epoch 258/300\n",
            " - 0s - loss: 0.0093 - acc: 0.9987 - val_loss: 0.7061 - val_acc: 0.8867\n",
            "Epoch 259/300\n",
            " - 0s - loss: 0.0091 - acc: 0.9988 - val_loss: 0.6997 - val_acc: 0.8872\n",
            "Epoch 260/300\n",
            " - 0s - loss: 0.0083 - acc: 0.9990 - val_loss: 0.7056 - val_acc: 0.8887\n",
            "Epoch 261/300\n",
            " - 0s - loss: 0.0088 - acc: 0.9988 - val_loss: 0.7006 - val_acc: 0.8873\n",
            "Epoch 262/300\n",
            " - 0s - loss: 0.0085 - acc: 0.9990 - val_loss: 0.7055 - val_acc: 0.8871\n",
            "Epoch 263/300\n",
            " - 0s - loss: 0.0089 - acc: 0.9986 - val_loss: 0.7161 - val_acc: 0.8857\n",
            "Epoch 264/300\n",
            " - 0s - loss: 0.0178 - acc: 0.9944 - val_loss: 0.7282 - val_acc: 0.8852\n",
            "Epoch 265/300\n",
            " - 0s - loss: 0.0226 - acc: 0.9926 - val_loss: 0.7223 - val_acc: 0.8886\n",
            "Epoch 266/300\n",
            " - 0s - loss: 0.0123 - acc: 0.9974 - val_loss: 0.7141 - val_acc: 0.8845\n",
            "Epoch 267/300\n",
            " - 0s - loss: 0.0086 - acc: 0.9988 - val_loss: 0.7104 - val_acc: 0.8882\n",
            "Epoch 268/300\n",
            " - 0s - loss: 0.0075 - acc: 0.9992 - val_loss: 0.7109 - val_acc: 0.8875\n",
            "Epoch 269/300\n",
            " - 0s - loss: 0.0068 - acc: 0.9994 - val_loss: 0.7164 - val_acc: 0.8876\n",
            "Epoch 270/300\n",
            " - 0s - loss: 0.0070 - acc: 0.9994 - val_loss: 0.7142 - val_acc: 0.8872\n",
            "Epoch 271/300\n",
            " - 0s - loss: 0.0067 - acc: 0.9995 - val_loss: 0.7207 - val_acc: 0.8873\n",
            "Epoch 272/300\n",
            " - 0s - loss: 0.0070 - acc: 0.9992 - val_loss: 0.7182 - val_acc: 0.8880\n",
            "Epoch 273/300\n",
            " - 0s - loss: 0.0069 - acc: 0.9993 - val_loss: 0.7245 - val_acc: 0.8872\n",
            "Epoch 274/300\n",
            " - 0s - loss: 0.0076 - acc: 0.9988 - val_loss: 0.7203 - val_acc: 0.8869\n",
            "Epoch 275/300\n",
            " - 0s - loss: 0.0090 - acc: 0.9983 - val_loss: 0.7402 - val_acc: 0.8838\n",
            "Epoch 276/300\n",
            " - 0s - loss: 0.0073 - acc: 0.9993 - val_loss: 0.7271 - val_acc: 0.8862\n",
            "Epoch 277/300\n",
            " - 0s - loss: 0.0063 - acc: 0.9995 - val_loss: 0.7301 - val_acc: 0.8863\n",
            "Epoch 278/300\n",
            " - 0s - loss: 0.0063 - acc: 0.9995 - val_loss: 0.7329 - val_acc: 0.8859\n",
            "Epoch 279/300\n",
            " - 0s - loss: 0.0067 - acc: 0.9994 - val_loss: 0.7298 - val_acc: 0.8871\n",
            "Epoch 280/300\n",
            " - 0s - loss: 0.0065 - acc: 0.9994 - val_loss: 0.7261 - val_acc: 0.8885\n",
            "Epoch 281/300\n",
            " - 0s - loss: 0.0064 - acc: 0.9992 - val_loss: 0.7403 - val_acc: 0.8861\n",
            "Epoch 282/300\n",
            " - 0s - loss: 0.0068 - acc: 0.9991 - val_loss: 0.7386 - val_acc: 0.8867\n",
            "Epoch 283/300\n",
            " - 0s - loss: 0.0075 - acc: 0.9990 - val_loss: 0.7352 - val_acc: 0.8853\n",
            "Epoch 284/300\n",
            " - 0s - loss: 0.0058 - acc: 0.9997 - val_loss: 0.7402 - val_acc: 0.8840\n",
            "Epoch 285/300\n",
            " - 0s - loss: 0.0064 - acc: 0.9993 - val_loss: 0.7403 - val_acc: 0.8855\n",
            "Epoch 286/300\n",
            " - 0s - loss: 0.0063 - acc: 0.9994 - val_loss: 0.7396 - val_acc: 0.8858\n",
            "Epoch 287/300\n",
            " - 0s - loss: 0.0085 - acc: 0.9983 - val_loss: 0.7511 - val_acc: 0.8860\n",
            "Epoch 288/300\n",
            " - 0s - loss: 0.0099 - acc: 0.9978 - val_loss: 0.7560 - val_acc: 0.8860\n",
            "Epoch 289/300\n",
            " - 0s - loss: 0.0084 - acc: 0.9989 - val_loss: 0.7536 - val_acc: 0.8870\n",
            "Epoch 290/300\n",
            " - 0s - loss: 0.0088 - acc: 0.9983 - val_loss: 0.7623 - val_acc: 0.8841\n",
            "Epoch 291/300\n",
            " - 0s - loss: 0.0083 - acc: 0.9987 - val_loss: 0.7530 - val_acc: 0.8840\n",
            "Epoch 292/300\n",
            " - 0s - loss: 0.0062 - acc: 0.9994 - val_loss: 0.7558 - val_acc: 0.8866\n",
            "Epoch 293/300\n",
            " - 0s - loss: 0.0064 - acc: 0.9991 - val_loss: 0.7455 - val_acc: 0.8862\n",
            "Epoch 294/300\n",
            " - 0s - loss: 0.0051 - acc: 0.9997 - val_loss: 0.7613 - val_acc: 0.8850\n",
            "Epoch 295/300\n",
            " - 0s - loss: 0.0052 - acc: 0.9997 - val_loss: 0.7583 - val_acc: 0.8853\n",
            "Epoch 296/300\n",
            " - 0s - loss: 0.0048 - acc: 0.9997 - val_loss: 0.7574 - val_acc: 0.8858\n",
            "Epoch 297/300\n",
            " - 0s - loss: 0.0061 - acc: 0.9994 - val_loss: 0.7769 - val_acc: 0.8871\n",
            "Epoch 298/300\n",
            " - 0s - loss: 0.0115 - acc: 0.9967 - val_loss: 0.7749 - val_acc: 0.8856\n",
            "Epoch 299/300\n",
            " - 0s - loss: 0.0192 - acc: 0.9933 - val_loss: 0.7756 - val_acc: 0.8860\n",
            "Epoch 300/300\n",
            " - 0s - loss: 0.0171 - acc: 0.9949 - val_loss: 0.7886 - val_acc: 0.8825\n",
            "CPU times: user 2min 12s, sys: 8.65 s, total: 2min 21s\n",
            "Wall time: 1min 57s\n"
          ],
          "name": "stdout"
        }
      ]
    },
    {
      "cell_type": "code",
      "metadata": {
        "id": "VZfGrsnMlKUj",
        "colab_type": "code",
        "outputId": "e6373332-26d3-4e47-f9dd-f1d76a2da9bf",
        "colab": {
          "base_uri": "https://localhost:8080/",
          "height": 50
        }
      },
      "source": [
        "#evaluating test accuracy of final epcoh. Obviously the model was overfitting the test dat (99% accuracy there to 88% here)\n",
        "test_loss, test_acc = model.evaluate(test_images, test_labels)\n",
        "\n",
        "print('Test accuracy:', test_acc)\n",
        "#Test accuracy: 0.8872 --suggests overfitting of training model :/\n"
      ],
      "execution_count": 108,
      "outputs": [
        {
          "output_type": "stream",
          "text": [
            "10000/10000 [==============================] - 0s 48us/sample - loss: 0.7762 - acc: 0.8870\n",
            "Test accuracy: 0.887\n"
          ],
          "name": "stdout"
        }
      ]
    },
    {
      "cell_type": "code",
      "metadata": {
        "id": "neWwAIsblkFU",
        "colab_type": "code",
        "colab": {}
      },
      "source": [
        "#generating my predictions\n",
        "predictions = model.predict(test_images)\n"
      ],
      "execution_count": 0,
      "outputs": []
    },
    {
      "cell_type": "code",
      "metadata": {
        "id": "JGQPMQ-Dll5R",
        "colab_type": "code",
        "outputId": "3ec78f39-3f76-4332-8121-c3747b98787e",
        "colab": {
          "base_uri": "https://localhost:8080/",
          "height": 66
        }
      },
      "source": [
        "#looking at a prediction for the first image-- it is going through and ranking the likilhood that it is 0-9, whichever is highest is choosen as the actual prediction\n",
        "predictions[0]"
      ],
      "execution_count": 71,
      "outputs": [
        {
          "output_type": "execute_result",
          "data": {
            "text/plain": [
              "array([3.6594289e-28, 4.3860964e-22, 5.9990771e-25, 1.4592626e-27,\n",
              "       9.1803270e-32, 4.4268959e-13, 4.1141676e-22, 1.1060441e-08,\n",
              "       1.3176668e-17, 1.0000000e+00], dtype=float32)"
            ]
          },
          "metadata": {
            "tags": []
          },
          "execution_count": 71
        }
      ]
    },
    {
      "cell_type": "code",
      "metadata": {
        "id": "yrTnhu9mlnQ2",
        "colab_type": "code",
        "outputId": "cdbe614c-f66c-462e-af77-2ac40b8378fa",
        "colab": {
          "base_uri": "https://localhost:8080/",
          "height": 33
        }
      },
      "source": [
        "np.argmax(predictions[0])\n"
      ],
      "execution_count": 72,
      "outputs": [
        {
          "output_type": "execute_result",
          "data": {
            "text/plain": [
              "9"
            ]
          },
          "metadata": {
            "tags": []
          },
          "execution_count": 72
        }
      ]
    },
    {
      "cell_type": "code",
      "metadata": {
        "id": "9dCQNkmSloj9",
        "colab_type": "code",
        "outputId": "3cf4e8d8-5373-4b32-b2cc-f316fcf16813",
        "colab": {
          "base_uri": "https://localhost:8080/",
          "height": 33
        }
      },
      "source": [
        "#comparing our prediction to the actual value\n",
        "test_labels[0]\n"
      ],
      "execution_count": 73,
      "outputs": [
        {
          "output_type": "execute_result",
          "data": {
            "text/plain": [
              "9"
            ]
          },
          "metadata": {
            "tags": []
          },
          "execution_count": 73
        }
      ]
    },
    {
      "cell_type": "code",
      "metadata": {
        "id": "etnRkujdld9D",
        "colab_type": "code",
        "colab": {}
      },
      "source": [
        "#creating a graph to show the predictions for  images\n",
        "\n",
        "def plot_image(i, predictions_array, true_label, img):\n",
        "  predictions_array, true_label, img = predictions_array[i], true_label[i], img[i]\n",
        "  plt.grid(False)\n",
        "  plt.xticks([])\n",
        "  plt.yticks([])\n",
        "  \n",
        "  plt.imshow(img, cmap=plt.cm.binary)\n",
        "\n",
        "  predicted_label = np.argmax(predictions_array)\n",
        "  if predicted_label == true_label:\n",
        "    color = 'blue'\n",
        "  else:\n",
        "    color = 'red'\n",
        "  \n",
        "  plt.xlabel(\"{} {:2.0f}% ({})\".format(class_names[predicted_label],\n",
        "                                100*np.max(predictions_array),\n",
        "                                class_names[true_label]),\n",
        "                                color=color)\n",
        "\n",
        "def plot_value_array(i, predictions_array, true_label):\n",
        "  predictions_array, true_label = predictions_array[i], true_label[i]\n",
        "  plt.grid(False)\n",
        "  plt.xticks([])\n",
        "  plt.yticks([])\n",
        "  thisplot = plt.bar(range(10), predictions_array, color=\"#777777\")\n",
        "  plt.ylim([0, 1]) \n",
        "  predicted_label = np.argmax(predictions_array)\n",
        " \n",
        "  thisplot[predicted_label].set_color('red')\n",
        "  thisplot[true_label].set_color('blue')"
      ],
      "execution_count": 0,
      "outputs": []
    },
    {
      "cell_type": "code",
      "metadata": {
        "id": "oenXXZM4prw5",
        "colab_type": "code",
        "colab": {
          "base_uri": "https://localhost:8080/",
          "height": 650
        },
        "outputId": "dc5f69f0-7b5d-420c-8013-2ce4aed4c48b"
      },
      "source": [
        "def plot_train_curve(history):\n",
        "    colors = ['#e66101','#fdb863','#b2abd2','#5e3c99']\n",
        "    accuracy = history.history['acc']\n",
        "    val_accuracy = history.history['val_acc']\n",
        "    loss = history.history['loss']\n",
        "    val_loss = history.history['val_loss']\n",
        "    epochs = range(len(accuracy))\n",
        "    with plt.style.context(\"ggplot\"):\n",
        "        plt.figure(figsize=(8, 8/1.618))\n",
        "        plt.plot(epochs, accuracy, marker='o', c=colors[3], label='Training accuracy')\n",
        "        plt.plot(epochs, val_accuracy, c=colors[0], label='Validation accuracy')\n",
        "        plt.title('Training and validation accuracy')\n",
        "        plt.legend()\n",
        "        plt.figure(figsize=(8, 8/1.618))\n",
        "        plt.plot(epochs, loss, marker='o', c=colors[3], label='Training loss')\n",
        "        plt.plot(epochs, val_loss, c=colors[0], label='Validation loss')\n",
        "        plt.title('Training and validation loss')\n",
        "        plt.legend()\n",
        "        plt.show()\n",
        "    \n",
        "plot_train_curve(history)"
      ],
      "execution_count": 109,
      "outputs": [
        {
          "output_type": "display_data",
          "data": {
            "image/png": "[encoded data removed]",
            "text/plain": [
              "<Figure size 576x355.995 with 1 Axes>"
            ]
          },
          "metadata": {
            "tags": []
          }
        },
        {
          "output_type": "display_data",
          "data": {
            "image/png": "[encoded data removed]",
            "text/plain": [
              "<Figure size 576x355.995 with 1 Axes>"
            ]
          },
          "metadata": {
            "tags": []
          }
        }
      ]
    },
    {
      "cell_type": "code",
      "metadata": {
        "id": "SMwpgj0AlfvW",
        "colab_type": "code",
        "outputId": "53fdceb3-7de3-4322-cdcf-1894b86873b1",
        "colab": {
          "base_uri": "https://localhost:8080/",
          "height": 205
        }
      },
      "source": [
        "#sometimes even if we're sure it's one--it isn't....\n",
        "i = 9441\n",
        "plt.figure(figsize=(6,3))\n",
        "plt.subplot(1,2,1)\n",
        "plot_image(i, predictions, test_labels, test_images)\n",
        "plt.subplot(1,2,2)\n",
        "plot_value_array(i, predictions,  test_labels)\n",
        "plt.show()"
      ],
      "execution_count": 75,
      "outputs": [
        {
          "output_type": "display_data",
          "data": {
            "image/png": "[encoded data removed]",
            "text/plain": [
              "<Figure size 432x216 with 2 Axes>"
            ]
          },
          "metadata": {
            "tags": []
          }
        }
      ]
    },
    {
      "cell_type": "code",
      "metadata": {
        "id": "-DOfZpgUlwjL",
        "colab_type": "code",
        "outputId": "581ab408-5fb0-4ebf-d1b5-0d6349a90587",
        "colab": {
          "base_uri": "https://localhost:8080/",
          "height": 205
        }
      },
      "source": [
        "i = 12\n",
        "plt.figure(figsize=(6,3))\n",
        "plt.subplot(1,2,1)\n",
        "plot_image(i, predictions, test_labels, test_images)\n",
        "plt.subplot(1,2,2)\n",
        "plot_value_array(i, predictions,  test_labels)\n",
        "plt.show()\n"
      ],
      "execution_count": 76,
      "outputs": [
        {
          "output_type": "display_data",
          "data": {
            "image/png": "[encoded data removed]",
            "text/plain": [
              "<Figure size 432x216 with 2 Axes>"
            ]
          },
          "metadata": {
            "tags": []
          }
        }
      ]
    },
    {
      "cell_type": "code",
      "metadata": {
        "id": "MKhK11dSl1EF",
        "colab_type": "code",
        "outputId": "b7431f14-4e52-4b8f-a26c-f46a4d317ade",
        "colab": {
          "base_uri": "https://localhost:8080/",
          "height": 1155
        }
      },
      "source": [
        "# Plot the first X test images, their predicted label, and the true label\n",
        "# Color correct predictions in blue, incorrect predictions in red, gray= unsure\n",
        "num_rows = 10\n",
        "num_cols = 5\n",
        "num_images = num_rows*num_cols\n",
        "plt.figure(figsize=(2*2*num_cols, 2*num_rows))\n",
        "for i in range(num_images):\n",
        "  plt.subplot(num_rows, 2*num_cols, 2*i+1)\n",
        "  plot_image(i, predictions, test_labels, test_images)\n",
        "  plt.subplot(num_rows, 2*num_cols, 2*i+2)\n",
        "  plot_value_array(i, predictions, test_labels)\n",
        "plt.show()"
      ],
      "execution_count": 77,
      "outputs": [
        {
          "output_type": "display_data",
          "data": {
            "image/png": "[encoded data removed]",
            "text/plain": [
              "<Figure size 1440x1440 with 100 Axes>"
            ]
          },
          "metadata": {
            "tags": []
          }
        }
      ]
    },
    {
      "cell_type": "code",
      "metadata": {
        "id": "LjKtviZQl_Dr",
        "colab_type": "code",
        "outputId": "36e3104b-ec84-4a65-bcaa-9a3f23e2321b",
        "colab": {
          "base_uri": "https://localhost:8080/",
          "height": 33
        }
      },
      "source": [
        "# Grab an image from the test dataset\n",
        "img = test_images[0]\n",
        "\n",
        "print(img.shape)"
      ],
      "execution_count": 78,
      "outputs": [
        {
          "output_type": "stream",
          "text": [
            "(28, 28)\n"
          ],
          "name": "stdout"
        }
      ]
    },
    {
      "cell_type": "code",
      "metadata": {
        "id": "mkzaqNj7l_kH",
        "colab_type": "code",
        "outputId": "1a2d87b7-7505-4b03-c82f-2a93de252f43",
        "colab": {
          "base_uri": "https://localhost:8080/",
          "height": 33
        }
      },
      "source": [
        "# Add the image to a batch where it's the only member.\n",
        "img = (np.expand_dims(img,0))\n",
        "\n",
        "print(img.shape)"
      ],
      "execution_count": 79,
      "outputs": [
        {
          "output_type": "stream",
          "text": [
            "(1, 28, 28)\n"
          ],
          "name": "stdout"
        }
      ]
    },
    {
      "cell_type": "code",
      "metadata": {
        "id": "6kD9PPsPmDEb",
        "colab_type": "code",
        "outputId": "66ee2c44-853a-4864-e9f1-52a39f6dfd0d",
        "colab": {
          "base_uri": "https://localhost:8080/",
          "height": 50
        }
      },
      "source": [
        "predictions_single = model.predict(img)\n",
        "\n",
        "print(predictions_single)\n"
      ],
      "execution_count": 80,
      "outputs": [
        {
          "output_type": "stream",
          "text": [
            "[[3.6594147e-28 4.3860964e-22 5.9990771e-25 1.4592513e-27 9.1803969e-32\n",
            "  4.4268959e-13 4.1141050e-22 1.1060462e-08 1.3176618e-17 1.0000000e+00]]\n"
          ],
          "name": "stdout"
        }
      ]
    },
    {
      "cell_type": "code",
      "metadata": {
        "id": "bkgHGiqYmEk3",
        "colab_type": "code",
        "outputId": "fd43b405-e54c-4d4d-d4f8-059c0d93173c",
        "colab": {
          "base_uri": "https://localhost:8080/",
          "height": 303
        }
      },
      "source": [
        "plot_value_array(0, predictions_single, test_labels)\n",
        "_ = plt.xticks(range(10), class_names, rotation=45)\n"
      ],
      "execution_count": 81,
      "outputs": [
        {
          "output_type": "display_data",
          "data": {
            "image/png": "[encoded data removed]",
            "text/plain": [
              "<Figure size 432x288 with 1 Axes>"
            ]
          },
          "metadata": {
            "tags": []
          }
        }
      ]
    },
    {
      "cell_type": "code",
      "metadata": {
        "id": "Qx6cpGdFrDUw",
        "colab_type": "code",
        "outputId": "7ae6455e-eb52-41e2-f141-45dc18c8f84a",
        "colab": {
          "base_uri": "https://localhost:8080/",
          "height": 33
        }
      },
      "source": [
        "predictions = model.predict(test_images)\n",
        "predictions[0]\n",
        "np.argmax(predictions[0])\n",
        "test_labels[0]\n",
        "\n"
      ],
      "execution_count": 82,
      "outputs": [
        {
          "output_type": "execute_result",
          "data": {
            "text/plain": [
              "9"
            ]
          },
          "metadata": {
            "tags": []
          },
          "execution_count": 82
        }
      ]
    },
    {
      "cell_type": "code",
      "metadata": {
        "id": "BpkLmn_9tAP4",
        "colab_type": "code",
        "colab": {}
      },
      "source": [
        "#creating a loop to make a confusion matrix-- only selecting the \"best guess\" for the prediction value\n",
        "Image=[]\n",
        "Pred=[]\n",
        "TrueLabel=[]\n",
        "Images=np.array([np.arange(10000)]*1).T\n",
        "for i in Images:\n",
        "    Image.append(i)\n",
        "    predictions[i]\n",
        "    Pred.append(np.argmax(predictions[i]))\n",
        "    TrueLabel.append(test_labels[i])"
      ],
      "execution_count": 0,
      "outputs": []
    },
    {
      "cell_type": "code",
      "metadata": {
        "id": "sOQhq5zzzcaB",
        "colab_type": "code",
        "outputId": "54a941f0-4106-4532-e65e-6a114cadcae6",
        "colab": {
          "base_uri": "https://localhost:8080/",
          "height": 33
        }
      },
      "source": [
        "len(Pred)\n",
        "len(Images)\n",
        "len(TrueLabel)"
      ],
      "execution_count": 84,
      "outputs": [
        {
          "output_type": "execute_result",
          "data": {
            "text/plain": [
              "10000"
            ]
          },
          "metadata": {
            "tags": []
          },
          "execution_count": 84
        }
      ]
    },
    {
      "cell_type": "code",
      "metadata": {
        "id": "CAhpOCA5ymzJ",
        "colab_type": "code",
        "colab": {}
      },
      "source": [
        "d = {'Image':Image, \"Prediction\":Pred, \"TrueLabel\":TrueLabel}"
      ],
      "execution_count": 0,
      "outputs": []
    },
    {
      "cell_type": "code",
      "metadata": {
        "id": "8194KGzb0tuO",
        "colab_type": "code",
        "colab": {}
      },
      "source": [
        "df=pd.DataFrame(d)"
      ],
      "execution_count": 0,
      "outputs": []
    },
    {
      "cell_type": "code",
      "metadata": {
        "id": "DyEjVLf_05be",
        "colab_type": "code",
        "outputId": "fa54b8f0-0777-4aee-b569-8b898d1ceabd",
        "colab": {
          "base_uri": "https://localhost:8080/",
          "height": 197
        }
      },
      "source": [
        "df.head()"
      ],
      "execution_count": 87,
      "outputs": [
        {
          "output_type": "execute_result",
          "data": {
            "text/html": [
              "<div>\n",
              "<style scoped>\n",
              "    .dataframe tbody tr th:only-of-type {\n",
              "        vertical-align: middle;\n",
              "    }\n",
              "\n",
              "    .dataframe tbody tr th {\n",
              "        vertical-align: top;\n",
              "    }\n",
              "\n",
              "    .dataframe thead th {\n",
              "        text-align: right;\n",
              "    }\n",
              "</style>\n",
              "<table border=\"1\" class=\"dataframe\">\n",
              "  <thead>\n",
              "    <tr style=\"text-align: right;\">\n",
              "      <th></th>\n",
              "      <th>Image</th>\n",
              "      <th>Prediction</th>\n",
              "      <th>TrueLabel</th>\n",
              "    </tr>\n",
              "  </thead>\n",
              "  <tbody>\n",
              "    <tr>\n",
              "      <th>0</th>\n",
              "      <td>[0]</td>\n",
              "      <td>9</td>\n",
              "      <td>[9]</td>\n",
              "    </tr>\n",
              "    <tr>\n",
              "      <th>1</th>\n",
              "      <td>[1]</td>\n",
              "      <td>2</td>\n",
              "      <td>[2]</td>\n",
              "    </tr>\n",
              "    <tr>\n",
              "      <th>2</th>\n",
              "      <td>[2]</td>\n",
              "      <td>1</td>\n",
              "      <td>[1]</td>\n",
              "    </tr>\n",
              "    <tr>\n",
              "      <th>3</th>\n",
              "      <td>[3]</td>\n",
              "      <td>1</td>\n",
              "      <td>[1]</td>\n",
              "    </tr>\n",
              "    <tr>\n",
              "      <th>4</th>\n",
              "      <td>[4]</td>\n",
              "      <td>6</td>\n",
              "      <td>[6]</td>\n",
              "    </tr>\n",
              "  </tbody>\n",
              "</table>\n",
              "</div>"
            ],
            "text/plain": [
              "  Image  Prediction TrueLabel\n",
              "0   [0]           9       [9]\n",
              "1   [1]           2       [2]\n",
              "2   [2]           1       [1]\n",
              "3   [3]           1       [1]\n",
              "4   [4]           6       [6]"
            ]
          },
          "metadata": {
            "tags": []
          },
          "execution_count": 87
        }
      ]
    },
    {
      "cell_type": "code",
      "metadata": {
        "id": "Y06wWuXh1MdP",
        "colab_type": "code",
        "colab": {}
      },
      "source": [
        "#exporting dataframe to excel to make confusion matrix!\n",
        "df.to_csv('finalPred.csv')"
      ],
      "execution_count": 0,
      "outputs": []
    }
  ]
}